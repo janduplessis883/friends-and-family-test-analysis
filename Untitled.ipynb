{
 "cells": [
  {
   "cell_type": "code",
   "execution_count": 1,
   "id": "cbd62b46",
   "metadata": {},
   "outputs": [
    {
     "ename": "SyntaxError",
     "evalue": "invalid syntax (2383286581.py, line 1)",
     "output_type": "error",
     "traceback": [
      "\u001b[0;36m  Cell \u001b[0;32mIn[1], line 1\u001b[0;36m\u001b[0m\n\u001b[0;31m    python data.py\u001b[0m\n\u001b[0m           ^\u001b[0m\n\u001b[0;31mSyntaxError\u001b[0m\u001b[0;31m:\u001b[0m invalid syntax\n"
     ]
    }
   ],
   "source": [
    "python data.py\n"
   ]
  },
  {
   "cell_type": "code",
   "execution_count": 7,
   "id": "f68dee36",
   "metadata": {},
   "outputs": [
    {
     "name": "stdout",
     "output_type": "stream",
     "text": [
      "[+] Friends & Family Test Analysis - MAKE DATA\n",
      "[🏁] FUCTION: load_google_sheet()\n",
      "[✔️] Completed: load_google_sheet() - Time taken: 14.38 seconds\n",
      "[🏁] FUCTION: load_local_data()\n",
      "[✔️] Completed: load_local_data() - Time taken: 0.01 seconds\n",
      "[*] New rows to process: 5\n",
      "[🏁] FUCTION: clean_text()\n",
      "[✔️] Completed: clean_text() - Time taken: 0.00 seconds\n",
      "[🏁] FUCTION: word_count()\n",
      "[✔️] Completed: word_count() - Time taken: 0.00 seconds\n",
      "[🏁] FUCTION: add_rating_score()\n",
      "[✔️] Completed: add_rating_score() - Time taken: 0.00 seconds\n",
      "[🏁] FUCTION: anonymize()\n",
      "[✔️] Completed: anonymize() - Time taken: 0.00 seconds\n",
      "[🏁] FUCTION: feedback_classification()\n",
      "[✔️] Completed: feedback_classification() - Time taken: 12.07 seconds\n",
      "[🏁] FUCTION: sentiment_analysis()\n",
      "[✔️] Completed: sentiment_analysis() - Time taken: 0.00 seconds\n",
      "[🏁] FUCTION: improvement_classification()\n",
      "[✔️] Completed: improvement_classification() - Time taken: 2.57 seconds\n",
      "[🏁] FUCTION: textblob_sentiment()\n",
      "[✔️] Completed: textblob_sentiment() - Time taken: 0.02 seconds\n",
      "[🏁] FUCTION: concat_save_final_df()\n",
      "💾 data.csv saved to: /Users/janduplessis/code/janduplessis883/friends-and-family-test-analysis/friendsfamilytest/data\n",
      "[✔️] Completed: concat_save_final_df() - Time taken: 0.02 seconds\n",
      "[🏁] FUCTION: do_git_merge()\n",
      "[git] git status\n",
      "On branch master\n",
      "Your branch is up to date with 'origin/master'.\n",
      "\n",
      "Changes not staged for commit:\n",
      "  (use \"git add <file>...\" to update what will be committed)\n",
      "  (use \"git restore <file>...\" to discard changes in working directory)\n",
      "\tmodified:   friendsfamilytest/data/data.csv\n",
      "\tmodified:   requirements.txt\n",
      "\n",
      "Untracked files:\n",
      "  (use \"git add <file>...\" to include in what will be committed)\n",
      "\tUntitled.ipynb\n",
      "\n",
      "no changes added to commit (use \"git add\" and/or \"git commit -a\")\n",
      "[git] git add .\n",
      "[git] git commit\n",
      "[master d53bd37] Automated commit via Python script - 2024-02-21 13:08\n",
      " 3 files changed, 104 insertions(+), 2 deletions(-)\n",
      " create mode 100644 Untitled.ipynb\n",
      "[git] git push origin master\n",
      "[✔️] Completed: do_git_merge() - Time taken: 55.45 seconds\n"
     ]
    },
    {
     "name": "stderr",
     "output_type": "stream",
     "text": [
      "ssh: connect to host github.com port 22: Undefined error: 0\r\n",
      "fatal: Could not read from remote repository.\n",
      "\n",
      "Please make sure you have the correct access rights\n",
      "and the repository exists.\n"
     ]
    }
   ],
   "source": [
    "%run friendsfamilytest/data.py\n"
   ]
  },
  {
   "cell_type": "code",
   "execution_count": null,
   "id": "30b1e916",
   "metadata": {},
   "outputs": [],
   "source": [
    "%run"
   ]
  }
 ],
 "metadata": {
  "kernelspec": {
   "display_name": "Python 3 (ipykernel)",
   "language": "python",
   "name": "python3"
  },
  "language_info": {
   "codemirror_mode": {
    "name": "ipython",
    "version": 3
   },
   "file_extension": ".py",
   "mimetype": "text/x-python",
   "name": "python",
   "nbconvert_exporter": "python",
   "pygments_lexer": "ipython3",
   "version": "3.10.6"
  },
  "toc": {
   "base_numbering": 1,
   "nav_menu": {},
   "number_sections": true,
   "sideBar": true,
   "skip_h1_title": false,
   "title_cell": "Table of Contents",
   "title_sidebar": "Contents",
   "toc_cell": false,
   "toc_position": {},
   "toc_section_display": true,
   "toc_window_display": false
  }
 },
 "nbformat": 4,
 "nbformat_minor": 5
}
