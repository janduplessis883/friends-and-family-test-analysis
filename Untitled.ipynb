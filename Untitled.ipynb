{
 "cells": [
  {
   "cell_type": "code",
   "execution_count": 1,
   "id": "4859920d",
   "metadata": {},
   "outputs": [
    {
     "ename": "SyntaxError",
     "evalue": "invalid syntax (2383286581.py, line 1)",
     "output_type": "error",
     "traceback": [
      "\u001b[0;36m  Cell \u001b[0;32mIn[1], line 1\u001b[0;36m\u001b[0m\n\u001b[0;31m    python data.py\u001b[0m\n\u001b[0m           ^\u001b[0m\n\u001b[0;31mSyntaxError\u001b[0m\u001b[0;31m:\u001b[0m invalid syntax\n"
     ]
    }
   ],
   "source": [
    "python data.py\n"
   ]
  },
  {
   "cell_type": "code",
   "execution_count": null,
   "id": "9ed6d159",
   "metadata": {},
   "outputs": [
    {
     "name": "stdout",
     "output_type": "stream",
     "text": [
      "[+] Friends & Family Test Analysis - MAKE DATA\n",
      "[🏁] FUCTION: load_google_sheet()\n",
      "[✔️] Completed: load_google_sheet() - Time taken: 14.38 seconds\n",
      "[🏁] FUCTION: load_local_data()\n",
      "[✔️] Completed: load_local_data() - Time taken: 0.01 seconds\n",
      "[*] New rows to process: 5\n",
      "[🏁] FUCTION: clean_text()\n",
      "[✔️] Completed: clean_text() - Time taken: 0.00 seconds\n",
      "[🏁] FUCTION: word_count()\n",
      "[✔️] Completed: word_count() - Time taken: 0.00 seconds\n",
      "[🏁] FUCTION: add_rating_score()\n",
      "[✔️] Completed: add_rating_score() - Time taken: 0.00 seconds\n",
      "[🏁] FUCTION: anonymize()\n",
      "[✔️] Completed: anonymize() - Time taken: 0.00 seconds\n",
      "[🏁] FUCTION: feedback_classification()\n"
     ]
    }
   ],
   "source": [
    "%run friendsfamilytest/data.py\n"
   ]
  },
  {
   "cell_type": "code",
   "execution_count": null,
   "id": "6147e800",
   "metadata": {},
   "outputs": [],
   "source": []
  }
 ],
 "metadata": {
  "kernelspec": {
   "display_name": "Python 3 (ipykernel)",
   "language": "python",
   "name": "python3"
  },
  "language_info": {
   "codemirror_mode": {
    "name": "ipython",
    "version": 3
   },
   "file_extension": ".py",
   "mimetype": "text/x-python",
   "name": "python",
   "nbconvert_exporter": "python",
   "pygments_lexer": "ipython3",
   "version": "3.10.6"
  },
  "toc": {
   "base_numbering": 1,
   "nav_menu": {},
   "number_sections": true,
   "sideBar": true,
   "skip_h1_title": false,
   "title_cell": "Table of Contents",
   "title_sidebar": "Contents",
   "toc_cell": false,
   "toc_position": {},
   "toc_section_display": true,
   "toc_window_display": false
  }
 },
 "nbformat": 4,
 "nbformat_minor": 5
}
