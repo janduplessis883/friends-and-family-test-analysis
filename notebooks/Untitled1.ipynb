{
 "cells": [
  {
   "cell_type": "code",
   "execution_count": 26,
   "id": "139114bb-1ead-4ea0-8dc2-b9327a3178f3",
   "metadata": {},
   "outputs": [
    {
     "name": "stdout",
     "output_type": "stream",
     "text": [
      "The autoreload extension is already loaded. To reload it, use:\n",
      "  %reload_ext autoreload\n"
     ]
    }
   ],
   "source": [
    "from friendsfamilytest.params import *\n",
    "from friendsfamilytest.sheethelper import *\n",
    "from friendsfamilytest.data import *\n",
    "from friendsfamilytest.utils import *\n",
    "\n",
    "import pandas as pd \n",
    "import seaborn as sns\n",
    "import sketch\n",
    "import calplot\n",
    "\n",
    "from wordcloud import WordCloud\n",
    "%load_ext autoreload\n",
    "%autoreload 2\n"
   ]
  },
  {
   "cell_type": "code",
   "execution_count": 27,
   "id": "17d95bc0-c718-47da-8ea3-28a333ae5dc4",
   "metadata": {},
   "outputs": [
    {
     "name": "stderr",
     "output_type": "stream",
     "text": [
      "\u001b[32m2024-03-25 00:15:06.824\u001b[0m | \u001b[1mINFO    \u001b[0m | \u001b[36mfriendsfamilytest.utils\u001b[0m:\u001b[36mwrapper\u001b[0m:\u001b[36m100\u001b[0m - \u001b[1mFunction 'load_google_sheet' ⚡️1.898790 sec\u001b[0m\n"
     ]
    }
   ],
   "source": [
    "data = load_google_sheet()"
   ]
  },
  {
   "cell_type": "code",
   "execution_count": 28,
   "id": "b8150ee4-03cf-4e21-bb5e-86cbae91b7cd",
   "metadata": {},
   "outputs": [
    {
     "data": {
      "text/html": [
       "<div>\n",
       "<style scoped>\n",
       "    .dataframe tbody tr th:only-of-type {\n",
       "        vertical-align: middle;\n",
       "    }\n",
       "\n",
       "    .dataframe tbody tr th {\n",
       "        vertical-align: top;\n",
       "    }\n",
       "\n",
       "    .dataframe thead th {\n",
       "        text-align: right;\n",
       "    }\n",
       "</style>\n",
       "<table border=\"1\" class=\"dataframe\">\n",
       "  <thead>\n",
       "    <tr style=\"text-align: right;\">\n",
       "      <th></th>\n",
       "      <th>time</th>\n",
       "      <th>rating</th>\n",
       "      <th>free_text</th>\n",
       "      <th>do_better</th>\n",
       "      <th>surgery</th>\n",
       "    </tr>\n",
       "  </thead>\n",
       "  <tbody>\n",
       "    <tr>\n",
       "      <th>3706</th>\n",
       "      <td>2024-03-24 20:27:48</td>\n",
       "      <td>Extremely likely</td>\n",
       "      <td>Always as expected, I’m satisfied with my GP p...</td>\n",
       "      <td></td>\n",
       "      <td>Emperor's Gate Surgery</td>\n",
       "    </tr>\n",
       "    <tr>\n",
       "      <th>3707</th>\n",
       "      <td>2024-03-24 23:05:39</td>\n",
       "      <td>Extremely likely</td>\n",
       "      <td>Perfect</td>\n",
       "      <td></td>\n",
       "      <td>Emperor's Gate Surgery</td>\n",
       "    </tr>\n",
       "    <tr>\n",
       "      <th>3708</th>\n",
       "      <td>2024-03-24 23:13:59</td>\n",
       "      <td>Extremely likely</td>\n",
       "      <td>Love the surgery no complaints, all staff frie...</td>\n",
       "      <td>More oppertunity to hear what the practice is ...</td>\n",
       "      <td>Earls Court Surgery</td>\n",
       "    </tr>\n",
       "    <tr>\n",
       "      <th>3709</th>\n",
       "      <td>2024-03-24 23:31:38</td>\n",
       "      <td>Extremely likely</td>\n",
       "      <td>Sorry, I’m not good at using websites but over...</td>\n",
       "      <td></td>\n",
       "      <td>Earls Court Medical Centre</td>\n",
       "    </tr>\n",
       "    <tr>\n",
       "      <th>3710</th>\n",
       "      <td>2024-03-25 00:10:28</td>\n",
       "      <td>Extremely likely</td>\n",
       "      <td>Very happy with my surgery, thank you</td>\n",
       "      <td></td>\n",
       "      <td>Earls Court Surgery</td>\n",
       "    </tr>\n",
       "  </tbody>\n",
       "</table>\n",
       "</div>"
      ],
      "text/plain": [
       "                    time            rating  \\\n",
       "3706 2024-03-24 20:27:48  Extremely likely   \n",
       "3707 2024-03-24 23:05:39  Extremely likely   \n",
       "3708 2024-03-24 23:13:59  Extremely likely   \n",
       "3709 2024-03-24 23:31:38  Extremely likely   \n",
       "3710 2024-03-25 00:10:28  Extremely likely   \n",
       "\n",
       "                                              free_text  \\\n",
       "3706  Always as expected, I’m satisfied with my GP p...   \n",
       "3707                                           Perfect    \n",
       "3708  Love the surgery no complaints, all staff frie...   \n",
       "3709  Sorry, I’m not good at using websites but over...   \n",
       "3710             Very happy with my surgery, thank you    \n",
       "\n",
       "                                              do_better  \\\n",
       "3706                                                      \n",
       "3707                                                      \n",
       "3708  More oppertunity to hear what the practice is ...   \n",
       "3709                                                      \n",
       "3710                                                      \n",
       "\n",
       "                         surgery  \n",
       "3706      Emperor's Gate Surgery  \n",
       "3707      Emperor's Gate Surgery  \n",
       "3708         Earls Court Surgery  \n",
       "3709  Earls Court Medical Centre  \n",
       "3710         Earls Court Surgery  "
      ]
     },
     "execution_count": 28,
     "metadata": {},
     "output_type": "execute_result"
    }
   ],
   "source": [
    "data.tail()"
   ]
  },
  {
   "cell_type": "code",
   "execution_count": 29,
   "id": "ec52a5f3-b501-40c2-8c75-5bda89ff3943",
   "metadata": {},
   "outputs": [
    {
     "data": {
      "text/plain": [
       "4"
      ]
     },
     "execution_count": 29,
     "metadata": {},
     "output_type": "execute_result"
    }
   ],
   "source": [
    "data.duplicated().sum()"
   ]
  },
  {
   "cell_type": "code",
   "execution_count": 30,
   "id": "d2fa1a26-7736-448c-ba20-a01ee69b75e3",
   "metadata": {},
   "outputs": [
    {
     "name": "stdout",
     "output_type": "stream",
     "text": [
      "<class 'pandas.core.frame.DataFrame'>\n",
      "RangeIndex: 3711 entries, 0 to 3710\n",
      "Data columns (total 5 columns):\n",
      " #   Column     Non-Null Count  Dtype         \n",
      "---  ------     --------------  -----         \n",
      " 0   time       3711 non-null   datetime64[ns]\n",
      " 1   rating     3711 non-null   object        \n",
      " 2   free_text  3711 non-null   object        \n",
      " 3   do_better  3711 non-null   object        \n",
      " 4   surgery    3711 non-null   object        \n",
      "dtypes: datetime64[ns](1), object(4)\n",
      "memory usage: 145.1+ KB\n"
     ]
    }
   ],
   "source": [
    "data.info()"
   ]
  },
  {
   "cell_type": "code",
   "execution_count": 32,
   "id": "f0865a68-d390-4ab7-b3df-4ae8d50f0f34",
   "metadata": {},
   "outputs": [],
   "source": [
    "data.sort_values(by='time', inplace=True)"
   ]
  },
  {
   "cell_type": "code",
   "execution_count": 33,
   "id": "efac9fe7-6498-4d2d-ab41-aab5a1df7714",
   "metadata": {},
   "outputs": [
    {
     "data": {
      "text/html": [
       "<div>\n",
       "<style scoped>\n",
       "    .dataframe tbody tr th:only-of-type {\n",
       "        vertical-align: middle;\n",
       "    }\n",
       "\n",
       "    .dataframe tbody tr th {\n",
       "        vertical-align: top;\n",
       "    }\n",
       "\n",
       "    .dataframe thead th {\n",
       "        text-align: right;\n",
       "    }\n",
       "</style>\n",
       "<table border=\"1\" class=\"dataframe\">\n",
       "  <thead>\n",
       "    <tr style=\"text-align: right;\">\n",
       "      <th></th>\n",
       "      <th>time</th>\n",
       "      <th>rating</th>\n",
       "      <th>free_text</th>\n",
       "      <th>do_better</th>\n",
       "      <th>surgery</th>\n",
       "    </tr>\n",
       "  </thead>\n",
       "  <tbody>\n",
       "    <tr>\n",
       "      <th>0</th>\n",
       "      <td>2023-07-13 15:28:22</td>\n",
       "      <td>Extremely likely</td>\n",
       "      <td>Very friendly caring staff, treated me with re...</td>\n",
       "      <td>Keep it up</td>\n",
       "      <td>Earls Court Surgery</td>\n",
       "    </tr>\n",
       "    <tr>\n",
       "      <th>1</th>\n",
       "      <td>2023-07-13 15:29:16</td>\n",
       "      <td>Extremely likely</td>\n",
       "      <td>so good so confidential</td>\n",
       "      <td></td>\n",
       "      <td>Earls Court Surgery</td>\n",
       "    </tr>\n",
       "    <tr>\n",
       "      <th>2</th>\n",
       "      <td>2023-07-13 15:29:21</td>\n",
       "      <td>Extremely likely</td>\n",
       "      <td>The doctor was very understanding and very kno...</td>\n",
       "      <td>No. It was the best.</td>\n",
       "      <td>Earls Court Surgery</td>\n",
       "    </tr>\n",
       "    <tr>\n",
       "      <th>3</th>\n",
       "      <td>2023-07-13 15:30:10</td>\n",
       "      <td>Extremely likely</td>\n",
       "      <td>Dr E was extremely nice</td>\n",
       "      <td>the receptionist was very unkind</td>\n",
       "      <td>Earls Court Surgery</td>\n",
       "    </tr>\n",
       "    <tr>\n",
       "      <th>4</th>\n",
       "      <td>2023-07-13 15:31:48</td>\n",
       "      <td>Extremely likely</td>\n",
       "      <td>I was spoken to politely on the phone and a te...</td>\n",
       "      <td>No. I was happy with everything.</td>\n",
       "      <td>Earls Court Surgery</td>\n",
       "    </tr>\n",
       "    <tr>\n",
       "      <th>...</th>\n",
       "      <td>...</td>\n",
       "      <td>...</td>\n",
       "      <td>...</td>\n",
       "      <td>...</td>\n",
       "      <td>...</td>\n",
       "    </tr>\n",
       "    <tr>\n",
       "      <th>3706</th>\n",
       "      <td>2024-03-24 20:27:48</td>\n",
       "      <td>Extremely likely</td>\n",
       "      <td>Always as expected, I’m satisfied with my GP p...</td>\n",
       "      <td></td>\n",
       "      <td>Emperor's Gate Surgery</td>\n",
       "    </tr>\n",
       "    <tr>\n",
       "      <th>3707</th>\n",
       "      <td>2024-03-24 23:05:39</td>\n",
       "      <td>Extremely likely</td>\n",
       "      <td>Perfect</td>\n",
       "      <td></td>\n",
       "      <td>Emperor's Gate Surgery</td>\n",
       "    </tr>\n",
       "    <tr>\n",
       "      <th>3708</th>\n",
       "      <td>2024-03-24 23:13:59</td>\n",
       "      <td>Extremely likely</td>\n",
       "      <td>Love the surgery no complaints, all staff frie...</td>\n",
       "      <td>More oppertunity to hear what the practice is ...</td>\n",
       "      <td>Earls Court Surgery</td>\n",
       "    </tr>\n",
       "    <tr>\n",
       "      <th>3709</th>\n",
       "      <td>2024-03-24 23:31:38</td>\n",
       "      <td>Extremely likely</td>\n",
       "      <td>Sorry, I’m not good at using websites but over...</td>\n",
       "      <td></td>\n",
       "      <td>Earls Court Medical Centre</td>\n",
       "    </tr>\n",
       "    <tr>\n",
       "      <th>3710</th>\n",
       "      <td>2024-03-25 00:10:28</td>\n",
       "      <td>Extremely likely</td>\n",
       "      <td>Very happy with my surgery, thank you</td>\n",
       "      <td></td>\n",
       "      <td>Earls Court Surgery</td>\n",
       "    </tr>\n",
       "  </tbody>\n",
       "</table>\n",
       "<p>3711 rows × 5 columns</p>\n",
       "</div>"
      ],
      "text/plain": [
       "                    time            rating  \\\n",
       "0    2023-07-13 15:28:22  Extremely likely   \n",
       "1    2023-07-13 15:29:16  Extremely likely   \n",
       "2    2023-07-13 15:29:21  Extremely likely   \n",
       "3    2023-07-13 15:30:10  Extremely likely   \n",
       "4    2023-07-13 15:31:48  Extremely likely   \n",
       "...                  ...               ...   \n",
       "3706 2024-03-24 20:27:48  Extremely likely   \n",
       "3707 2024-03-24 23:05:39  Extremely likely   \n",
       "3708 2024-03-24 23:13:59  Extremely likely   \n",
       "3709 2024-03-24 23:31:38  Extremely likely   \n",
       "3710 2024-03-25 00:10:28  Extremely likely   \n",
       "\n",
       "                                              free_text  \\\n",
       "0     Very friendly caring staff, treated me with re...   \n",
       "1                               so good so confidential   \n",
       "2     The doctor was very understanding and very kno...   \n",
       "3                              Dr E was extremely nice    \n",
       "4     I was spoken to politely on the phone and a te...   \n",
       "...                                                 ...   \n",
       "3706  Always as expected, I’m satisfied with my GP p...   \n",
       "3707                                           Perfect    \n",
       "3708  Love the surgery no complaints, all staff frie...   \n",
       "3709  Sorry, I’m not good at using websites but over...   \n",
       "3710             Very happy with my surgery, thank you    \n",
       "\n",
       "                                              do_better  \\\n",
       "0                                            Keep it up   \n",
       "1                                                         \n",
       "2                                  No. It was the best.   \n",
       "3                     the receptionist was very unkind    \n",
       "4                    No. I was happy with everything.     \n",
       "...                                                 ...   \n",
       "3706                                                      \n",
       "3707                                                      \n",
       "3708  More oppertunity to hear what the practice is ...   \n",
       "3709                                                      \n",
       "3710                                                      \n",
       "\n",
       "                         surgery  \n",
       "0            Earls Court Surgery  \n",
       "1            Earls Court Surgery  \n",
       "2            Earls Court Surgery  \n",
       "3            Earls Court Surgery  \n",
       "4            Earls Court Surgery  \n",
       "...                          ...  \n",
       "3706      Emperor's Gate Surgery  \n",
       "3707      Emperor's Gate Surgery  \n",
       "3708         Earls Court Surgery  \n",
       "3709  Earls Court Medical Centre  \n",
       "3710         Earls Court Surgery  \n",
       "\n",
       "[3711 rows x 5 columns]"
      ]
     },
     "execution_count": 33,
     "metadata": {},
     "output_type": "execute_result"
    }
   ],
   "source": [
    "data"
   ]
  },
  {
   "cell_type": "code",
   "execution_count": null,
   "id": "89311db6-3546-42c7-b850-da924dd1ba76",
   "metadata": {},
   "outputs": [],
   "source": [
    "for index, row in data.iterrows():\n",
    "    print(row['free_text'])\n",
    "    print(index)"
   ]
  },
  {
   "cell_type": "code",
   "execution_count": 2,
   "id": "3b9c1ac7-1b2f-4bd1-93f4-23bc438b6e21",
   "metadata": {},
   "outputs": [],
   "source": [
    "data2 = pd.read_csv('../friendsfamilytest/data/data.csv')"
   ]
  },
  {
   "cell_type": "code",
   "execution_count": 3,
   "id": "e510e726-b0c5-4851-8f8a-2690f27767fe",
   "metadata": {},
   "outputs": [
    {
     "data": {
      "text/html": [
       "<div>\n",
       "<style scoped>\n",
       "    .dataframe tbody tr th:only-of-type {\n",
       "        vertical-align: middle;\n",
       "    }\n",
       "\n",
       "    .dataframe tbody tr th {\n",
       "        vertical-align: top;\n",
       "    }\n",
       "\n",
       "    .dataframe thead th {\n",
       "        text-align: right;\n",
       "    }\n",
       "</style>\n",
       "<table border=\"1\" class=\"dataframe\">\n",
       "  <thead>\n",
       "    <tr style=\"text-align: right;\">\n",
       "      <th></th>\n",
       "      <th>time</th>\n",
       "      <th>rating</th>\n",
       "      <th>free_text</th>\n",
       "      <th>do_better</th>\n",
       "      <th>surgery</th>\n",
       "      <th>free_text_len</th>\n",
       "      <th>do_better_len</th>\n",
       "      <th>rating_score</th>\n",
       "      <th>classif</th>\n",
       "      <th>classif_scores</th>\n",
       "      <th>sentiment</th>\n",
       "      <th>sentiment_score</th>\n",
       "      <th>improvement_labels</th>\n",
       "      <th>feedback_labels</th>\n",
       "    </tr>\n",
       "  </thead>\n",
       "  <tbody>\n",
       "    <tr>\n",
       "      <th>0</th>\n",
       "      <td>2023-07-13 15:28:22</td>\n",
       "      <td>Extremely likely</td>\n",
       "      <td>Very friendly caring staff, treated me with re...</td>\n",
       "      <td>NaN</td>\n",
       "      <td>Earls Court Surgery</td>\n",
       "      <td>13.0</td>\n",
       "      <td>3</td>\n",
       "      <td>5.0</td>\n",
       "      <td>NaN</td>\n",
       "      <td>NaN</td>\n",
       "      <td>positive</td>\n",
       "      <td>0.909031</td>\n",
       "      <td>NaN</td>\n",
       "      <td>Overall Patient Satisfaction</td>\n",
       "    </tr>\n",
       "    <tr>\n",
       "      <th>1</th>\n",
       "      <td>2023-07-13 15:29:16</td>\n",
       "      <td>Extremely likely</td>\n",
       "      <td>so good so confidential</td>\n",
       "      <td>NaN</td>\n",
       "      <td>Earls Court Surgery</td>\n",
       "      <td>4.0</td>\n",
       "      <td>0</td>\n",
       "      <td>5.0</td>\n",
       "      <td>NaN</td>\n",
       "      <td>NaN</td>\n",
       "      <td>positive</td>\n",
       "      <td>0.925523</td>\n",
       "      <td>NaN</td>\n",
       "      <td>Patient Privacy and Confidentiality</td>\n",
       "    </tr>\n",
       "    <tr>\n",
       "      <th>2</th>\n",
       "      <td>2023-07-13 15:29:21</td>\n",
       "      <td>Extremely likely</td>\n",
       "      <td>The doctor was very understanding and very kno...</td>\n",
       "      <td>No. It was the best.</td>\n",
       "      <td>Earls Court Surgery</td>\n",
       "      <td>8.0</td>\n",
       "      <td>5</td>\n",
       "      <td>5.0</td>\n",
       "      <td>NaN</td>\n",
       "      <td>NaN</td>\n",
       "      <td>positive</td>\n",
       "      <td>0.971687</td>\n",
       "      <td>Overall Patient Satisfaction</td>\n",
       "      <td>Medical Staff Competence</td>\n",
       "    </tr>\n",
       "    <tr>\n",
       "      <th>3</th>\n",
       "      <td>2023-07-13 15:30:10</td>\n",
       "      <td>Extremely likely</td>\n",
       "      <td>Dr [PERSON] was extremely nice</td>\n",
       "      <td>the receptionist was very unkind</td>\n",
       "      <td>Earls Court Surgery</td>\n",
       "      <td>5.0</td>\n",
       "      <td>5</td>\n",
       "      <td>5.0</td>\n",
       "      <td>NaN</td>\n",
       "      <td>NaN</td>\n",
       "      <td>positive</td>\n",
       "      <td>0.982086</td>\n",
       "      <td>Reception Staff Interaction</td>\n",
       "      <td>Patient-Doctor Communication</td>\n",
       "    </tr>\n",
       "    <tr>\n",
       "      <th>4</th>\n",
       "      <td>2023-07-13 15:31:48</td>\n",
       "      <td>Extremely likely</td>\n",
       "      <td>I was spoken to politely on the phone and a te...</td>\n",
       "      <td>No. I was happy with everything.</td>\n",
       "      <td>Earls Court Surgery</td>\n",
       "      <td>44.0</td>\n",
       "      <td>6</td>\n",
       "      <td>5.0</td>\n",
       "      <td>NaN</td>\n",
       "      <td>NaN</td>\n",
       "      <td>neutral</td>\n",
       "      <td>0.755115</td>\n",
       "      <td>Overall Patient Satisfaction</td>\n",
       "      <td>Follow-Up and Continuity of Care</td>\n",
       "    </tr>\n",
       "  </tbody>\n",
       "</table>\n",
       "</div>"
      ],
      "text/plain": [
       "                  time            rating  \\\n",
       "0  2023-07-13 15:28:22  Extremely likely   \n",
       "1  2023-07-13 15:29:16  Extremely likely   \n",
       "2  2023-07-13 15:29:21  Extremely likely   \n",
       "3  2023-07-13 15:30:10  Extremely likely   \n",
       "4  2023-07-13 15:31:48  Extremely likely   \n",
       "\n",
       "                                           free_text  \\\n",
       "0  Very friendly caring staff, treated me with re...   \n",
       "1                            so good so confidential   \n",
       "2  The doctor was very understanding and very kno...   \n",
       "3                    Dr [PERSON] was extremely nice    \n",
       "4  I was spoken to politely on the phone and a te...   \n",
       "\n",
       "                            do_better              surgery  free_text_len  \\\n",
       "0                                 NaN  Earls Court Surgery           13.0   \n",
       "1                                 NaN  Earls Court Surgery            4.0   \n",
       "2                No. It was the best.  Earls Court Surgery            8.0   \n",
       "3   the receptionist was very unkind   Earls Court Surgery            5.0   \n",
       "4  No. I was happy with everything.    Earls Court Surgery           44.0   \n",
       "\n",
       "   do_better_len  rating_score  classif  classif_scores sentiment  \\\n",
       "0              3           5.0      NaN             NaN  positive   \n",
       "1              0           5.0      NaN             NaN  positive   \n",
       "2              5           5.0      NaN             NaN  positive   \n",
       "3              5           5.0      NaN             NaN  positive   \n",
       "4              6           5.0      NaN             NaN   neutral   \n",
       "\n",
       "   sentiment_score            improvement_labels  \\\n",
       "0         0.909031                           NaN   \n",
       "1         0.925523                           NaN   \n",
       "2         0.971687  Overall Patient Satisfaction   \n",
       "3         0.982086   Reception Staff Interaction   \n",
       "4         0.755115  Overall Patient Satisfaction   \n",
       "\n",
       "                       feedback_labels  \n",
       "0         Overall Patient Satisfaction  \n",
       "1  Patient Privacy and Confidentiality  \n",
       "2             Medical Staff Competence  \n",
       "3         Patient-Doctor Communication  \n",
       "4     Follow-Up and Continuity of Care  "
      ]
     },
     "execution_count": 3,
     "metadata": {},
     "output_type": "execute_result"
    }
   ],
   "source": [
    "data2.head()"
   ]
  },
  {
   "cell_type": "code",
   "execution_count": 16,
   "id": "7289e21e-093f-4078-93d7-1196157ae7d1",
   "metadata": {},
   "outputs": [],
   "source": [
    "data2.columns\n",
    "data2['time'] = pd.to_datetime(data2['time'])"
   ]
  },
  {
   "cell_type": "code",
   "execution_count": 17,
   "id": "d040735d-ff1a-4d65-a0a7-28fb77885672",
   "metadata": {},
   "outputs": [],
   "source": [
    "data2.drop(columns=['polarity', 'subjectivity', 'neg', 'neu', 'pos', 'compound'], inplace=True)"
   ]
  },
  {
   "cell_type": "code",
   "execution_count": 18,
   "id": "058cdb02-e4b1-450d-9b63-51c4dfeb36c8",
   "metadata": {},
   "outputs": [
    {
     "ename": "TypeError",
     "evalue": "Only valid with DatetimeIndex, TimedeltaIndex or PeriodIndex, but got an instance of 'RangeIndex'",
     "output_type": "error",
     "traceback": [
      "\u001b[0;31m---------------------------------------------------------------------------\u001b[0m",
      "\u001b[0;31mTypeError\u001b[0m                                 Traceback (most recent call last)",
      "Cell \u001b[0;32mIn[18], line 2\u001b[0m\n\u001b[1;32m      1\u001b[0m \u001b[38;5;66;03m# Group by sentiment and resample by week, then calculate the mean sentiment_score\u001b[39;00m\n\u001b[0;32m----> 2\u001b[0m weekly_sentiment_means_adjusted \u001b[38;5;241m=\u001b[39m \u001b[43mdata2\u001b[49m\u001b[38;5;241;43m.\u001b[39;49m\u001b[43mgroupby\u001b[49m\u001b[43m(\u001b[49m\u001b[38;5;124;43m'\u001b[39;49m\u001b[38;5;124;43msentiment\u001b[39;49m\u001b[38;5;124;43m'\u001b[39;49m\u001b[43m)\u001b[49m\u001b[38;5;241;43m.\u001b[39;49m\u001b[43mresample\u001b[49m\u001b[43m(\u001b[49m\u001b[38;5;124;43m'\u001b[39;49m\u001b[38;5;124;43mW\u001b[39;49m\u001b[38;5;124;43m'\u001b[39;49m\u001b[43m)\u001b[49m[\u001b[38;5;124m'\u001b[39m\u001b[38;5;124msentiment_score\u001b[39m\u001b[38;5;124m'\u001b[39m]\u001b[38;5;241m.\u001b[39mmean()\u001b[38;5;241m.\u001b[39munstack(level\u001b[38;5;241m=\u001b[39m\u001b[38;5;241m0\u001b[39m)\n\u001b[1;32m      4\u001b[0m \u001b[38;5;66;03m# Fill any possible NaN values with 0 (assuming no sentiment means neutral)\u001b[39;00m\n\u001b[1;32m      5\u001b[0m weekly_sentiment_means_adjusted \u001b[38;5;241m=\u001b[39m weekly_sentiment_means_adjusted\u001b[38;5;241m.\u001b[39mfillna(\u001b[38;5;241m0\u001b[39m)\n",
      "File \u001b[0;32m~/.pyenv/versions/3.10.6/envs/friends2/lib/python3.10/site-packages/pandas/core/groupby/groupby.py:2803\u001b[0m, in \u001b[0;36mGroupBy.resample\u001b[0;34m(self, rule, *args, **kwargs)\u001b[0m\n\u001b[1;32m   2705\u001b[0m \u001b[38;5;250m\u001b[39m\u001b[38;5;124;03m\"\"\"\u001b[39;00m\n\u001b[1;32m   2706\u001b[0m \u001b[38;5;124;03mProvide resampling when using a TimeGrouper.\u001b[39;00m\n\u001b[1;32m   2707\u001b[0m \n\u001b[0;32m   (...)\u001b[0m\n\u001b[1;32m   2799\u001b[0m \u001b[38;5;124;03m5   2000-01-01 00:03:00  5  1\u001b[39;00m\n\u001b[1;32m   2800\u001b[0m \u001b[38;5;124;03m\"\"\"\u001b[39;00m\n\u001b[1;32m   2801\u001b[0m \u001b[38;5;28;01mfrom\u001b[39;00m \u001b[38;5;21;01mpandas\u001b[39;00m\u001b[38;5;21;01m.\u001b[39;00m\u001b[38;5;21;01mcore\u001b[39;00m\u001b[38;5;21;01m.\u001b[39;00m\u001b[38;5;21;01mresample\u001b[39;00m \u001b[38;5;28;01mimport\u001b[39;00m get_resampler_for_grouping\n\u001b[0;32m-> 2803\u001b[0m \u001b[38;5;28;01mreturn\u001b[39;00m \u001b[43mget_resampler_for_grouping\u001b[49m\u001b[43m(\u001b[49m\u001b[38;5;28;43mself\u001b[39;49m\u001b[43m,\u001b[49m\u001b[43m \u001b[49m\u001b[43mrule\u001b[49m\u001b[43m,\u001b[49m\u001b[43m \u001b[49m\u001b[38;5;241;43m*\u001b[39;49m\u001b[43margs\u001b[49m\u001b[43m,\u001b[49m\u001b[43m \u001b[49m\u001b[38;5;241;43m*\u001b[39;49m\u001b[38;5;241;43m*\u001b[39;49m\u001b[43mkwargs\u001b[49m\u001b[43m)\u001b[49m\n",
      "File \u001b[0;32m~/.pyenv/versions/3.10.6/envs/friends2/lib/python3.10/site-packages/pandas/core/resample.py:1558\u001b[0m, in \u001b[0;36mget_resampler_for_grouping\u001b[0;34m(groupby, rule, how, fill_method, limit, kind, on, **kwargs)\u001b[0m\n\u001b[1;32m   1556\u001b[0m \u001b[38;5;66;03m# .resample uses 'on' similar to how .groupby uses 'key'\u001b[39;00m\n\u001b[1;32m   1557\u001b[0m tg \u001b[38;5;241m=\u001b[39m TimeGrouper(freq\u001b[38;5;241m=\u001b[39mrule, key\u001b[38;5;241m=\u001b[39mon, \u001b[38;5;241m*\u001b[39m\u001b[38;5;241m*\u001b[39mkwargs)\n\u001b[0;32m-> 1558\u001b[0m resampler \u001b[38;5;241m=\u001b[39m \u001b[43mtg\u001b[49m\u001b[38;5;241;43m.\u001b[39;49m\u001b[43m_get_resampler\u001b[49m\u001b[43m(\u001b[49m\u001b[43mgroupby\u001b[49m\u001b[38;5;241;43m.\u001b[39;49m\u001b[43mobj\u001b[49m\u001b[43m,\u001b[49m\u001b[43m \u001b[49m\u001b[43mkind\u001b[49m\u001b[38;5;241;43m=\u001b[39;49m\u001b[43mkind\u001b[49m\u001b[43m)\u001b[49m\n\u001b[1;32m   1559\u001b[0m \u001b[38;5;28;01mreturn\u001b[39;00m resampler\u001b[38;5;241m.\u001b[39m_get_resampler_for_grouping(groupby\u001b[38;5;241m=\u001b[39mgroupby, key\u001b[38;5;241m=\u001b[39mtg\u001b[38;5;241m.\u001b[39mkey)\n",
      "File \u001b[0;32m~/.pyenv/versions/3.10.6/envs/friends2/lib/python3.10/site-packages/pandas/core/resample.py:1725\u001b[0m, in \u001b[0;36mTimeGrouper._get_resampler\u001b[0;34m(self, obj, kind)\u001b[0m\n\u001b[1;32m   1720\u001b[0m \u001b[38;5;28;01melif\u001b[39;00m \u001b[38;5;28misinstance\u001b[39m(ax, TimedeltaIndex):\n\u001b[1;32m   1721\u001b[0m     \u001b[38;5;28;01mreturn\u001b[39;00m TimedeltaIndexResampler(\n\u001b[1;32m   1722\u001b[0m         obj, groupby\u001b[38;5;241m=\u001b[39m\u001b[38;5;28mself\u001b[39m, axis\u001b[38;5;241m=\u001b[39m\u001b[38;5;28mself\u001b[39m\u001b[38;5;241m.\u001b[39maxis, group_keys\u001b[38;5;241m=\u001b[39m\u001b[38;5;28mself\u001b[39m\u001b[38;5;241m.\u001b[39mgroup_keys\n\u001b[1;32m   1723\u001b[0m     )\n\u001b[0;32m-> 1725\u001b[0m \u001b[38;5;28;01mraise\u001b[39;00m \u001b[38;5;167;01mTypeError\u001b[39;00m(\n\u001b[1;32m   1726\u001b[0m     \u001b[38;5;124m\"\u001b[39m\u001b[38;5;124mOnly valid with DatetimeIndex, \u001b[39m\u001b[38;5;124m\"\u001b[39m\n\u001b[1;32m   1727\u001b[0m     \u001b[38;5;124m\"\u001b[39m\u001b[38;5;124mTimedeltaIndex or PeriodIndex, \u001b[39m\u001b[38;5;124m\"\u001b[39m\n\u001b[1;32m   1728\u001b[0m     \u001b[38;5;124mf\u001b[39m\u001b[38;5;124m\"\u001b[39m\u001b[38;5;124mbut got an instance of \u001b[39m\u001b[38;5;124m'\u001b[39m\u001b[38;5;132;01m{\u001b[39;00m\u001b[38;5;28mtype\u001b[39m(ax)\u001b[38;5;241m.\u001b[39m\u001b[38;5;18m__name__\u001b[39m\u001b[38;5;132;01m}\u001b[39;00m\u001b[38;5;124m'\u001b[39m\u001b[38;5;124m\"\u001b[39m\n\u001b[1;32m   1729\u001b[0m )\n",
      "\u001b[0;31mTypeError\u001b[0m: Only valid with DatetimeIndex, TimedeltaIndex or PeriodIndex, but got an instance of 'RangeIndex'"
     ]
    }
   ],
   "source": [
    "# Group by sentiment and resample by week, then calculate the mean sentiment_score\n",
    "weekly_sentiment_means_adjusted = data2.groupby('sentiment').resample('W')['sentiment_score'].mean().unstack(level=0)\n",
    "\n",
    "# Fill any possible NaN values with 0 (assuming no sentiment means neutral)\n",
    "weekly_sentiment_means_adjusted = weekly_sentiment_means_adjusted.fillna(0)\n",
    "\n",
    "weekly_sentiment_means_adjusted.head()"
   ]
  },
  {
   "cell_type": "code",
   "execution_count": 19,
   "id": "052c433f-a727-4e2b-a431-d13ec7b05dc6",
   "metadata": {},
   "outputs": [],
   "source": [
    "import matplotlib\n",
    "matplotlib.use('TkAgg')  # Use 'Agg', 'TkAgg', 'Qt4Agg', 'Qt5Agg', etc., depending on your preferences and environment\n",
    "import matplotlib.pyplot as plt"
   ]
  },
  {
   "cell_type": "code",
   "execution_count": 20,
   "id": "3b2ba870-3f72-4df3-bf77-c7d2af95a7b7",
   "metadata": {},
   "outputs": [
    {
     "ename": "NameError",
     "evalue": "name 'weekly_sentiment_means_adjusted' is not defined",
     "output_type": "error",
     "traceback": [
      "\u001b[0;31m---------------------------------------------------------------------------\u001b[0m",
      "\u001b[0;31mNameError\u001b[0m                                 Traceback (most recent call last)",
      "Cell \u001b[0;32mIn[20], line 4\u001b[0m\n\u001b[1;32m      1\u001b[0m \u001b[38;5;28;01mimport\u001b[39;00m \u001b[38;5;21;01mseaborn\u001b[39;00m \u001b[38;5;28;01mas\u001b[39;00m \u001b[38;5;21;01msns\u001b[39;00m\n\u001b[1;32m      3\u001b[0m \u001b[38;5;66;03m# Melting the DataFrame to long format for easier plotting with seaborn\u001b[39;00m\n\u001b[0;32m----> 4\u001b[0m data_long \u001b[38;5;241m=\u001b[39m \u001b[43mweekly_sentiment_means_adjusted\u001b[49m\u001b[38;5;241m.\u001b[39mreset_index()\u001b[38;5;241m.\u001b[39mmelt(id_vars\u001b[38;5;241m=\u001b[39m\u001b[38;5;124m'\u001b[39m\u001b[38;5;124mtime\u001b[39m\u001b[38;5;124m'\u001b[39m, var_name\u001b[38;5;241m=\u001b[39m\u001b[38;5;124m'\u001b[39m\u001b[38;5;124mSentiment\u001b[39m\u001b[38;5;124m'\u001b[39m, value_name\u001b[38;5;241m=\u001b[39m\u001b[38;5;124m'\u001b[39m\u001b[38;5;124mAverage Score\u001b[39m\u001b[38;5;124m'\u001b[39m)\n\u001b[1;32m      6\u001b[0m \u001b[38;5;66;03m# Creating the plot\u001b[39;00m\n\u001b[1;32m      7\u001b[0m plt\u001b[38;5;241m.\u001b[39mfigure(figsize\u001b[38;5;241m=\u001b[39m(\u001b[38;5;241m12\u001b[39m, \u001b[38;5;241m6\u001b[39m))\n",
      "\u001b[0;31mNameError\u001b[0m: name 'weekly_sentiment_means_adjusted' is not defined"
     ]
    }
   ],
   "source": [
    "import seaborn as sns\n",
    "\n",
    "# Melting the DataFrame to long format for easier plotting with seaborn\n",
    "data_long = weekly_sentiment_means_adjusted.reset_index().melt(id_vars='time', var_name='Sentiment', value_name='Average Score')\n",
    "\n",
    "# Creating the plot\n",
    "plt.figure(figsize=(12, 6))\n",
    "sns.lineplot(data=data_long, x='time', y='Average Score', hue='Sentiment', marker='o')\n",
    "\n",
    "plt.title('Weekly Sentiment Score Averages', fontsize=16)\n",
    "plt.xlabel('Week', fontsize=12)\n",
    "plt.ylabel('Average Sentiment Score', fontsize=12)\n",
    "plt.legend(title='Sentiment')\n",
    "plt.tight_layout()\n",
    "plt.show()"
   ]
  },
  {
   "cell_type": "code",
   "execution_count": 21,
   "id": "3792080d-8b6d-46a6-8ad9-d51ff29e408a",
   "metadata": {},
   "outputs": [
    {
     "ename": "NameError",
     "evalue": "name 'data2_weekly' is not defined",
     "output_type": "error",
     "traceback": [
      "\u001b[0;31m---------------------------------------------------------------------------\u001b[0m",
      "\u001b[0;31mNameError\u001b[0m                                 Traceback (most recent call last)",
      "Cell \u001b[0;32mIn[21], line 1\u001b[0m\n\u001b[0;32m----> 1\u001b[0m \u001b[43mdata2_weekly\u001b[49m\n",
      "\u001b[0;31mNameError\u001b[0m: name 'data2_weekly' is not defined"
     ]
    }
   ],
   "source": [
    "data2_weekly"
   ]
  },
  {
   "cell_type": "code",
   "execution_count": null,
   "id": "8957ef27-95ce-4b66-b61a-7d9189f897da",
   "metadata": {},
   "outputs": [],
   "source": [
    "!pip install --upgrade matplotlib"
   ]
  },
  {
   "cell_type": "code",
   "execution_count": null,
   "id": "ae254ffd-7a3d-4ef2-a3a3-50cbd6f2d043",
   "metadata": {},
   "outputs": [],
   "source": []
  },
  {
   "cell_type": "code",
   "execution_count": null,
   "id": "8c8ad7ec-540d-4c30-939e-834291f66515",
   "metadata": {},
   "outputs": [],
   "source": []
  },
  {
   "cell_type": "code",
   "execution_count": null,
   "id": "3f7c6c77-9904-4786-9da0-3c5f8e71e542",
   "metadata": {},
   "outputs": [],
   "source": []
  },
  {
   "cell_type": "code",
   "execution_count": null,
   "id": "02673dc0-1dfc-40f1-8447-a05fcc941919",
   "metadata": {},
   "outputs": [],
   "source": [
    "def check_column_length(dataframe):\n",
    "    short_phrases = []\n",
    "\n",
    "    # Iterate over each entry in the 'do_better' column\n",
    "    for entry in dataframe['free_text']:\n",
    "        # Count the number of words in the entry\n",
    "        word_count = len(str(entry).split())\n",
    "\n",
    "        # Check if the word count is less than 5\n",
    "        if word_count < 30:\n",
    "            short_phrases.append(entry)\n",
    "\n",
    "    # Print the list of entries with fewer than 5 words\n",
    "    print(\"Entries with fewer than 5 words:\", short_phrases)\n",
    "\n",
    "# Example usage\n",
    "# Assuming 'df' is your DataFrame and it has a column named 'do_better'\n",
    "# df = pd.DataFrame({'do_better': ['Improve communication', 'Be more timely', 'Feedback', 'Enhance portal usability', 'Listen more']})\n",
    "# check_do_better_column(df)"
   ]
  },
  {
   "cell_type": "code",
   "execution_count": null,
   "id": "332a0a4d-0319-4e26-bcb3-39351a4d4241",
   "metadata": {},
   "outputs": [],
   "source": [
    "check_column_length(data)"
   ]
  },
  {
   "cell_type": "code",
   "execution_count": null,
   "id": "c1a08811-f171-455e-a0db-f7e011367f9b",
   "metadata": {},
   "outputs": [],
   "source": [
    "def check_column_length(dataframe, column_name, word_count_length):\n",
    "    # Iterate over each entry in the specified column\n",
    "    for index, entry in enumerate(dataframe[column_name]):\n",
    "        # Count the number of words in the entry\n",
    "        word_count = len(str(entry).split())\n",
    "\n",
    "        # Check if the word count is less than the specified limit\n",
    "        if word_count < word_count_length:\n",
    "            # Replace with NaN if the condition is met\n",
    "            dataframe.at[index, column_name] = pd.nan\n",
    "\n",
    "    return dataframe"
   ]
  },
  {
   "cell_type": "code",
   "execution_count": null,
   "id": "afdbf2eb-f911-4954-be11-103ea25d6533",
   "metadata": {},
   "outputs": [],
   "source": [
    "check_column_length(data2, 'do_better', 4)"
   ]
  },
  {
   "cell_type": "code",
   "execution_count": null,
   "id": "61ff833e-1d10-4655-a517-da7b25531044",
   "metadata": {},
   "outputs": [],
   "source": [
    "check_column_length(data2, 'free_text', 2)"
   ]
  },
  {
   "cell_type": "code",
   "execution_count": 11,
   "id": "64e9f059-094d-4833-9657-31449498c46a",
   "metadata": {},
   "outputs": [],
   "source": [
    "data = pd.read_csv('../friendsfamilytest/data/data.csv')"
   ]
  },
  {
   "cell_type": "code",
   "execution_count": null,
   "id": "8d4ea0d9-9037-46e7-9482-904c10666986",
   "metadata": {},
   "outputs": [],
   "source": [
    "data2.head(30)"
   ]
  },
  {
   "cell_type": "code",
   "execution_count": null,
   "id": "e305513a-2488-416b-be75-aef54eff25aa",
   "metadata": {},
   "outputs": [],
   "source": [
    "import numpy as np"
   ]
  },
  {
   "cell_type": "code",
   "execution_count": null,
   "id": "57233744-2d71-48f7-af24-818c3312a97d",
   "metadata": {},
   "outputs": [],
   "source": [
    "data2.loc[data2['do_better_len'] < 5, 'do_better'] = np.nan\n",
    "data2.loc[data2['do_better_len'] < 5, 'improvement_labels'] = np.nan"
   ]
  },
  {
   "cell_type": "code",
   "execution_count": null,
   "id": "6c31121e-1ab4-4e06-b9fc-639e2a0468ff",
   "metadata": {},
   "outputs": [],
   "source": [
    "data2.head(10)"
   ]
  },
  {
   "cell_type": "code",
   "execution_count": null,
   "id": "1f6b1e1d-db43-4647-ae27-b2fd1fbbacbf",
   "metadata": {},
   "outputs": [],
   "source": [
    "data2.loc[data2['free_text_len'] < 3, 'free_text'] = np.nan\n",
    "data2.loc[data2['free_text_len'] < 3, 'feedback_labels'] = np.nan"
   ]
  },
  {
   "cell_type": "code",
   "execution_count": null,
   "id": "385bf93e-ab7e-4f91-aa1f-7dabcd326388",
   "metadata": {},
   "outputs": [],
   "source": [
    "data2.head(30)"
   ]
  },
  {
   "cell_type": "code",
   "execution_count": null,
   "id": "1a495fc8-5ae2-4ae5-8847-2e1d5894dbd2",
   "metadata": {},
   "outputs": [],
   "source": [
    "data2.shape"
   ]
  },
  {
   "cell_type": "code",
   "execution_count": null,
   "id": "c0cc1c30-bfe5-4231-adf2-ff888fb3c6cc",
   "metadata": {},
   "outputs": [],
   "source": [
    "# Saving the indexes corresponding to rows\n",
    "boolean_mask = (data2['free_text_len']> 10)\n",
    "\n",
    "# Applying the boolean filteraing\n",
    "data3 = data2[boolean_mask].reset_index(drop=True)"
   ]
  },
  {
   "cell_type": "code",
   "execution_count": null,
   "id": "021c0445-cf14-4e2c-99b5-a01bd6b4ad08",
   "metadata": {},
   "outputs": [],
   "source": [
    "data3"
   ]
  },
  {
   "cell_type": "code",
   "execution_count": null,
   "id": "25bfae37-cc45-4536-bff8-34c54aa2178d",
   "metadata": {},
   "outputs": [],
   "source": [
    "data3.columns"
   ]
  },
  {
   "cell_type": "code",
   "execution_count": null,
   "id": "4f42eebc-2bd4-42cd-ae48-1372f13da2b4",
   "metadata": {},
   "outputs": [],
   "source": [
    "data3[['time', 'rating', 'free_text', 'do_better', 'surgery', 'free_text_len',\n",
    "       'do_better_len', 'rating_score', 'classif', 'classif_scores',\n",
    "       'sentiment', 'sentiment_score', 'improvement_labels', 'polarity',\n",
    "       'subjectivity', 'feedback_labels']]"
   ]
  },
  {
   "cell_type": "code",
   "execution_count": null,
   "id": "abb7b66d-cf8b-4b15-9b79-f81332c85a9b",
   "metadata": {},
   "outputs": [],
   "source": [
    "data3.drop(columns=['neg', 'neu', 'pos', 'compound'], inplace=True)"
   ]
  },
  {
   "cell_type": "code",
   "execution_count": null,
   "id": "dfead9e9-1544-4df9-832e-48f5f71871ed",
   "metadata": {},
   "outputs": [],
   "source": [
    "data3"
   ]
  },
  {
   "cell_type": "code",
   "execution_count": null,
   "id": "241300e1-5f0f-4190-8fe3-3f6e6ec10283",
   "metadata": {},
   "outputs": [],
   "source": [
    "import sketch\n",
    "data3.sketch.ask(\"WHat is the average Neutral sentiment score?\")"
   ]
  },
  {
   "cell_type": "code",
   "execution_count": null,
   "id": "a14f2f44-55e2-4596-8e49-44b2c6e3c2a2",
   "metadata": {},
   "outputs": [],
   "source": [
    "data = pd.read_csv('../friendsfamilytest/data/data.csv')"
   ]
  },
  {
   "cell_type": "code",
   "execution_count": null,
   "id": "673c5f7f-0af9-40d2-ada3-8d9bf0987949",
   "metadata": {},
   "outputs": [],
   "source": [
    "data"
   ]
  },
  {
   "cell_type": "code",
   "execution_count": null,
   "id": "97984aa4-6bd0-40e7-b272-f41970a17dc1",
   "metadata": {},
   "outputs": [],
   "source": [
    "data = clean_data(data)"
   ]
  },
  {
   "cell_type": "code",
   "execution_count": null,
   "id": "afe0cb3b-0715-4855-840f-0ce766a9f1f9",
   "metadata": {},
   "outputs": [],
   "source": [
    "data.head(30)"
   ]
  },
  {
   "cell_type": "code",
   "execution_count": null,
   "id": "a927c428-b0bb-41f6-87a8-8394aaf4aedf",
   "metadata": {},
   "outputs": [],
   "source": [
    "data.to_csv('data.csv', index=False)"
   ]
  },
  {
   "cell_type": "code",
   "execution_count": 7,
   "id": "2ccdf6ef-2182-44fb-a706-4801874eca9c",
   "metadata": {},
   "outputs": [
    {
     "ename": "AttributeError",
     "evalue": "'RangeIndex' object has no attribute 'year'",
     "output_type": "error",
     "traceback": [
      "\u001b[0;31m---------------------------------------------------------------------------\u001b[0m",
      "\u001b[0;31mAttributeError\u001b[0m                            Traceback (most recent call last)",
      "Cell \u001b[0;32mIn[7], line 1\u001b[0m\n\u001b[0;32m----> 1\u001b[0m \u001b[43mcalplot\u001b[49m\u001b[38;5;241;43m.\u001b[39;49m\u001b[43mcalplot\u001b[49m\u001b[43m(\u001b[49m\u001b[43mdata2\u001b[49m\u001b[43m[\u001b[49m\u001b[38;5;124;43m'\u001b[39;49m\u001b[38;5;124;43msentiment_score\u001b[39;49m\u001b[38;5;124;43m'\u001b[39;49m\u001b[43m]\u001b[49m\u001b[43m,\u001b[49m\u001b[43m \u001b[49m\u001b[43mcmap\u001b[49m\u001b[38;5;241;43m=\u001b[39;49m\u001b[38;5;124;43m'\u001b[39;49m\u001b[38;5;124;43mYlGn\u001b[39;49m\u001b[38;5;124;43m'\u001b[39;49m\u001b[43m,\u001b[49m\u001b[43m \u001b[49m\u001b[43medgecolor\u001b[49m\u001b[38;5;241;43m=\u001b[39;49m\u001b[38;5;124;43m'\u001b[39;49m\u001b[38;5;124;43mblack\u001b[39;49m\u001b[38;5;124;43m'\u001b[39;49m\u001b[43m)\u001b[49m\n",
      "File \u001b[0;32m~/.pyenv/versions/3.10.6/envs/friends2/lib/python3.10/site-packages/calplot/calplot.py:303\u001b[0m, in \u001b[0;36mcalplot\u001b[0;34m(data, how, yearlabels, yearascending, yearlabel_kws, subplot_kws, gridspec_kws, figsize, fig_kws, colorbar, suptitle, suptitle_kws, tight_layout, **kwargs)\u001b[0m\n\u001b[1;32m    300\u001b[0m \u001b[38;5;28;01mif\u001b[39;00m suptitle_kws \u001b[38;5;129;01mis\u001b[39;00m \u001b[38;5;28;01mNone\u001b[39;00m:\n\u001b[1;32m    301\u001b[0m     suptitle_kws \u001b[38;5;241m=\u001b[39m \u001b[38;5;28mdict\u001b[39m()\n\u001b[0;32m--> 303\u001b[0m years \u001b[38;5;241m=\u001b[39m np\u001b[38;5;241m.\u001b[39munique(\u001b[43mdata\u001b[49m\u001b[38;5;241;43m.\u001b[39;49m\u001b[43mindex\u001b[49m\u001b[38;5;241;43m.\u001b[39;49m\u001b[43myear\u001b[49m)\n\u001b[1;32m    304\u001b[0m \u001b[38;5;28;01mif\u001b[39;00m \u001b[38;5;129;01mnot\u001b[39;00m yearascending:\n\u001b[1;32m    305\u001b[0m     years \u001b[38;5;241m=\u001b[39m years[::\u001b[38;5;241m-\u001b[39m\u001b[38;5;241m1\u001b[39m]\n",
      "\u001b[0;31mAttributeError\u001b[0m: 'RangeIndex' object has no attribute 'year'"
     ]
    }
   ],
   "source": [
    "calplot.calplot(data2['sentiment_score'], cmap='YlGn', edgecolor='black')"
   ]
  },
  {
   "cell_type": "code",
   "execution_count": null,
   "id": "2ec1322d-773f-45cd-87bc-8f9d3f1b81f8",
   "metadata": {},
   "outputs": [],
   "source": []
  },
  {
   "cell_type": "code",
   "execution_count": 8,
   "id": "add95d0e-06a1-45ea-ae3e-9d6251103925",
   "metadata": {},
   "outputs": [
    {
     "name": "stdout",
     "output_type": "stream",
     "text": [
      "\n"
     ]
    }
   ],
   "source": [
    "import subprocess\n",
    "\n",
    "result = subprocess.run([\"python\", \"friendsfamilytest/data.py\"], shell=True, capture_output=True, text=True)\n",
    "\n",
    "print(result.stdout)\n"
   ]
  },
  {
   "cell_type": "code",
   "execution_count": 13,
   "id": "eac35c9b-2ef9-4f6a-bfa5-57408329c95c",
   "metadata": {},
   "outputs": [],
   "source": [
    "data['time'] = pd.to_datetime(data['time'])"
   ]
  },
  {
   "cell_type": "code",
   "execution_count": 14,
   "id": "b15be841-4eca-41c8-8df4-3e4b5eb27229",
   "metadata": {},
   "outputs": [],
   "source": [
    "monthly_count_filtered = data.resample(\"M\", on=\"time\").size()"
   ]
  },
  {
   "cell_type": "code",
   "execution_count": 15,
   "id": "b0664862-8c91-422e-b9be-1a47bec74e60",
   "metadata": {},
   "outputs": [
    {
     "data": {
      "text/plain": [
       "time\n",
       "2023-07-31     102\n",
       "2023-08-31      99\n",
       "2023-09-30     109\n",
       "2023-10-31      99\n",
       "2023-11-30      42\n",
       "2023-12-31     152\n",
       "2024-01-31      76\n",
       "2024-02-29    1876\n",
       "2024-03-31    1024\n",
       "Freq: M, dtype: int64"
      ]
     },
     "execution_count": 15,
     "metadata": {},
     "output_type": "execute_result"
    }
   ],
   "source": [
    "monthly_count_filtered"
   ]
  },
  {
   "cell_type": "code",
   "execution_count": 16,
   "id": "3d0a1de1-69bb-4b5f-9837-83650ab2a9a5",
   "metadata": {},
   "outputs": [],
   "source": [
    "monthly_count_filtered_df = monthly_count_filtered.reset_index()"
   ]
  },
  {
   "cell_type": "code",
   "execution_count": 17,
   "id": "1933a3c4-8846-4d6a-9ffb-7e3e88fb0f14",
   "metadata": {},
   "outputs": [
    {
     "data": {
      "text/html": [
       "<div>\n",
       "<style scoped>\n",
       "    .dataframe tbody tr th:only-of-type {\n",
       "        vertical-align: middle;\n",
       "    }\n",
       "\n",
       "    .dataframe tbody tr th {\n",
       "        vertical-align: top;\n",
       "    }\n",
       "\n",
       "    .dataframe thead th {\n",
       "        text-align: right;\n",
       "    }\n",
       "</style>\n",
       "<table border=\"1\" class=\"dataframe\">\n",
       "  <thead>\n",
       "    <tr style=\"text-align: right;\">\n",
       "      <th></th>\n",
       "      <th>time</th>\n",
       "      <th>0</th>\n",
       "    </tr>\n",
       "  </thead>\n",
       "  <tbody>\n",
       "    <tr>\n",
       "      <th>0</th>\n",
       "      <td>2023-07-31</td>\n",
       "      <td>102</td>\n",
       "    </tr>\n",
       "    <tr>\n",
       "      <th>1</th>\n",
       "      <td>2023-08-31</td>\n",
       "      <td>99</td>\n",
       "    </tr>\n",
       "    <tr>\n",
       "      <th>2</th>\n",
       "      <td>2023-09-30</td>\n",
       "      <td>109</td>\n",
       "    </tr>\n",
       "    <tr>\n",
       "      <th>3</th>\n",
       "      <td>2023-10-31</td>\n",
       "      <td>99</td>\n",
       "    </tr>\n",
       "    <tr>\n",
       "      <th>4</th>\n",
       "      <td>2023-11-30</td>\n",
       "      <td>42</td>\n",
       "    </tr>\n",
       "    <tr>\n",
       "      <th>5</th>\n",
       "      <td>2023-12-31</td>\n",
       "      <td>152</td>\n",
       "    </tr>\n",
       "    <tr>\n",
       "      <th>6</th>\n",
       "      <td>2024-01-31</td>\n",
       "      <td>76</td>\n",
       "    </tr>\n",
       "    <tr>\n",
       "      <th>7</th>\n",
       "      <td>2024-02-29</td>\n",
       "      <td>1876</td>\n",
       "    </tr>\n",
       "    <tr>\n",
       "      <th>8</th>\n",
       "      <td>2024-03-31</td>\n",
       "      <td>1024</td>\n",
       "    </tr>\n",
       "  </tbody>\n",
       "</table>\n",
       "</div>"
      ],
      "text/plain": [
       "        time     0\n",
       "0 2023-07-31   102\n",
       "1 2023-08-31    99\n",
       "2 2023-09-30   109\n",
       "3 2023-10-31    99\n",
       "4 2023-11-30    42\n",
       "5 2023-12-31   152\n",
       "6 2024-01-31    76\n",
       "7 2024-02-29  1876\n",
       "8 2024-03-31  1024"
      ]
     },
     "execution_count": 17,
     "metadata": {},
     "output_type": "execute_result"
    }
   ],
   "source": [
    "monthly_count_filtered_df"
   ]
  },
  {
   "cell_type": "code",
   "execution_count": 18,
   "id": "3197a82d-e079-4e30-a59d-480d480db110",
   "metadata": {},
   "outputs": [],
   "source": [
    "monthly_count_filtered_df.columns = [\"Month\", \"Monthly Count\"]"
   ]
  },
  {
   "cell_type": "code",
   "execution_count": 19,
   "id": "d4c9b8bf-c5a0-4a2e-9630-f5803444b120",
   "metadata": {},
   "outputs": [
    {
     "data": {
      "text/html": [
       "<div>\n",
       "<style scoped>\n",
       "    .dataframe tbody tr th:only-of-type {\n",
       "        vertical-align: middle;\n",
       "    }\n",
       "\n",
       "    .dataframe tbody tr th {\n",
       "        vertical-align: top;\n",
       "    }\n",
       "\n",
       "    .dataframe thead th {\n",
       "        text-align: right;\n",
       "    }\n",
       "</style>\n",
       "<table border=\"1\" class=\"dataframe\">\n",
       "  <thead>\n",
       "    <tr style=\"text-align: right;\">\n",
       "      <th></th>\n",
       "      <th>Month</th>\n",
       "      <th>Monthly Count</th>\n",
       "    </tr>\n",
       "  </thead>\n",
       "  <tbody>\n",
       "    <tr>\n",
       "      <th>0</th>\n",
       "      <td>2023-07-31</td>\n",
       "      <td>102</td>\n",
       "    </tr>\n",
       "    <tr>\n",
       "      <th>1</th>\n",
       "      <td>2023-08-31</td>\n",
       "      <td>99</td>\n",
       "    </tr>\n",
       "    <tr>\n",
       "      <th>2</th>\n",
       "      <td>2023-09-30</td>\n",
       "      <td>109</td>\n",
       "    </tr>\n",
       "    <tr>\n",
       "      <th>3</th>\n",
       "      <td>2023-10-31</td>\n",
       "      <td>99</td>\n",
       "    </tr>\n",
       "    <tr>\n",
       "      <th>4</th>\n",
       "      <td>2023-11-30</td>\n",
       "      <td>42</td>\n",
       "    </tr>\n",
       "    <tr>\n",
       "      <th>5</th>\n",
       "      <td>2023-12-31</td>\n",
       "      <td>152</td>\n",
       "    </tr>\n",
       "    <tr>\n",
       "      <th>6</th>\n",
       "      <td>2024-01-31</td>\n",
       "      <td>76</td>\n",
       "    </tr>\n",
       "    <tr>\n",
       "      <th>7</th>\n",
       "      <td>2024-02-29</td>\n",
       "      <td>1876</td>\n",
       "    </tr>\n",
       "    <tr>\n",
       "      <th>8</th>\n",
       "      <td>2024-03-31</td>\n",
       "      <td>1024</td>\n",
       "    </tr>\n",
       "  </tbody>\n",
       "</table>\n",
       "</div>"
      ],
      "text/plain": [
       "       Month  Monthly Count\n",
       "0 2023-07-31            102\n",
       "1 2023-08-31             99\n",
       "2 2023-09-30            109\n",
       "3 2023-10-31             99\n",
       "4 2023-11-30             42\n",
       "5 2023-12-31            152\n",
       "6 2024-01-31             76\n",
       "7 2024-02-29           1876\n",
       "8 2024-03-31           1024"
      ]
     },
     "execution_count": 19,
     "metadata": {},
     "output_type": "execute_result"
    }
   ],
   "source": [
    "monthly_count_filtered_df"
   ]
  },
  {
   "cell_type": "code",
   "execution_count": 20,
   "id": "8763bc9e-d5f6-479e-a417-9026ec41baec",
   "metadata": {},
   "outputs": [
    {
     "name": "stdout",
     "output_type": "stream",
     "text": [
      "<class 'pandas.core.frame.DataFrame'>\n",
      "RangeIndex: 9 entries, 0 to 8\n",
      "Data columns (total 2 columns):\n",
      " #   Column         Non-Null Count  Dtype         \n",
      "---  ------         --------------  -----         \n",
      " 0   Month          9 non-null      datetime64[ns]\n",
      " 1   Monthly Count  9 non-null      int64         \n",
      "dtypes: datetime64[ns](1), int64(1)\n",
      "memory usage: 272.0 bytes\n"
     ]
    }
   ],
   "source": [
    "monthly_count_filtered_df.info()"
   ]
  },
  {
   "cell_type": "code",
   "execution_count": 21,
   "id": "88baa7df-10f5-4b96-9c14-4ee28e2515fe",
   "metadata": {},
   "outputs": [],
   "source": [
    "monthly_count_filtered_df[\"Month\"] = pd.to_datetime(\n",
    "    monthly_count_filtered_df[\"Month\"]\n",
    ")"
   ]
  },
  {
   "cell_type": "code",
   "execution_count": 22,
   "id": "727e1730-4cf5-4799-a2f3-a955759e9ba4",
   "metadata": {},
   "outputs": [
    {
     "data": {
      "text/html": [
       "<div>\n",
       "<style scoped>\n",
       "    .dataframe tbody tr th:only-of-type {\n",
       "        vertical-align: middle;\n",
       "    }\n",
       "\n",
       "    .dataframe tbody tr th {\n",
       "        vertical-align: top;\n",
       "    }\n",
       "\n",
       "    .dataframe thead th {\n",
       "        text-align: right;\n",
       "    }\n",
       "</style>\n",
       "<table border=\"1\" class=\"dataframe\">\n",
       "  <thead>\n",
       "    <tr style=\"text-align: right;\">\n",
       "      <th></th>\n",
       "      <th>Month</th>\n",
       "      <th>Monthly Count</th>\n",
       "    </tr>\n",
       "  </thead>\n",
       "  <tbody>\n",
       "    <tr>\n",
       "      <th>0</th>\n",
       "      <td>2023-07-31</td>\n",
       "      <td>102</td>\n",
       "    </tr>\n",
       "    <tr>\n",
       "      <th>1</th>\n",
       "      <td>2023-08-31</td>\n",
       "      <td>99</td>\n",
       "    </tr>\n",
       "    <tr>\n",
       "      <th>2</th>\n",
       "      <td>2023-09-30</td>\n",
       "      <td>109</td>\n",
       "    </tr>\n",
       "    <tr>\n",
       "      <th>3</th>\n",
       "      <td>2023-10-31</td>\n",
       "      <td>99</td>\n",
       "    </tr>\n",
       "    <tr>\n",
       "      <th>4</th>\n",
       "      <td>2023-11-30</td>\n",
       "      <td>42</td>\n",
       "    </tr>\n",
       "    <tr>\n",
       "      <th>5</th>\n",
       "      <td>2023-12-31</td>\n",
       "      <td>152</td>\n",
       "    </tr>\n",
       "    <tr>\n",
       "      <th>6</th>\n",
       "      <td>2024-01-31</td>\n",
       "      <td>76</td>\n",
       "    </tr>\n",
       "    <tr>\n",
       "      <th>7</th>\n",
       "      <td>2024-02-29</td>\n",
       "      <td>1876</td>\n",
       "    </tr>\n",
       "    <tr>\n",
       "      <th>8</th>\n",
       "      <td>2024-03-31</td>\n",
       "      <td>1024</td>\n",
       "    </tr>\n",
       "  </tbody>\n",
       "</table>\n",
       "</div>"
      ],
      "text/plain": [
       "       Month  Monthly Count\n",
       "0 2023-07-31            102\n",
       "1 2023-08-31             99\n",
       "2 2023-09-30            109\n",
       "3 2023-10-31             99\n",
       "4 2023-11-30             42\n",
       "5 2023-12-31            152\n",
       "6 2024-01-31             76\n",
       "7 2024-02-29           1876\n",
       "8 2024-03-31           1024"
      ]
     },
     "execution_count": 22,
     "metadata": {},
     "output_type": "execute_result"
    }
   ],
   "source": [
    "monthly_count_filtered_df"
   ]
  },
  {
   "cell_type": "code",
   "execution_count": 23,
   "id": "e9c3deaa-62bc-4d6f-8662-979da94c5813",
   "metadata": {},
   "outputs": [
    {
     "name": "stdout",
     "output_type": "stream",
     "text": [
      "<class 'pandas.core.frame.DataFrame'>\n",
      "RangeIndex: 9 entries, 0 to 8\n",
      "Data columns (total 2 columns):\n",
      " #   Column         Non-Null Count  Dtype         \n",
      "---  ------         --------------  -----         \n",
      " 0   Month          9 non-null      datetime64[ns]\n",
      " 1   Monthly Count  9 non-null      int64         \n",
      "dtypes: datetime64[ns](1), int64(1)\n",
      "memory usage: 272.0 bytes\n"
     ]
    }
   ],
   "source": [
    "monthly_count_filtered_df.info()"
   ]
  },
  {
   "cell_type": "code",
   "execution_count": null,
   "id": "f0761a38-9c3b-43a2-a5d0-f3ddd3d9f8db",
   "metadata": {},
   "outputs": [],
   "source": [
    "       \n",
    "# Create the figure and the bar plot\n",
    "            fig, ax = plt.subplots(figsize=(12, 5))\n",
    "            sns.barplot(\n",
    "                data=monthly_count_filtered_df, x=\"Month\", y=\"Monthly Count\", color=\"#aabd3b\"\n",
    "            )\n",
    "\n",
    "            # Set grid, spines and annotations as before\n",
    "            ax.yaxis.grid(True, linestyle=\"--\", linewidth=0.5, color=\"#888888\")\n",
    "            ax.xaxis.grid(False)\n",
    "            ax.spines[\"top\"].set_visible(False)\n",
    "            ax.spines[\"right\"].set_visible(False)\n",
    "            ax.spines[\"left\"].set_visible(False)\n",
    "\n",
    "            # Annotate bars with the height (monthly count)\n",
    "            for p in ax.patches:\n",
    "                ax.annotate(\n",
    "                    f\"{int(p.get_height())}\",\n",
    "                    (p.get_x() + p.get_width() / 2.0, p.get_height()),\n",
    "                    ha=\"center\",\n",
    "                    va=\"center\",\n",
    "                    xytext=(0, 10),\n",
    "                    textcoords=\"offset points\",\n",
    "                )\n",
    "\n",
    "            # Set title to the right\n",
    "            ax_title = ax.set_title(\"Monthly FFT Responses - Brompton Health PCN\", loc=\"right\")\n",
    "            ax_title.set_position((1.02, 1))  # Adjust title position\n",
    "\n",
    "            # Redraw the figure to ensure the formatter is applied\n",
    "            fig.canvas.draw()\n",
    "\n",
    "            # Remove xlabel as it's redundant with the dates\n",
    "            plt.xlabel(\"\")\n",
    "\n",
    "            # Apply tight layout and display plot\n",
    "            plt.tight_layout()\n",
    "            st.pyplot(fig)"
   ]
  },
  {
   "cell_type": "code",
   "execution_count": null,
   "id": "00227077-d0b5-436e-a8b4-24401edf3b38",
   "metadata": {},
   "outputs": [],
   "source": []
  },
  {
   "cell_type": "code",
   "execution_count": null,
   "id": "343fe97a-1a4f-486d-be20-21ad1960d3cd",
   "metadata": {},
   "outputs": [],
   "source": []
  },
  {
   "cell_type": "code",
   "execution_count": 25,
   "id": "6cabad49-3984-4fb0-956b-5b1ed0f134e9",
   "metadata": {},
   "outputs": [
    {
     "name": "stdout",
     "output_type": "stream",
     "text": [
      "<class 'pandas.core.series.Series'>\n",
      "RangeIndex: 3 entries, 0 to 2\n",
      "Series name: DateTime\n",
      "Non-Null Count  Dtype \n",
      "--------------  ----- \n",
      "3 non-null      object\n",
      "dtypes: object(1)\n",
      "memory usage: 152.0+ bytes\n"
     ]
    }
   ],
   "source": [
    "import pandas as pd\n",
    "\n",
    "# Assume you have a pandas Series with datetime64[ns] dtype\n",
    "dates_with_time = pd.Series(pd.date_range(\"2024-01-01 12:00:00\", periods=3, freq=\"H\"), name=\"DateTime\")\n",
    "\n",
    "# Convert to date-only format\n",
    "dates_only = dates_with_time.dt.date\n",
    "\n",
    "# Check the result\n",
    "dates_only.info()"
   ]
  },
  {
   "cell_type": "code",
   "execution_count": 2,
   "id": "aa4cce9b-ce38-42d7-88e1-18bdd2c9e848",
   "metadata": {},
   "outputs": [
    {
     "data": {
      "text/plain": [
       "'/Users/janduplessis/code/janduplessis883/friends-and-family-test-analysis/notebooks'"
      ]
     },
     "execution_count": 2,
     "metadata": {},
     "output_type": "execute_result"
    }
   ],
   "source": [
    "%pwd"
   ]
  },
  {
   "cell_type": "code",
   "execution_count": 3,
   "id": "43f82416-9cd5-4278-8dcb-1f764c7b2ad6",
   "metadata": {},
   "outputs": [],
   "source": [
    "data = pd.read_csv('../friendsfamilytest/data/data.csv')"
   ]
  },
  {
   "cell_type": "code",
   "execution_count": 5,
   "id": "70e69ea8-dd44-4b40-bcb8-fd2afcbe6aa7",
   "metadata": {},
   "outputs": [
    {
     "data": {
      "text/html": [
       "<div>\n",
       "<style scoped>\n",
       "    .dataframe tbody tr th:only-of-type {\n",
       "        vertical-align: middle;\n",
       "    }\n",
       "\n",
       "    .dataframe tbody tr th {\n",
       "        vertical-align: top;\n",
       "    }\n",
       "\n",
       "    .dataframe thead th {\n",
       "        text-align: right;\n",
       "    }\n",
       "</style>\n",
       "<table border=\"1\" class=\"dataframe\">\n",
       "  <thead>\n",
       "    <tr style=\"text-align: right;\">\n",
       "      <th></th>\n",
       "      <th>time</th>\n",
       "      <th>rating</th>\n",
       "      <th>free_text</th>\n",
       "      <th>do_better</th>\n",
       "      <th>surgery</th>\n",
       "      <th>free_text_len</th>\n",
       "      <th>do_better_len</th>\n",
       "      <th>rating_score</th>\n",
       "      <th>classif</th>\n",
       "      <th>classif_scores</th>\n",
       "      <th>sentiment</th>\n",
       "      <th>sentiment_score</th>\n",
       "      <th>improvement_labels</th>\n",
       "      <th>feedback_labels</th>\n",
       "    </tr>\n",
       "  </thead>\n",
       "  <tbody>\n",
       "    <tr>\n",
       "      <th>0</th>\n",
       "      <td>2023-07-13 15:28:22</td>\n",
       "      <td>Extremely likely</td>\n",
       "      <td>Very friendly caring staff, treated me with re...</td>\n",
       "      <td>NaN</td>\n",
       "      <td>Earls Court Surgery</td>\n",
       "      <td>13.0</td>\n",
       "      <td>3</td>\n",
       "      <td>5.0</td>\n",
       "      <td>NaN</td>\n",
       "      <td>NaN</td>\n",
       "      <td>positive</td>\n",
       "      <td>0.909031</td>\n",
       "      <td>NaN</td>\n",
       "      <td>Overall Patient Satisfaction</td>\n",
       "    </tr>\n",
       "    <tr>\n",
       "      <th>1</th>\n",
       "      <td>2023-07-13 15:29:16</td>\n",
       "      <td>Extremely likely</td>\n",
       "      <td>so good so confidential</td>\n",
       "      <td>NaN</td>\n",
       "      <td>Earls Court Surgery</td>\n",
       "      <td>4.0</td>\n",
       "      <td>0</td>\n",
       "      <td>5.0</td>\n",
       "      <td>NaN</td>\n",
       "      <td>NaN</td>\n",
       "      <td>positive</td>\n",
       "      <td>0.925523</td>\n",
       "      <td>NaN</td>\n",
       "      <td>Patient Privacy and Confidentiality</td>\n",
       "    </tr>\n",
       "    <tr>\n",
       "      <th>2</th>\n",
       "      <td>2023-07-13 15:29:21</td>\n",
       "      <td>Extremely likely</td>\n",
       "      <td>The doctor was very understanding and very kno...</td>\n",
       "      <td>No. It was the best.</td>\n",
       "      <td>Earls Court Surgery</td>\n",
       "      <td>8.0</td>\n",
       "      <td>5</td>\n",
       "      <td>5.0</td>\n",
       "      <td>NaN</td>\n",
       "      <td>NaN</td>\n",
       "      <td>positive</td>\n",
       "      <td>0.971687</td>\n",
       "      <td>Overall Patient Satisfaction</td>\n",
       "      <td>Medical Staff Competence</td>\n",
       "    </tr>\n",
       "    <tr>\n",
       "      <th>3</th>\n",
       "      <td>2023-07-13 15:30:10</td>\n",
       "      <td>Extremely likely</td>\n",
       "      <td>Dr [PERSON] was extremely nice</td>\n",
       "      <td>the receptionist was very unkind</td>\n",
       "      <td>Earls Court Surgery</td>\n",
       "      <td>5.0</td>\n",
       "      <td>5</td>\n",
       "      <td>5.0</td>\n",
       "      <td>NaN</td>\n",
       "      <td>NaN</td>\n",
       "      <td>positive</td>\n",
       "      <td>0.982086</td>\n",
       "      <td>Reception Staff Interaction</td>\n",
       "      <td>Patient-Doctor Communication</td>\n",
       "    </tr>\n",
       "    <tr>\n",
       "      <th>4</th>\n",
       "      <td>2023-07-13 15:31:48</td>\n",
       "      <td>Extremely likely</td>\n",
       "      <td>I was spoken to politely on the phone and a te...</td>\n",
       "      <td>No. I was happy with everything.</td>\n",
       "      <td>Earls Court Surgery</td>\n",
       "      <td>44.0</td>\n",
       "      <td>6</td>\n",
       "      <td>5.0</td>\n",
       "      <td>NaN</td>\n",
       "      <td>NaN</td>\n",
       "      <td>neutral</td>\n",
       "      <td>0.755115</td>\n",
       "      <td>Overall Patient Satisfaction</td>\n",
       "      <td>Follow-Up and Continuity of Care</td>\n",
       "    </tr>\n",
       "  </tbody>\n",
       "</table>\n",
       "</div>"
      ],
      "text/plain": [
       "                  time            rating  \\\n",
       "0  2023-07-13 15:28:22  Extremely likely   \n",
       "1  2023-07-13 15:29:16  Extremely likely   \n",
       "2  2023-07-13 15:29:21  Extremely likely   \n",
       "3  2023-07-13 15:30:10  Extremely likely   \n",
       "4  2023-07-13 15:31:48  Extremely likely   \n",
       "\n",
       "                                           free_text  \\\n",
       "0  Very friendly caring staff, treated me with re...   \n",
       "1                            so good so confidential   \n",
       "2  The doctor was very understanding and very kno...   \n",
       "3                    Dr [PERSON] was extremely nice    \n",
       "4  I was spoken to politely on the phone and a te...   \n",
       "\n",
       "                            do_better              surgery  free_text_len  \\\n",
       "0                                 NaN  Earls Court Surgery           13.0   \n",
       "1                                 NaN  Earls Court Surgery            4.0   \n",
       "2                No. It was the best.  Earls Court Surgery            8.0   \n",
       "3   the receptionist was very unkind   Earls Court Surgery            5.0   \n",
       "4  No. I was happy with everything.    Earls Court Surgery           44.0   \n",
       "\n",
       "   do_better_len  rating_score  classif  classif_scores sentiment  \\\n",
       "0              3           5.0      NaN             NaN  positive   \n",
       "1              0           5.0      NaN             NaN  positive   \n",
       "2              5           5.0      NaN             NaN  positive   \n",
       "3              5           5.0      NaN             NaN  positive   \n",
       "4              6           5.0      NaN             NaN   neutral   \n",
       "\n",
       "   sentiment_score            improvement_labels  \\\n",
       "0         0.909031                           NaN   \n",
       "1         0.925523                           NaN   \n",
       "2         0.971687  Overall Patient Satisfaction   \n",
       "3         0.982086   Reception Staff Interaction   \n",
       "4         0.755115  Overall Patient Satisfaction   \n",
       "\n",
       "                       feedback_labels  \n",
       "0         Overall Patient Satisfaction  \n",
       "1  Patient Privacy and Confidentiality  \n",
       "2             Medical Staff Competence  \n",
       "3         Patient-Doctor Communication  \n",
       "4     Follow-Up and Continuity of Care  "
      ]
     },
     "execution_count": 5,
     "metadata": {},
     "output_type": "execute_result"
    }
   ],
   "source": [
    "data.head()"
   ]
  },
  {
   "cell_type": "code",
   "execution_count": 48,
   "id": "31aee52a-446c-4ca1-bbb9-91cf052de70e",
   "metadata": {},
   "outputs": [
    {
     "data": {
      "image/png": "[encoded data removed]",
      "text/plain": [
       "<Figure size 1600x1200 with 1 Axes>"
      ]
     },
     "metadata": {},
     "output_type": "display_data"
    }
   ],
   "source": [
    "data_sorted = data.sort_values('time')\n",
    "\n",
    "# Group by 'surgery' and 'time', then calculate the cumulative count\n",
    "data_sorted['cumulative_count'] = data_sorted.groupby('surgery').cumcount() + 1\n",
    "\n",
    "# Pivot the table to have surgeries as columns and their cumulative counts as values\n",
    "data_pivot = data_sorted.pivot_table(index='time', columns='surgery', values='cumulative_count', aggfunc='first')\n",
    "\n",
    "# Forward fill the NaN values to maintain the cumulative nature\n",
    "data_pivot_filled = data_pivot.fillna(method='ffill').fillna(0)\n",
    "\n",
    "# Plotting\n",
    "fig, ax = plt.subplots(figsize=(16, 12))\n",
    "for column in data_pivot_filled.columns:\n",
    "    \n",
    "    plt.plot(data_pivot_filled.index, data_pivot_filled[column], label=column, linewidth=2)\n",
    "\n",
    "ax.yaxis.grid(False)\n",
    "ax.xaxis.grid(True, linestyle=\"--\", linewidth=0.5, color=\"#888888\")\n",
    "\n",
    "ax.spines[\"top\"].set_visible(False)\n",
    "ax.spines[\"right\"].set_visible(False)\n",
    "ax.spines[\"left\"].set_visible(False)\n",
    "plt.title('Cumulative Entries Over Time for Each Surgery')\n",
    "plt.xlabel('Time')\n",
    "plt.ylabel('Cumulative Entries')\n",
    "plt.legend(title='Surgery', bbox_to_anchor=(1.05, 1), loc='upper left')\n",
    "plt.grid(True)\n",
    "plt.tight_layout()\n",
    "plt.show()"
   ]
  },
  {
   "cell_type": "code",
   "execution_count": null,
   "id": "258d89a1-efce-400d-af53-809ff1bc213f",
   "metadata": {},
   "outputs": [],
   "source": []
  },
  {
   "cell_type": "code",
   "execution_count": null,
   "id": "46b19c93-a6d9-4ca1-9565-0be6d9e968cb",
   "metadata": {},
   "outputs": [],
   "source": []
  },
  {
   "cell_type": "code",
   "execution_count": null,
   "id": "7b809263-d582-43d4-aab3-b096ad88be1a",
   "metadata": {},
   "outputs": [],
   "source": []
  },
  {
   "cell_type": "code",
   "execution_count": null,
   "id": "b5a7184e-548f-4765-a458-d02337886e57",
   "metadata": {},
   "outputs": [],
   "source": []
  },
  {
   "cell_type": "code",
   "execution_count": null,
   "id": "e589a429-2cbb-4ad0-a974-23163c735f14",
   "metadata": {},
   "outputs": [],
   "source": []
  },
  {
   "cell_type": "code",
   "execution_count": null,
   "id": "de5b5362-2f65-4149-9ea5-359572e05078",
   "metadata": {},
   "outputs": [],
   "source": []
  }
 ],
 "metadata": {
  "kernelspec": {
   "display_name": "Python 3 (ipykernel)",
   "language": "python",
   "name": "python3"
  },
  "language_info": {
   "codemirror_mode": {
    "name": "ipython",
    "version": 3
   },
   "file_extension": ".py",
   "mimetype": "text/x-python",
   "name": "python",
   "nbconvert_exporter": "python",
   "pygments_lexer": "ipython3",
   "version": "3.10.6"
  }
 },
 "nbformat": 4,
 "nbformat_minor": 5
}
