{
 "cells": [
  {
   "cell_type": "code",
   "execution_count": 1,
   "id": "139114bb-1ead-4ea0-8dc2-b9327a3178f3",
   "metadata": {},
   "outputs": [
    {
     "name": "stderr",
     "output_type": "stream",
     "text": [
      "Some weights of the model checkpoint at dbmdz/bert-large-cased-finetuned-conll03-english were not used when initializing BertForTokenClassification: ['bert.pooler.dense.bias', 'bert.pooler.dense.weight']\n",
      "- This IS expected if you are initializing BertForTokenClassification from the checkpoint of a model trained on another task or with another architecture (e.g. initializing a BertForSequenceClassification model from a BertForPreTraining model).\n",
      "- This IS NOT expected if you are initializing BertForTokenClassification from the checkpoint of a model that you expect to be exactly identical (initializing a BertForSequenceClassification model from a BertForSequenceClassification model).\n"
     ]
    }
   ],
   "source": [
    "from friendsfamilytest.params import *\n",
    "from friendsfamilytest.sheethelper import *\n",
    "from friendsfamilytest.data import *\n",
    "from friendsfamilytest.utils import *\n",
    "\n",
    "import pandas as pd \n",
    "import seaborn as sns\n",
    "\n",
    "from wordcloud import WordCloud\n",
    "%load_ext autoreload\n",
    "%autoreload 2\n",
    "%config InlineBackend.figure_formats='retina'"
   ]
  },
  {
   "cell_type": "code",
   "execution_count": 2,
   "id": "17d95bc0-c718-47da-8ea3-28a333ae5dc4",
   "metadata": {},
   "outputs": [
    {
     "name": "stderr",
     "output_type": "stream",
     "text": [
      "\u001b[32m2024-03-15 14:40:16.565\u001b[0m | \u001b[1mINFO    \u001b[0m | \u001b[36mfriendsfamilytest.utils\u001b[0m:\u001b[36mwrapper\u001b[0m:\u001b[36m100\u001b[0m - \u001b[1mFunction 'load_google_sheet' ⚡️1.905128 sec\u001b[0m\n"
     ]
    }
   ],
   "source": [
    "data = load_google_sheet()"
   ]
  },
  {
   "cell_type": "code",
   "execution_count": 3,
   "id": "b8150ee4-03cf-4e21-bb5e-86cbae91b7cd",
   "metadata": {},
   "outputs": [
    {
     "data": {
      "text/html": [
       "<div>\n",
       "<style scoped>\n",
       "    .dataframe tbody tr th:only-of-type {\n",
       "        vertical-align: middle;\n",
       "    }\n",
       "\n",
       "    .dataframe tbody tr th {\n",
       "        vertical-align: top;\n",
       "    }\n",
       "\n",
       "    .dataframe thead th {\n",
       "        text-align: right;\n",
       "    }\n",
       "</style>\n",
       "<table border=\"1\" class=\"dataframe\">\n",
       "  <thead>\n",
       "    <tr style=\"text-align: right;\">\n",
       "      <th></th>\n",
       "      <th>time</th>\n",
       "      <th>rating</th>\n",
       "      <th>free_text</th>\n",
       "      <th>do_better</th>\n",
       "      <th>surgery</th>\n",
       "    </tr>\n",
       "  </thead>\n",
       "  <tbody>\n",
       "    <tr>\n",
       "      <th>0</th>\n",
       "      <td>2023-07-13 15:28:22</td>\n",
       "      <td>Extremely likely</td>\n",
       "      <td>Very friendly caring staff, treated me with re...</td>\n",
       "      <td>Keep it up</td>\n",
       "      <td>Earls Court Surgery</td>\n",
       "    </tr>\n",
       "    <tr>\n",
       "      <th>1</th>\n",
       "      <td>2023-07-13 15:29:16</td>\n",
       "      <td>Extremely likely</td>\n",
       "      <td>so good so confidential</td>\n",
       "      <td></td>\n",
       "      <td>Earls Court Surgery</td>\n",
       "    </tr>\n",
       "    <tr>\n",
       "      <th>2</th>\n",
       "      <td>2023-07-13 15:29:21</td>\n",
       "      <td>Extremely likely</td>\n",
       "      <td>The doctor was very understanding and very kno...</td>\n",
       "      <td>No. It was the best.</td>\n",
       "      <td>Earls Court Surgery</td>\n",
       "    </tr>\n",
       "    <tr>\n",
       "      <th>3</th>\n",
       "      <td>2023-07-13 15:30:10</td>\n",
       "      <td>Extremely likely</td>\n",
       "      <td>Dr E was extremely nice</td>\n",
       "      <td>the receptionist was very unkind</td>\n",
       "      <td>Earls Court Surgery</td>\n",
       "    </tr>\n",
       "    <tr>\n",
       "      <th>4</th>\n",
       "      <td>2023-07-13 15:31:48</td>\n",
       "      <td>Extremely likely</td>\n",
       "      <td>I was spoken to politely on the phone and a te...</td>\n",
       "      <td>No. I was happy with everything.</td>\n",
       "      <td>Earls Court Surgery</td>\n",
       "    </tr>\n",
       "  </tbody>\n",
       "</table>\n",
       "</div>"
      ],
      "text/plain": [
       "                 time            rating  \\\n",
       "0 2023-07-13 15:28:22  Extremely likely   \n",
       "1 2023-07-13 15:29:16  Extremely likely   \n",
       "2 2023-07-13 15:29:21  Extremely likely   \n",
       "3 2023-07-13 15:30:10  Extremely likely   \n",
       "4 2023-07-13 15:31:48  Extremely likely   \n",
       "\n",
       "                                           free_text  \\\n",
       "0  Very friendly caring staff, treated me with re...   \n",
       "1                            so good so confidential   \n",
       "2  The doctor was very understanding and very kno...   \n",
       "3                           Dr E was extremely nice    \n",
       "4  I was spoken to politely on the phone and a te...   \n",
       "\n",
       "                            do_better              surgery  \n",
       "0                          Keep it up  Earls Court Surgery  \n",
       "1                                      Earls Court Surgery  \n",
       "2                No. It was the best.  Earls Court Surgery  \n",
       "3   the receptionist was very unkind   Earls Court Surgery  \n",
       "4  No. I was happy with everything.    Earls Court Surgery  "
      ]
     },
     "execution_count": 3,
     "metadata": {},
     "output_type": "execute_result"
    }
   ],
   "source": [
    "data.head()"
   ]
  },
  {
   "cell_type": "code",
   "execution_count": 4,
   "id": "02673dc0-1dfc-40f1-8447-a05fcc941919",
   "metadata": {},
   "outputs": [],
   "source": [
    "def check_do_better_column(dataframe):\n",
    "    short_phrases = []\n",
    "\n",
    "    # Iterate over each entry in the 'do_better' column\n",
    "    for entry in dataframe['do_better']:\n",
    "        # Count the number of words in the entry\n",
    "        word_count = len(str(entry).split())\n",
    "\n",
    "        # Check if the word count is less than 5\n",
    "        if word_count < 5:\n",
    "            short_phrases.append(entry)\n",
    "\n",
    "    # Print the list of entries with fewer than 5 words\n",
    "    print(\"Entries with fewer than 5 words:\", short_phrases)\n",
    "\n",
    "# Example usage\n",
    "# Assuming 'df' is your DataFrame and it has a column named 'do_better'\n",
    "# df = pd.DataFrame({'do_better': ['Improve communication', 'Be more timely', 'Feedback', 'Enhance portal usability', 'Listen more']})\n",
    "# check_do_better_column(df)"
   ]
  },
  {
   "cell_type": "code",
   "execution_count": null,
   "id": "332a0a4d-0319-4e26-bcb3-39351a4d4241",
   "metadata": {},
   "outputs": [],
   "source": []
  }
 ],
 "metadata": {
  "kernelspec": {
   "display_name": "Python 3 (ipykernel)",
   "language": "python",
   "name": "python3"
  },
  "language_info": {
   "codemirror_mode": {
    "name": "ipython",
    "version": 3
   },
   "file_extension": ".py",
   "mimetype": "text/x-python",
   "name": "python",
   "nbconvert_exporter": "python",
   "pygments_lexer": "ipython3",
   "version": "3.10.6"
  }
 },
 "nbformat": 4,
 "nbformat_minor": 5
}
