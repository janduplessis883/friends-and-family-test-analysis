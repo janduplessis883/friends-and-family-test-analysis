{
 "cells": [
  {
   "cell_type": "code",
   "execution_count": null,
   "id": "139114bb-1ead-4ea0-8dc2-b9327a3178f3",
   "metadata": {},
   "outputs": [],
   "source": [
    "from friendsfamilytest.params import *\n",
    "from friendsfamilytest.sheethelper import *\n",
    "from friendsfamilytest.data import *\n",
    "from friendsfamilytest.utils import *\n",
    "\n",
    "import pandas as pd \n",
    "import seaborn as sns\n",
    "\n",
    "from wordcloud import WordCloud\n",
    "%load_ext autoreload\n",
    "%autoreload 2\n",
    "%config InlineBackend.figure_formats='retina'"
   ]
  },
  {
   "cell_type": "code",
   "execution_count": null,
   "id": "17d95bc0-c718-47da-8ea3-28a333ae5dc4",
   "metadata": {},
   "outputs": [],
   "source": [
    "data = load_google_sheet()"
   ]
  },
  {
   "cell_type": "code",
   "execution_count": null,
   "id": "b8150ee4-03cf-4e21-bb5e-86cbae91b7cd",
   "metadata": {},
   "outputs": [],
   "source": [
    "data.tail()"
   ]
  },
  {
   "cell_type": "code",
   "execution_count": null,
   "id": "ec52a5f3-b501-40c2-8c75-5bda89ff3943",
   "metadata": {},
   "outputs": [],
   "source": [
    "data.duplicated().sum()"
   ]
  },
  {
   "cell_type": "code",
   "execution_count": null,
   "id": "d2fa1a26-7736-448c-ba20-a01ee69b75e3",
   "metadata": {},
   "outputs": [],
   "source": [
    "data.shape"
   ]
  },
  {
   "cell_type": "code",
   "execution_count": null,
   "id": "89311db6-3546-42c7-b850-da924dd1ba76",
   "metadata": {},
   "outputs": [],
   "source": [
    "for index, row in data.iterrows():\n",
    "    print(row['free_text'])\n",
    "    print(index)"
   ]
  },
  {
   "cell_type": "code",
   "execution_count": null,
   "id": "3b9c1ac7-1b2f-4bd1-93f4-23bc438b6e21",
   "metadata": {},
   "outputs": [],
   "source": []
  },
  {
   "cell_type": "code",
   "execution_count": null,
   "id": "e510e726-b0c5-4851-8f8a-2690f27767fe",
   "metadata": {},
   "outputs": [],
   "source": []
  },
  {
   "cell_type": "code",
   "execution_count": null,
   "id": "058cdb02-e4b1-450d-9b63-51c4dfeb36c8",
   "metadata": {},
   "outputs": [],
   "source": []
  },
  {
   "cell_type": "code",
   "execution_count": null,
   "id": "3b2ba870-3f72-4df3-bf77-c7d2af95a7b7",
   "metadata": {},
   "outputs": [],
   "source": []
  },
  {
   "cell_type": "code",
   "execution_count": null,
   "id": "3792080d-8b6d-46a6-8ad9-d51ff29e408a",
   "metadata": {},
   "outputs": [],
   "source": []
  },
  {
   "cell_type": "code",
   "execution_count": null,
   "id": "8957ef27-95ce-4b66-b61a-7d9189f897da",
   "metadata": {},
   "outputs": [],
   "source": []
  },
  {
   "cell_type": "code",
   "execution_count": null,
   "id": "ae254ffd-7a3d-4ef2-a3a3-50cbd6f2d043",
   "metadata": {},
   "outputs": [],
   "source": []
  },
  {
   "cell_type": "code",
   "execution_count": null,
   "id": "8c8ad7ec-540d-4c30-939e-834291f66515",
   "metadata": {},
   "outputs": [],
   "source": []
  },
  {
   "cell_type": "code",
   "execution_count": null,
   "id": "3f7c6c77-9904-4786-9da0-3c5f8e71e542",
   "metadata": {},
   "outputs": [],
   "source": []
  },
  {
   "cell_type": "code",
   "execution_count": null,
   "id": "02673dc0-1dfc-40f1-8447-a05fcc941919",
   "metadata": {},
   "outputs": [],
   "source": [
    "def check_column_length(dataframe):\n",
    "    short_phrases = []\n",
    "\n",
    "    # Iterate over each entry in the 'do_better' column\n",
    "    for entry in dataframe['free_text']:\n",
    "        # Count the number of words in the entry\n",
    "        word_count = len(str(entry).split())\n",
    "\n",
    "        # Check if the word count is less than 5\n",
    "        if word_count < 30:\n",
    "            short_phrases.append(entry)\n",
    "\n",
    "    # Print the list of entries with fewer than 5 words\n",
    "    print(\"Entries with fewer than 5 words:\", short_phrases)\n",
    "\n",
    "# Example usage\n",
    "# Assuming 'df' is your DataFrame and it has a column named 'do_better'\n",
    "# df = pd.DataFrame({'do_better': ['Improve communication', 'Be more timely', 'Feedback', 'Enhance portal usability', 'Listen more']})\n",
    "# check_do_better_column(df)"
   ]
  },
  {
   "cell_type": "code",
   "execution_count": null,
   "id": "332a0a4d-0319-4e26-bcb3-39351a4d4241",
   "metadata": {},
   "outputs": [],
   "source": [
    "check_column_length(data)"
   ]
  },
  {
   "cell_type": "code",
   "execution_count": null,
   "id": "c1a08811-f171-455e-a0db-f7e011367f9b",
   "metadata": {},
   "outputs": [],
   "source": [
    "def check_column_length(dataframe, column_name, word_count_length):\n",
    "    # Iterate over each entry in the specified column\n",
    "    for index, entry in enumerate(dataframe[column_name]):\n",
    "        # Count the number of words in the entry\n",
    "        word_count = len(str(entry).split())\n",
    "\n",
    "        # Check if the word count is less than the specified limit\n",
    "        if word_count < word_count_length:\n",
    "            # Replace with NaN if the condition is met\n",
    "            dataframe.at[index, column_name] = pd.nan\n",
    "\n",
    "    return dataframe"
   ]
  },
  {
   "cell_type": "code",
   "execution_count": null,
   "id": "afdbf2eb-f911-4954-be11-103ea25d6533",
   "metadata": {},
   "outputs": [],
   "source": [
    "check_column_length(data, 'do_better', 4)"
   ]
  },
  {
   "cell_type": "code",
   "execution_count": null,
   "id": "61ff833e-1d10-4655-a517-da7b25531044",
   "metadata": {},
   "outputs": [],
   "source": [
    "check_column_length(data, 'free_text', 2)"
   ]
  },
  {
   "cell_type": "code",
   "execution_count": null,
   "id": "64e9f059-094d-4833-9657-31449498c46a",
   "metadata": {},
   "outputs": [],
   "source": [
    "data2 = pd.read_csv('../friendsfamilytest/data/data2.csv')"
   ]
  },
  {
   "cell_type": "code",
   "execution_count": null,
   "id": "8d4ea0d9-9037-46e7-9482-904c10666986",
   "metadata": {},
   "outputs": [],
   "source": [
    "data2"
   ]
  },
  {
   "cell_type": "code",
   "execution_count": null,
   "id": "e305513a-2488-416b-be75-aef54eff25aa",
   "metadata": {},
   "outputs": [],
   "source": [
    "data2[['free_text', 'do_better']].duplicated().sum()"
   ]
  },
  {
   "cell_type": "code",
   "execution_count": null,
   "id": "57233744-2d71-48f7-af24-818c3312a97d",
   "metadata": {},
   "outputs": [],
   "source": [
    "data2.drop_duplicates(inplace=True)"
   ]
  },
  {
   "cell_type": "code",
   "execution_count": null,
   "id": "6c31121e-1ab4-4e06-b9fc-639e2a0468ff",
   "metadata": {},
   "outputs": [],
   "source": [
    "data2"
   ]
  },
  {
   "cell_type": "code",
   "execution_count": null,
   "id": "1f6b1e1d-db43-4647-ae27-b2fd1fbbacbf",
   "metadata": {},
   "outputs": [],
   "source": [
    "data2.shape"
   ]
  },
  {
   "cell_type": "code",
   "execution_count": null,
   "id": "385bf93e-ab7e-4f91-aa1f-7dabcd326388",
   "metadata": {},
   "outputs": [],
   "source": [
    "data2.drop_duplicates(subset=['free_text', 'do_better'], keep='first', inplace=True)"
   ]
  },
  {
   "cell_type": "code",
   "execution_count": null,
   "id": "1a495fc8-5ae2-4ae5-8847-2e1d5894dbd2",
   "metadata": {},
   "outputs": [],
   "source": [
    "data2.shape"
   ]
  },
  {
   "cell_type": "code",
   "execution_count": null,
   "id": "c0cc1c30-bfe5-4231-adf2-ff888fb3c6cc",
   "metadata": {},
   "outputs": [],
   "source": [
    "# Saving the indexes corresponding to rows\n",
    "boolean_mask = (data2['free_text_len']> 10)\n",
    "\n",
    "# Applying the boolean filteraing\n",
    "data3 = data2[boolean_mask].reset_index(drop=True)"
   ]
  },
  {
   "cell_type": "code",
   "execution_count": null,
   "id": "021c0445-cf14-4e2c-99b5-a01bd6b4ad08",
   "metadata": {},
   "outputs": [],
   "source": [
    "data3"
   ]
  },
  {
   "cell_type": "code",
   "execution_count": null,
   "id": "25bfae37-cc45-4536-bff8-34c54aa2178d",
   "metadata": {},
   "outputs": [],
   "source": [
    "data3.columns"
   ]
  },
  {
   "cell_type": "code",
   "execution_count": null,
   "id": "4f42eebc-2bd4-42cd-ae48-1372f13da2b4",
   "metadata": {},
   "outputs": [],
   "source": [
    "data3[['time', 'rating', 'free_text', 'do_better', 'surgery', 'free_text_len',\n",
    "       'do_better_len', 'rating_score', 'classif', 'classif_scores',\n",
    "       'sentiment', 'sentiment_score', 'improvement_labels', 'polarity',\n",
    "       'subjectivity', 'feedback_labels']]"
   ]
  },
  {
   "cell_type": "code",
   "execution_count": null,
   "id": "abb7b66d-cf8b-4b15-9b79-f81332c85a9b",
   "metadata": {},
   "outputs": [],
   "source": [
    "data3.drop(columns=['neg', 'neu', 'pos', 'compound'], inplace=True)"
   ]
  },
  {
   "cell_type": "code",
   "execution_count": null,
   "id": "dfead9e9-1544-4df9-832e-48f5f71871ed",
   "metadata": {},
   "outputs": [],
   "source": [
    "data3"
   ]
  },
  {
   "cell_type": "code",
   "execution_count": null,
   "id": "241300e1-5f0f-4190-8fe3-3f6e6ec10283",
   "metadata": {},
   "outputs": [],
   "source": [
    "import sketch\n",
    "data3.sketch.ask(\"WHat is the average Neutral sentiment score?\")"
   ]
  },
  {
   "cell_type": "code",
   "execution_count": null,
   "id": "a14f2f44-55e2-4596-8e49-44b2c6e3c2a2",
   "metadata": {},
   "outputs": [],
   "source": []
  },
  {
   "cell_type": "code",
   "execution_count": null,
   "id": "673c5f7f-0af9-40d2-ada3-8d9bf0987949",
   "metadata": {},
   "outputs": [],
   "source": []
  },
  {
   "cell_type": "code",
   "execution_count": null,
   "id": "97984aa4-6bd0-40e7-b272-f41970a17dc1",
   "metadata": {},
   "outputs": [],
   "source": []
  },
  {
   "cell_type": "code",
   "execution_count": null,
   "id": "8d6dcb60-cf60-43cc-ab3f-5a6a51fbfbe8",
   "metadata": {},
   "outputs": [],
   "source": [
    "sns.hitoplot(data2['free_text_len'])"
   ]
  },
  {
   "cell_type": "code",
   "execution_count": null,
   "id": "ec7ac454-c043-47cd-aae9-af73581152b6",
   "metadata": {},
   "outputs": [],
   "source": [
    "import sketch"
   ]
  },
  {
   "cell_type": "code",
   "execution_count": null,
   "id": "3d2edcb2-42d3-457e-b01d-b3baa5798e08",
   "metadata": {},
   "outputs": [],
   "source": [
    "data3.sketch.howto(\"Plot possitive sentiment score?\")"
   ]
  },
  {
   "cell_type": "code",
   "execution_count": null,
   "id": "ed0bd614-cd35-4ec0-a6ff-5c72298f330e",
   "metadata": {},
   "outputs": [],
   "source": [
    "# Import necessary libraries\n",
    "import matplotlib.pyplot as plt\n",
    "import seaborn as sns\n",
    "\n",
    "# Create a new dataframe with only the sentiment and sentiment_score columns\n",
    "sentiment_df = data3[['sentiment', 'sentiment_score']]\n",
    "\n",
    "# Group the dataframe by sentiment and calculate the mean sentiment score for each sentiment\n",
    "sentiment_mean = sentiment_df.groupby('sentiment').mean()\n",
    "\n"
   ]
  },
  {
   "cell_type": "code",
   "execution_count": null,
   "id": "91c2be9e-b10e-461b-b223-9e8b0d7ef5d0",
   "metadata": {},
   "outputs": [],
   "source": [
    "sentiment_mean"
   ]
  },
  {
   "cell_type": "code",
   "execution_count": null,
   "id": "3efee1f0-8651-48f8-a342-5084817cdf45",
   "metadata": {},
   "outputs": [],
   "source": [
    "data3.sketch.howto(\"agregate on time and calculate mean sentiment per month for each\")"
   ]
  },
  {
   "cell_type": "code",
   "execution_count": null,
   "id": "44657cbc-0c11-43b7-85ba-b79fc860f155",
   "metadata": {},
   "outputs": [],
   "source": [
    "# Aggregate on time and calculate mean sentiment per month for each\n",
    "data3['time'] = pd.to_datetime(data3['time']) # convert time column to datetime format\n",
    "new = data3.resample(\"M\", on='time').mean()\n"
   ]
  },
  {
   "cell_type": "code",
   "execution_count": null,
   "id": "8bc7e2cc-99fc-4a0c-b101-810bcbcf8a8d",
   "metadata": {},
   "outputs": [],
   "source": [
    "new"
   ]
  },
  {
   "cell_type": "code",
   "execution_count": null,
   "id": "3a5d0f6c-1875-40cc-8e6a-2dc7818b0ed6",
   "metadata": {},
   "outputs": [],
   "source": [
    "# Group by month and sentiment, then calculate the mean of sentiment_score\n",
    "monthly_sentiment_scores = data3.groupby([pd.Grouper(key='time', freq='M'), 'sentiment']).agg({'sentiment_score': 'mean'}).unstack()\n",
    "\n",
    "# The unstack will create a multi-level column index. We'll simplify this to have a clear table.\n",
    "monthly_sentiment_scores.columns = monthly_sentiment_scores.columns.droplevel()\n",
    "\n",
    "# Display the adjusted table with mean sentiment scores per month for each sentiment type\n",
    "monthly_sentiment_scores"
   ]
  },
  {
   "cell_type": "code",
   "execution_count": null,
   "id": "37b0d3c9-a58c-45b6-a604-a4ae4d8d2c1a",
   "metadata": {},
   "outputs": [],
   "source": [
    "import seaborn as sns\n",
    "import matplotlib.pyplot as plt"
   ]
  },
  {
   "cell_type": "code",
   "execution_count": null,
   "id": "b2f5a4dc-1eee-4e6a-918d-dd5b1df2a6f7",
   "metadata": {},
   "outputs": [],
   "source": [
    "monthly_sentiment_scores.sketch.howto(\"How to plot this dataframe?\")"
   ]
  },
  {
   "cell_type": "code",
   "execution_count": null,
   "id": "349596ed-05f6-4e19-ae4f-d53c0d2edc44",
   "metadata": {},
   "outputs": [],
   "source": [
    "# Import necessary libraries\n",
    "import pandas as pd\n",
    "import matplotlib.pyplot as plt\n",
    "\n",
    "# Plot the dataframe\n",
    "monthly_sentiment_scores.plot()\n",
    "\n"
   ]
  },
  {
   "cell_type": "code",
   "execution_count": null,
   "id": "be8ea358-c132-4358-8adc-8cf0f053f4fb",
   "metadata": {},
   "outputs": [],
   "source": [
    "!pip install matplotlib_inline"
   ]
  },
  {
   "cell_type": "code",
   "execution_count": null,
   "id": "6a507a9a-e357-4317-80b9-bba53b532929",
   "metadata": {},
   "outputs": [],
   "source": [
    "!python3.10 -m pip install --upgrade pip"
   ]
  },
  {
   "cell_type": "code",
   "execution_count": null,
   "id": "afe0cb3b-0715-4855-840f-0ce766a9f1f9",
   "metadata": {},
   "outputs": [],
   "source": []
  }
 ],
 "metadata": {
  "kernelspec": {
   "display_name": "Python 3 (ipykernel)",
   "language": "python",
   "name": "python3"
  },
  "language_info": {
   "codemirror_mode": {
    "name": "ipython",
    "version": 3
   },
   "file_extension": ".py",
   "mimetype": "text/x-python",
   "name": "python",
   "nbconvert_exporter": "python",
   "pygments_lexer": "ipython3",
   "version": "3.10.6"
  }
 },
 "nbformat": 4,
 "nbformat_minor": 5
}
