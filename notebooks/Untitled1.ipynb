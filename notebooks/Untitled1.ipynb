{
 "cells": [
  {
   "cell_type": "code",
   "execution_count": 1,
   "id": "139114bb-1ead-4ea0-8dc2-b9327a3178f3",
   "metadata": {},
   "outputs": [
    {
     "name": "stderr",
     "output_type": "stream",
     "text": [
      "Some weights of the model checkpoint at dbmdz/bert-large-cased-finetuned-conll03-english were not used when initializing BertForTokenClassification: ['bert.pooler.dense.bias', 'bert.pooler.dense.weight']\n",
      "- This IS expected if you are initializing BertForTokenClassification from the checkpoint of a model trained on another task or with another architecture (e.g. initializing a BertForSequenceClassification model from a BertForPreTraining model).\n",
      "- This IS NOT expected if you are initializing BertForTokenClassification from the checkpoint of a model that you expect to be exactly identical (initializing a BertForSequenceClassification model from a BertForSequenceClassification model).\n"
     ]
    }
   ],
   "source": [
    "from friendsfamilytest.params import *\n",
    "from friendsfamilytest.sheethelper import *\n",
    "from friendsfamilytest.data import *\n",
    "from friendsfamilytest.utils import *\n",
    "\n",
    "import pandas as pd \n",
    "import seaborn as sns\n",
    "import sketch\n",
    "\n",
    "from wordcloud import WordCloud\n",
    "%load_ext autoreload\n",
    "%autoreload 2\n"
   ]
  },
  {
   "cell_type": "code",
   "execution_count": null,
   "id": "17d95bc0-c718-47da-8ea3-28a333ae5dc4",
   "metadata": {},
   "outputs": [],
   "source": [
    "data = load_google_sheet()"
   ]
  },
  {
   "cell_type": "code",
   "execution_count": null,
   "id": "b8150ee4-03cf-4e21-bb5e-86cbae91b7cd",
   "metadata": {},
   "outputs": [],
   "source": [
    "data.tail()"
   ]
  },
  {
   "cell_type": "code",
   "execution_count": null,
   "id": "ec52a5f3-b501-40c2-8c75-5bda89ff3943",
   "metadata": {},
   "outputs": [],
   "source": [
    "data.duplicated().sum()"
   ]
  },
  {
   "cell_type": "code",
   "execution_count": null,
   "id": "d2fa1a26-7736-448c-ba20-a01ee69b75e3",
   "metadata": {},
   "outputs": [],
   "source": [
    "data.shape"
   ]
  },
  {
   "cell_type": "code",
   "execution_count": null,
   "id": "89311db6-3546-42c7-b850-da924dd1ba76",
   "metadata": {},
   "outputs": [],
   "source": [
    "for index, row in data.iterrows():\n",
    "    print(row['free_text'])\n",
    "    print(index)"
   ]
  },
  {
   "cell_type": "code",
   "execution_count": 14,
   "id": "3b9c1ac7-1b2f-4bd1-93f4-23bc438b6e21",
   "metadata": {},
   "outputs": [],
   "source": [
    "data2 = pd.read_csv('../friendsfamilytest/data/data_backup.csv')"
   ]
  },
  {
   "cell_type": "code",
   "execution_count": 15,
   "id": "e510e726-b0c5-4851-8f8a-2690f27767fe",
   "metadata": {},
   "outputs": [
    {
     "data": {
      "text/html": [
       "<div>\n",
       "<style scoped>\n",
       "    .dataframe tbody tr th:only-of-type {\n",
       "        vertical-align: middle;\n",
       "    }\n",
       "\n",
       "    .dataframe tbody tr th {\n",
       "        vertical-align: top;\n",
       "    }\n",
       "\n",
       "    .dataframe thead th {\n",
       "        text-align: right;\n",
       "    }\n",
       "</style>\n",
       "<table border=\"1\" class=\"dataframe\">\n",
       "  <thead>\n",
       "    <tr style=\"text-align: right;\">\n",
       "      <th></th>\n",
       "      <th>time</th>\n",
       "      <th>rating</th>\n",
       "      <th>free_text</th>\n",
       "      <th>do_better</th>\n",
       "      <th>surgery</th>\n",
       "      <th>free_text_len</th>\n",
       "      <th>do_better_len</th>\n",
       "      <th>rating_score</th>\n",
       "      <th>classif</th>\n",
       "      <th>classif_scores</th>\n",
       "      <th>sentiment</th>\n",
       "      <th>sentiment_score</th>\n",
       "      <th>improvement_labels</th>\n",
       "      <th>polarity</th>\n",
       "      <th>subjectivity</th>\n",
       "      <th>neg</th>\n",
       "      <th>neu</th>\n",
       "      <th>pos</th>\n",
       "      <th>compound</th>\n",
       "      <th>feedback_labels</th>\n",
       "    </tr>\n",
       "  </thead>\n",
       "  <tbody>\n",
       "    <tr>\n",
       "      <th>0</th>\n",
       "      <td>2023-07-13 15:28:22</td>\n",
       "      <td>Extremely likely</td>\n",
       "      <td>Very friendly caring staff, treated me with re...</td>\n",
       "      <td>NaN</td>\n",
       "      <td>Earls Court Surgery</td>\n",
       "      <td>13</td>\n",
       "      <td>3</td>\n",
       "      <td>5.0</td>\n",
       "      <td>NaN</td>\n",
       "      <td>NaN</td>\n",
       "      <td>positive</td>\n",
       "      <td>0.909031</td>\n",
       "      <td>NaN</td>\n",
       "      <td>0.48750</td>\n",
       "      <td>0.65</td>\n",
       "      <td>0.124</td>\n",
       "      <td>0.413</td>\n",
       "      <td>0.463</td>\n",
       "      <td>0.8111</td>\n",
       "      <td>Overall Patient Satisfaction</td>\n",
       "    </tr>\n",
       "    <tr>\n",
       "      <th>1</th>\n",
       "      <td>2023-07-13 15:29:16</td>\n",
       "      <td>Extremely likely</td>\n",
       "      <td>so good so confidential</td>\n",
       "      <td>NaN</td>\n",
       "      <td>Earls Court Surgery</td>\n",
       "      <td>4</td>\n",
       "      <td>0</td>\n",
       "      <td>5.0</td>\n",
       "      <td>NaN</td>\n",
       "      <td>NaN</td>\n",
       "      <td>positive</td>\n",
       "      <td>0.925523</td>\n",
       "      <td>NaN</td>\n",
       "      <td>0.70000</td>\n",
       "      <td>0.60</td>\n",
       "      <td>0.000</td>\n",
       "      <td>0.484</td>\n",
       "      <td>0.516</td>\n",
       "      <td>0.4927</td>\n",
       "      <td>Patient Privacy and Confidentiality</td>\n",
       "    </tr>\n",
       "    <tr>\n",
       "      <th>2</th>\n",
       "      <td>2023-07-13 15:29:21</td>\n",
       "      <td>Extremely likely</td>\n",
       "      <td>The doctor was very understanding and very kno...</td>\n",
       "      <td>No. It was the best.</td>\n",
       "      <td>Earls Court Surgery</td>\n",
       "      <td>8</td>\n",
       "      <td>5</td>\n",
       "      <td>5.0</td>\n",
       "      <td>NaN</td>\n",
       "      <td>NaN</td>\n",
       "      <td>neutral</td>\n",
       "      <td>0.971687</td>\n",
       "      <td>Overall Patient Satisfaction</td>\n",
       "      <td>0.20000</td>\n",
       "      <td>0.30</td>\n",
       "      <td>0.000</td>\n",
       "      <td>1.000</td>\n",
       "      <td>0.000</td>\n",
       "      <td>0.0000</td>\n",
       "      <td>Medical Staff Competence</td>\n",
       "    </tr>\n",
       "    <tr>\n",
       "      <th>3</th>\n",
       "      <td>2023-07-13 15:30:10</td>\n",
       "      <td>Extremely likely</td>\n",
       "      <td>Dr [PERSON] was extremely nice</td>\n",
       "      <td>the receptionist was very unkind</td>\n",
       "      <td>Earls Court Surgery</td>\n",
       "      <td>5</td>\n",
       "      <td>5</td>\n",
       "      <td>5.0</td>\n",
       "      <td>NaN</td>\n",
       "      <td>NaN</td>\n",
       "      <td>positive</td>\n",
       "      <td>0.977053</td>\n",
       "      <td>Reception Staff Interaction</td>\n",
       "      <td>0.60000</td>\n",
       "      <td>1.00</td>\n",
       "      <td>0.000</td>\n",
       "      <td>0.564</td>\n",
       "      <td>0.436</td>\n",
       "      <td>0.4754</td>\n",
       "      <td>Patient-Doctor Communication</td>\n",
       "    </tr>\n",
       "    <tr>\n",
       "      <th>4</th>\n",
       "      <td>2023-07-13 15:31:48</td>\n",
       "      <td>Extremely likely</td>\n",
       "      <td>I was spoken to politely on the phone and a te...</td>\n",
       "      <td>No. I was happy with everything.</td>\n",
       "      <td>Earls Court Surgery</td>\n",
       "      <td>44</td>\n",
       "      <td>6</td>\n",
       "      <td>5.0</td>\n",
       "      <td>NaN</td>\n",
       "      <td>NaN</td>\n",
       "      <td>negative</td>\n",
       "      <td>0.761393</td>\n",
       "      <td>Overall Patient Satisfaction</td>\n",
       "      <td>0.11875</td>\n",
       "      <td>0.35</td>\n",
       "      <td>0.134</td>\n",
       "      <td>0.866</td>\n",
       "      <td>0.000</td>\n",
       "      <td>-0.6757</td>\n",
       "      <td>Follow-Up and Continuity of Care</td>\n",
       "    </tr>\n",
       "  </tbody>\n",
       "</table>\n",
       "</div>"
      ],
      "text/plain": [
       "                  time            rating  \\\n",
       "0  2023-07-13 15:28:22  Extremely likely   \n",
       "1  2023-07-13 15:29:16  Extremely likely   \n",
       "2  2023-07-13 15:29:21  Extremely likely   \n",
       "3  2023-07-13 15:30:10  Extremely likely   \n",
       "4  2023-07-13 15:31:48  Extremely likely   \n",
       "\n",
       "                                           free_text  \\\n",
       "0  Very friendly caring staff, treated me with re...   \n",
       "1                            so good so confidential   \n",
       "2  The doctor was very understanding and very kno...   \n",
       "3                     Dr [PERSON] was extremely nice   \n",
       "4  I was spoken to politely on the phone and a te...   \n",
       "\n",
       "                          do_better              surgery  free_text_len  \\\n",
       "0                               NaN  Earls Court Surgery             13   \n",
       "1                               NaN  Earls Court Surgery              4   \n",
       "2              No. It was the best.  Earls Court Surgery              8   \n",
       "3  the receptionist was very unkind  Earls Court Surgery              5   \n",
       "4  No. I was happy with everything.  Earls Court Surgery             44   \n",
       "\n",
       "   do_better_len  rating_score  classif  classif_scores sentiment  \\\n",
       "0              3           5.0      NaN             NaN  positive   \n",
       "1              0           5.0      NaN             NaN  positive   \n",
       "2              5           5.0      NaN             NaN   neutral   \n",
       "3              5           5.0      NaN             NaN  positive   \n",
       "4              6           5.0      NaN             NaN  negative   \n",
       "\n",
       "   sentiment_score            improvement_labels  polarity  subjectivity  \\\n",
       "0         0.909031                           NaN   0.48750          0.65   \n",
       "1         0.925523                           NaN   0.70000          0.60   \n",
       "2         0.971687  Overall Patient Satisfaction   0.20000          0.30   \n",
       "3         0.977053   Reception Staff Interaction   0.60000          1.00   \n",
       "4         0.761393  Overall Patient Satisfaction   0.11875          0.35   \n",
       "\n",
       "     neg    neu    pos  compound                      feedback_labels  \n",
       "0  0.124  0.413  0.463    0.8111         Overall Patient Satisfaction  \n",
       "1  0.000  0.484  0.516    0.4927  Patient Privacy and Confidentiality  \n",
       "2  0.000  1.000  0.000    0.0000             Medical Staff Competence  \n",
       "3  0.000  0.564  0.436    0.4754         Patient-Doctor Communication  \n",
       "4  0.134  0.866  0.000   -0.6757     Follow-Up and Continuity of Care  "
      ]
     },
     "execution_count": 15,
     "metadata": {},
     "output_type": "execute_result"
    }
   ],
   "source": [
    "data2.head()"
   ]
  },
  {
   "cell_type": "code",
   "execution_count": 16,
   "id": "7289e21e-093f-4078-93d7-1196157ae7d1",
   "metadata": {},
   "outputs": [],
   "source": [
    "data2.columns\n",
    "data2['time'] = pd.to_datetime(data2['time'])"
   ]
  },
  {
   "cell_type": "code",
   "execution_count": 17,
   "id": "d040735d-ff1a-4d65-a0a7-28fb77885672",
   "metadata": {},
   "outputs": [],
   "source": [
    "data2.drop(columns=['polarity', 'subjectivity', 'neg', 'neu', 'pos', 'compound'], inplace=True)"
   ]
  },
  {
   "cell_type": "code",
   "execution_count": 18,
   "id": "058cdb02-e4b1-450d-9b63-51c4dfeb36c8",
   "metadata": {},
   "outputs": [
    {
     "ename": "TypeError",
     "evalue": "Only valid with DatetimeIndex, TimedeltaIndex or PeriodIndex, but got an instance of 'RangeIndex'",
     "output_type": "error",
     "traceback": [
      "\u001b[0;31m---------------------------------------------------------------------------\u001b[0m",
      "\u001b[0;31mTypeError\u001b[0m                                 Traceback (most recent call last)",
      "Cell \u001b[0;32mIn[18], line 2\u001b[0m\n\u001b[1;32m      1\u001b[0m \u001b[38;5;66;03m# Group by sentiment and resample by week, then calculate the mean sentiment_score\u001b[39;00m\n\u001b[0;32m----> 2\u001b[0m weekly_sentiment_means_adjusted \u001b[38;5;241m=\u001b[39m \u001b[43mdata2\u001b[49m\u001b[38;5;241;43m.\u001b[39;49m\u001b[43mgroupby\u001b[49m\u001b[43m(\u001b[49m\u001b[38;5;124;43m'\u001b[39;49m\u001b[38;5;124;43msentiment\u001b[39;49m\u001b[38;5;124;43m'\u001b[39;49m\u001b[43m)\u001b[49m\u001b[38;5;241;43m.\u001b[39;49m\u001b[43mresample\u001b[49m\u001b[43m(\u001b[49m\u001b[38;5;124;43m'\u001b[39;49m\u001b[38;5;124;43mW\u001b[39;49m\u001b[38;5;124;43m'\u001b[39;49m\u001b[43m)\u001b[49m[\u001b[38;5;124m'\u001b[39m\u001b[38;5;124msentiment_score\u001b[39m\u001b[38;5;124m'\u001b[39m]\u001b[38;5;241m.\u001b[39mmean()\u001b[38;5;241m.\u001b[39munstack(level\u001b[38;5;241m=\u001b[39m\u001b[38;5;241m0\u001b[39m)\n\u001b[1;32m      4\u001b[0m \u001b[38;5;66;03m# Fill any possible NaN values with 0 (assuming no sentiment means neutral)\u001b[39;00m\n\u001b[1;32m      5\u001b[0m weekly_sentiment_means_adjusted \u001b[38;5;241m=\u001b[39m weekly_sentiment_means_adjusted\u001b[38;5;241m.\u001b[39mfillna(\u001b[38;5;241m0\u001b[39m)\n",
      "File \u001b[0;32m~/.pyenv/versions/3.10.6/envs/friends2/lib/python3.10/site-packages/pandas/core/groupby/groupby.py:2803\u001b[0m, in \u001b[0;36mGroupBy.resample\u001b[0;34m(self, rule, *args, **kwargs)\u001b[0m\n\u001b[1;32m   2705\u001b[0m \u001b[38;5;250m\u001b[39m\u001b[38;5;124;03m\"\"\"\u001b[39;00m\n\u001b[1;32m   2706\u001b[0m \u001b[38;5;124;03mProvide resampling when using a TimeGrouper.\u001b[39;00m\n\u001b[1;32m   2707\u001b[0m \n\u001b[0;32m   (...)\u001b[0m\n\u001b[1;32m   2799\u001b[0m \u001b[38;5;124;03m5   2000-01-01 00:03:00  5  1\u001b[39;00m\n\u001b[1;32m   2800\u001b[0m \u001b[38;5;124;03m\"\"\"\u001b[39;00m\n\u001b[1;32m   2801\u001b[0m \u001b[38;5;28;01mfrom\u001b[39;00m \u001b[38;5;21;01mpandas\u001b[39;00m\u001b[38;5;21;01m.\u001b[39;00m\u001b[38;5;21;01mcore\u001b[39;00m\u001b[38;5;21;01m.\u001b[39;00m\u001b[38;5;21;01mresample\u001b[39;00m \u001b[38;5;28;01mimport\u001b[39;00m get_resampler_for_grouping\n\u001b[0;32m-> 2803\u001b[0m \u001b[38;5;28;01mreturn\u001b[39;00m \u001b[43mget_resampler_for_grouping\u001b[49m\u001b[43m(\u001b[49m\u001b[38;5;28;43mself\u001b[39;49m\u001b[43m,\u001b[49m\u001b[43m \u001b[49m\u001b[43mrule\u001b[49m\u001b[43m,\u001b[49m\u001b[43m \u001b[49m\u001b[38;5;241;43m*\u001b[39;49m\u001b[43margs\u001b[49m\u001b[43m,\u001b[49m\u001b[43m \u001b[49m\u001b[38;5;241;43m*\u001b[39;49m\u001b[38;5;241;43m*\u001b[39;49m\u001b[43mkwargs\u001b[49m\u001b[43m)\u001b[49m\n",
      "File \u001b[0;32m~/.pyenv/versions/3.10.6/envs/friends2/lib/python3.10/site-packages/pandas/core/resample.py:1558\u001b[0m, in \u001b[0;36mget_resampler_for_grouping\u001b[0;34m(groupby, rule, how, fill_method, limit, kind, on, **kwargs)\u001b[0m\n\u001b[1;32m   1556\u001b[0m \u001b[38;5;66;03m# .resample uses 'on' similar to how .groupby uses 'key'\u001b[39;00m\n\u001b[1;32m   1557\u001b[0m tg \u001b[38;5;241m=\u001b[39m TimeGrouper(freq\u001b[38;5;241m=\u001b[39mrule, key\u001b[38;5;241m=\u001b[39mon, \u001b[38;5;241m*\u001b[39m\u001b[38;5;241m*\u001b[39mkwargs)\n\u001b[0;32m-> 1558\u001b[0m resampler \u001b[38;5;241m=\u001b[39m \u001b[43mtg\u001b[49m\u001b[38;5;241;43m.\u001b[39;49m\u001b[43m_get_resampler\u001b[49m\u001b[43m(\u001b[49m\u001b[43mgroupby\u001b[49m\u001b[38;5;241;43m.\u001b[39;49m\u001b[43mobj\u001b[49m\u001b[43m,\u001b[49m\u001b[43m \u001b[49m\u001b[43mkind\u001b[49m\u001b[38;5;241;43m=\u001b[39;49m\u001b[43mkind\u001b[49m\u001b[43m)\u001b[49m\n\u001b[1;32m   1559\u001b[0m \u001b[38;5;28;01mreturn\u001b[39;00m resampler\u001b[38;5;241m.\u001b[39m_get_resampler_for_grouping(groupby\u001b[38;5;241m=\u001b[39mgroupby, key\u001b[38;5;241m=\u001b[39mtg\u001b[38;5;241m.\u001b[39mkey)\n",
      "File \u001b[0;32m~/.pyenv/versions/3.10.6/envs/friends2/lib/python3.10/site-packages/pandas/core/resample.py:1725\u001b[0m, in \u001b[0;36mTimeGrouper._get_resampler\u001b[0;34m(self, obj, kind)\u001b[0m\n\u001b[1;32m   1720\u001b[0m \u001b[38;5;28;01melif\u001b[39;00m \u001b[38;5;28misinstance\u001b[39m(ax, TimedeltaIndex):\n\u001b[1;32m   1721\u001b[0m     \u001b[38;5;28;01mreturn\u001b[39;00m TimedeltaIndexResampler(\n\u001b[1;32m   1722\u001b[0m         obj, groupby\u001b[38;5;241m=\u001b[39m\u001b[38;5;28mself\u001b[39m, axis\u001b[38;5;241m=\u001b[39m\u001b[38;5;28mself\u001b[39m\u001b[38;5;241m.\u001b[39maxis, group_keys\u001b[38;5;241m=\u001b[39m\u001b[38;5;28mself\u001b[39m\u001b[38;5;241m.\u001b[39mgroup_keys\n\u001b[1;32m   1723\u001b[0m     )\n\u001b[0;32m-> 1725\u001b[0m \u001b[38;5;28;01mraise\u001b[39;00m \u001b[38;5;167;01mTypeError\u001b[39;00m(\n\u001b[1;32m   1726\u001b[0m     \u001b[38;5;124m\"\u001b[39m\u001b[38;5;124mOnly valid with DatetimeIndex, \u001b[39m\u001b[38;5;124m\"\u001b[39m\n\u001b[1;32m   1727\u001b[0m     \u001b[38;5;124m\"\u001b[39m\u001b[38;5;124mTimedeltaIndex or PeriodIndex, \u001b[39m\u001b[38;5;124m\"\u001b[39m\n\u001b[1;32m   1728\u001b[0m     \u001b[38;5;124mf\u001b[39m\u001b[38;5;124m\"\u001b[39m\u001b[38;5;124mbut got an instance of \u001b[39m\u001b[38;5;124m'\u001b[39m\u001b[38;5;132;01m{\u001b[39;00m\u001b[38;5;28mtype\u001b[39m(ax)\u001b[38;5;241m.\u001b[39m\u001b[38;5;18m__name__\u001b[39m\u001b[38;5;132;01m}\u001b[39;00m\u001b[38;5;124m'\u001b[39m\u001b[38;5;124m\"\u001b[39m\n\u001b[1;32m   1729\u001b[0m )\n",
      "\u001b[0;31mTypeError\u001b[0m: Only valid with DatetimeIndex, TimedeltaIndex or PeriodIndex, but got an instance of 'RangeIndex'"
     ]
    }
   ],
   "source": [
    "# Group by sentiment and resample by week, then calculate the mean sentiment_score\n",
    "weekly_sentiment_means_adjusted = data2.groupby('sentiment').resample('W')['sentiment_score'].mean().unstack(level=0)\n",
    "\n",
    "# Fill any possible NaN values with 0 (assuming no sentiment means neutral)\n",
    "weekly_sentiment_means_adjusted = weekly_sentiment_means_adjusted.fillna(0)\n",
    "\n",
    "weekly_sentiment_means_adjusted.head()"
   ]
  },
  {
   "cell_type": "code",
   "execution_count": 19,
   "id": "052c433f-a727-4e2b-a431-d13ec7b05dc6",
   "metadata": {},
   "outputs": [],
   "source": [
    "import matplotlib\n",
    "matplotlib.use('TkAgg')  # Use 'Agg', 'TkAgg', 'Qt4Agg', 'Qt5Agg', etc., depending on your preferences and environment\n",
    "import matplotlib.pyplot as plt"
   ]
  },
  {
   "cell_type": "code",
   "execution_count": 20,
   "id": "3b2ba870-3f72-4df3-bf77-c7d2af95a7b7",
   "metadata": {},
   "outputs": [
    {
     "ename": "NameError",
     "evalue": "name 'weekly_sentiment_means_adjusted' is not defined",
     "output_type": "error",
     "traceback": [
      "\u001b[0;31m---------------------------------------------------------------------------\u001b[0m",
      "\u001b[0;31mNameError\u001b[0m                                 Traceback (most recent call last)",
      "Cell \u001b[0;32mIn[20], line 4\u001b[0m\n\u001b[1;32m      1\u001b[0m \u001b[38;5;28;01mimport\u001b[39;00m \u001b[38;5;21;01mseaborn\u001b[39;00m \u001b[38;5;28;01mas\u001b[39;00m \u001b[38;5;21;01msns\u001b[39;00m\n\u001b[1;32m      3\u001b[0m \u001b[38;5;66;03m# Melting the DataFrame to long format for easier plotting with seaborn\u001b[39;00m\n\u001b[0;32m----> 4\u001b[0m data_long \u001b[38;5;241m=\u001b[39m \u001b[43mweekly_sentiment_means_adjusted\u001b[49m\u001b[38;5;241m.\u001b[39mreset_index()\u001b[38;5;241m.\u001b[39mmelt(id_vars\u001b[38;5;241m=\u001b[39m\u001b[38;5;124m'\u001b[39m\u001b[38;5;124mtime\u001b[39m\u001b[38;5;124m'\u001b[39m, var_name\u001b[38;5;241m=\u001b[39m\u001b[38;5;124m'\u001b[39m\u001b[38;5;124mSentiment\u001b[39m\u001b[38;5;124m'\u001b[39m, value_name\u001b[38;5;241m=\u001b[39m\u001b[38;5;124m'\u001b[39m\u001b[38;5;124mAverage Score\u001b[39m\u001b[38;5;124m'\u001b[39m)\n\u001b[1;32m      6\u001b[0m \u001b[38;5;66;03m# Creating the plot\u001b[39;00m\n\u001b[1;32m      7\u001b[0m plt\u001b[38;5;241m.\u001b[39mfigure(figsize\u001b[38;5;241m=\u001b[39m(\u001b[38;5;241m12\u001b[39m, \u001b[38;5;241m6\u001b[39m))\n",
      "\u001b[0;31mNameError\u001b[0m: name 'weekly_sentiment_means_adjusted' is not defined"
     ]
    }
   ],
   "source": [
    "import seaborn as sns\n",
    "\n",
    "# Melting the DataFrame to long format for easier plotting with seaborn\n",
    "data_long = weekly_sentiment_means_adjusted.reset_index().melt(id_vars='time', var_name='Sentiment', value_name='Average Score')\n",
    "\n",
    "# Creating the plot\n",
    "plt.figure(figsize=(12, 6))\n",
    "sns.lineplot(data=data_long, x='time', y='Average Score', hue='Sentiment', marker='o')\n",
    "\n",
    "plt.title('Weekly Sentiment Score Averages', fontsize=16)\n",
    "plt.xlabel('Week', fontsize=12)\n",
    "plt.ylabel('Average Sentiment Score', fontsize=12)\n",
    "plt.legend(title='Sentiment')\n",
    "plt.tight_layout()\n",
    "plt.show()"
   ]
  },
  {
   "cell_type": "code",
   "execution_count": 21,
   "id": "3792080d-8b6d-46a6-8ad9-d51ff29e408a",
   "metadata": {},
   "outputs": [
    {
     "ename": "NameError",
     "evalue": "name 'data2_weekly' is not defined",
     "output_type": "error",
     "traceback": [
      "\u001b[0;31m---------------------------------------------------------------------------\u001b[0m",
      "\u001b[0;31mNameError\u001b[0m                                 Traceback (most recent call last)",
      "Cell \u001b[0;32mIn[21], line 1\u001b[0m\n\u001b[0;32m----> 1\u001b[0m \u001b[43mdata2_weekly\u001b[49m\n",
      "\u001b[0;31mNameError\u001b[0m: name 'data2_weekly' is not defined"
     ]
    }
   ],
   "source": [
    "data2_weekly"
   ]
  },
  {
   "cell_type": "code",
   "execution_count": null,
   "id": "8957ef27-95ce-4b66-b61a-7d9189f897da",
   "metadata": {},
   "outputs": [],
   "source": [
    "!pip install --upgrade matplotlib"
   ]
  },
  {
   "cell_type": "code",
   "execution_count": null,
   "id": "ae254ffd-7a3d-4ef2-a3a3-50cbd6f2d043",
   "metadata": {},
   "outputs": [],
   "source": []
  },
  {
   "cell_type": "code",
   "execution_count": null,
   "id": "8c8ad7ec-540d-4c30-939e-834291f66515",
   "metadata": {},
   "outputs": [],
   "source": []
  },
  {
   "cell_type": "code",
   "execution_count": null,
   "id": "3f7c6c77-9904-4786-9da0-3c5f8e71e542",
   "metadata": {},
   "outputs": [],
   "source": []
  },
  {
   "cell_type": "code",
   "execution_count": null,
   "id": "02673dc0-1dfc-40f1-8447-a05fcc941919",
   "metadata": {},
   "outputs": [],
   "source": [
    "def check_column_length(dataframe):\n",
    "    short_phrases = []\n",
    "\n",
    "    # Iterate over each entry in the 'do_better' column\n",
    "    for entry in dataframe['free_text']:\n",
    "        # Count the number of words in the entry\n",
    "        word_count = len(str(entry).split())\n",
    "\n",
    "        # Check if the word count is less than 5\n",
    "        if word_count < 30:\n",
    "            short_phrases.append(entry)\n",
    "\n",
    "    # Print the list of entries with fewer than 5 words\n",
    "    print(\"Entries with fewer than 5 words:\", short_phrases)\n",
    "\n",
    "# Example usage\n",
    "# Assuming 'df' is your DataFrame and it has a column named 'do_better'\n",
    "# df = pd.DataFrame({'do_better': ['Improve communication', 'Be more timely', 'Feedback', 'Enhance portal usability', 'Listen more']})\n",
    "# check_do_better_column(df)"
   ]
  },
  {
   "cell_type": "code",
   "execution_count": null,
   "id": "332a0a4d-0319-4e26-bcb3-39351a4d4241",
   "metadata": {},
   "outputs": [],
   "source": [
    "check_column_length(data)"
   ]
  },
  {
   "cell_type": "code",
   "execution_count": null,
   "id": "c1a08811-f171-455e-a0db-f7e011367f9b",
   "metadata": {},
   "outputs": [],
   "source": [
    "def check_column_length(dataframe, column_name, word_count_length):\n",
    "    # Iterate over each entry in the specified column\n",
    "    for index, entry in enumerate(dataframe[column_name]):\n",
    "        # Count the number of words in the entry\n",
    "        word_count = len(str(entry).split())\n",
    "\n",
    "        # Check if the word count is less than the specified limit\n",
    "        if word_count < word_count_length:\n",
    "            # Replace with NaN if the condition is met\n",
    "            dataframe.at[index, column_name] = pd.nan\n",
    "\n",
    "    return dataframe"
   ]
  },
  {
   "cell_type": "code",
   "execution_count": null,
   "id": "afdbf2eb-f911-4954-be11-103ea25d6533",
   "metadata": {},
   "outputs": [],
   "source": [
    "check_column_length(data2, 'do_better', 4)"
   ]
  },
  {
   "cell_type": "code",
   "execution_count": null,
   "id": "61ff833e-1d10-4655-a517-da7b25531044",
   "metadata": {},
   "outputs": [],
   "source": [
    "check_column_length(data2, 'free_text', 2)"
   ]
  },
  {
   "cell_type": "code",
   "execution_count": null,
   "id": "64e9f059-094d-4833-9657-31449498c46a",
   "metadata": {},
   "outputs": [],
   "source": [
    "data2 = pd.read_csv('../friendsfamilytest/data/data2.csv')"
   ]
  },
  {
   "cell_type": "code",
   "execution_count": null,
   "id": "8d4ea0d9-9037-46e7-9482-904c10666986",
   "metadata": {},
   "outputs": [],
   "source": [
    "data2.head(30)"
   ]
  },
  {
   "cell_type": "code",
   "execution_count": null,
   "id": "e305513a-2488-416b-be75-aef54eff25aa",
   "metadata": {},
   "outputs": [],
   "source": [
    "import numpy as np"
   ]
  },
  {
   "cell_type": "code",
   "execution_count": null,
   "id": "57233744-2d71-48f7-af24-818c3312a97d",
   "metadata": {},
   "outputs": [],
   "source": [
    "data2.loc[data2['do_better_len'] < 5, 'do_better'] = np.nan\n",
    "data2.loc[data2['do_better_len'] < 5, 'improvement_labels'] = np.nan"
   ]
  },
  {
   "cell_type": "code",
   "execution_count": null,
   "id": "6c31121e-1ab4-4e06-b9fc-639e2a0468ff",
   "metadata": {},
   "outputs": [],
   "source": [
    "data2.head(10)"
   ]
  },
  {
   "cell_type": "code",
   "execution_count": null,
   "id": "1f6b1e1d-db43-4647-ae27-b2fd1fbbacbf",
   "metadata": {},
   "outputs": [],
   "source": [
    "data2.loc[data2['free_text_len'] < 3, 'free_text'] = np.nan\n",
    "data2.loc[data2['free_text_len'] < 3, 'feedback_labels'] = np.nan"
   ]
  },
  {
   "cell_type": "code",
   "execution_count": null,
   "id": "385bf93e-ab7e-4f91-aa1f-7dabcd326388",
   "metadata": {},
   "outputs": [],
   "source": [
    "data2.head(30)"
   ]
  },
  {
   "cell_type": "code",
   "execution_count": null,
   "id": "1a495fc8-5ae2-4ae5-8847-2e1d5894dbd2",
   "metadata": {},
   "outputs": [],
   "source": [
    "data2.shape"
   ]
  },
  {
   "cell_type": "code",
   "execution_count": null,
   "id": "c0cc1c30-bfe5-4231-adf2-ff888fb3c6cc",
   "metadata": {},
   "outputs": [],
   "source": [
    "# Saving the indexes corresponding to rows\n",
    "boolean_mask = (data2['free_text_len']> 10)\n",
    "\n",
    "# Applying the boolean filteraing\n",
    "data3 = data2[boolean_mask].reset_index(drop=True)"
   ]
  },
  {
   "cell_type": "code",
   "execution_count": null,
   "id": "021c0445-cf14-4e2c-99b5-a01bd6b4ad08",
   "metadata": {},
   "outputs": [],
   "source": [
    "data3"
   ]
  },
  {
   "cell_type": "code",
   "execution_count": null,
   "id": "25bfae37-cc45-4536-bff8-34c54aa2178d",
   "metadata": {},
   "outputs": [],
   "source": [
    "data3.columns"
   ]
  },
  {
   "cell_type": "code",
   "execution_count": null,
   "id": "4f42eebc-2bd4-42cd-ae48-1372f13da2b4",
   "metadata": {},
   "outputs": [],
   "source": [
    "data3[['time', 'rating', 'free_text', 'do_better', 'surgery', 'free_text_len',\n",
    "       'do_better_len', 'rating_score', 'classif', 'classif_scores',\n",
    "       'sentiment', 'sentiment_score', 'improvement_labels', 'polarity',\n",
    "       'subjectivity', 'feedback_labels']]"
   ]
  },
  {
   "cell_type": "code",
   "execution_count": null,
   "id": "abb7b66d-cf8b-4b15-9b79-f81332c85a9b",
   "metadata": {},
   "outputs": [],
   "source": [
    "data3.drop(columns=['neg', 'neu', 'pos', 'compound'], inplace=True)"
   ]
  },
  {
   "cell_type": "code",
   "execution_count": null,
   "id": "dfead9e9-1544-4df9-832e-48f5f71871ed",
   "metadata": {},
   "outputs": [],
   "source": [
    "data3"
   ]
  },
  {
   "cell_type": "code",
   "execution_count": null,
   "id": "241300e1-5f0f-4190-8fe3-3f6e6ec10283",
   "metadata": {},
   "outputs": [],
   "source": [
    "import sketch\n",
    "data3.sketch.ask(\"WHat is the average Neutral sentiment score?\")"
   ]
  },
  {
   "cell_type": "code",
   "execution_count": null,
   "id": "a14f2f44-55e2-4596-8e49-44b2c6e3c2a2",
   "metadata": {},
   "outputs": [],
   "source": [
    "data = pd.read_csv('../friendsfamilytest/data/data.csv')"
   ]
  },
  {
   "cell_type": "code",
   "execution_count": null,
   "id": "673c5f7f-0af9-40d2-ada3-8d9bf0987949",
   "metadata": {},
   "outputs": [],
   "source": [
    "data"
   ]
  },
  {
   "cell_type": "code",
   "execution_count": null,
   "id": "97984aa4-6bd0-40e7-b272-f41970a17dc1",
   "metadata": {},
   "outputs": [],
   "source": [
    "data = clean_data(data)"
   ]
  },
  {
   "cell_type": "code",
   "execution_count": null,
   "id": "afe0cb3b-0715-4855-840f-0ce766a9f1f9",
   "metadata": {},
   "outputs": [],
   "source": [
    "data.head(30)"
   ]
  },
  {
   "cell_type": "code",
   "execution_count": null,
   "id": "a927c428-b0bb-41f6-87a8-8394aaf4aedf",
   "metadata": {},
   "outputs": [],
   "source": [
    "data.to_csv('data.csv', index=False)"
   ]
  },
  {
   "cell_type": "code",
   "execution_count": null,
   "id": "a8289933-f3f3-464d-86d3-03c658c630fc",
   "metadata": {},
   "outputs": [],
   "source": []
  }
 ],
 "metadata": {
  "kernelspec": {
   "display_name": "Python 3 (ipykernel)",
   "language": "python",
   "name": "python3"
  },
  "language_info": {
   "codemirror_mode": {
    "name": "ipython",
    "version": 3
   },
   "file_extension": ".py",
   "mimetype": "text/x-python",
   "name": "python",
   "nbconvert_exporter": "python",
   "pygments_lexer": "ipython3",
   "version": "3.10.6"
  }
 },
 "nbformat": 4,
 "nbformat_minor": 5
}
