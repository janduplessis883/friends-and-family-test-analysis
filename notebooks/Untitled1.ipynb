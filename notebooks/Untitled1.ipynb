{
 "cells": [
  {
   "cell_type": "code",
   "execution_count": 17,
   "id": "139114bb-1ead-4ea0-8dc2-b9327a3178f3",
   "metadata": {},
   "outputs": [
    {
     "name": "stderr",
     "output_type": "stream",
     "text": [
      "Some weights of the model checkpoint at dbmdz/bert-large-cased-finetuned-conll03-english were not used when initializing BertForTokenClassification: ['bert.pooler.dense.bias', 'bert.pooler.dense.weight']\n",
      "- This IS expected if you are initializing BertForTokenClassification from the checkpoint of a model trained on another task or with another architecture (e.g. initializing a BertForSequenceClassification model from a BertForPreTraining model).\n",
      "- This IS NOT expected if you are initializing BertForTokenClassification from the checkpoint of a model that you expect to be exactly identical (initializing a BertForSequenceClassification model from a BertForSequenceClassification model).\n"
     ]
    },
    {
     "name": "stdout",
     "output_type": "stream",
     "text": [
      "The autoreload extension is already loaded. To reload it, use:\n",
      "  %reload_ext autoreload\n"
     ]
    }
   ],
   "source": [
    "from friendsfamilytest.params import *\n",
    "from friendsfamilytest.sheethelper import *\n",
    "from friendsfamilytest.data import *\n",
    "from friendsfamilytest.utils import *\n",
    "\n",
    "import pandas as pd \n",
    "import seaborn as sns\n",
    "\n",
    "from wordcloud import WordCloud\n",
    "%load_ext autoreload\n",
    "%autoreload 2\n",
    "%config InlineBackend.figure_formats='retina'"
   ]
  },
  {
   "cell_type": "code",
   "execution_count": 18,
   "id": "17d95bc0-c718-47da-8ea3-28a333ae5dc4",
   "metadata": {},
   "outputs": [
    {
     "name": "stderr",
     "output_type": "stream",
     "text": [
      "\u001b[32m2024-03-17 16:31:06.624\u001b[0m | \u001b[1mINFO    \u001b[0m | \u001b[36mfriendsfamilytest.utils\u001b[0m:\u001b[36mwrapper\u001b[0m:\u001b[36m100\u001b[0m - \u001b[1mFunction 'load_google_sheet' ⚡️3.270251 sec\u001b[0m\n"
     ]
    }
   ],
   "source": [
    "data = load_google_sheet()"
   ]
  },
  {
   "cell_type": "code",
   "execution_count": 19,
   "id": "b8150ee4-03cf-4e21-bb5e-86cbae91b7cd",
   "metadata": {},
   "outputs": [
    {
     "data": {
      "text/html": [
       "<div>\n",
       "<style scoped>\n",
       "    .dataframe tbody tr th:only-of-type {\n",
       "        vertical-align: middle;\n",
       "    }\n",
       "\n",
       "    .dataframe tbody tr th {\n",
       "        vertical-align: top;\n",
       "    }\n",
       "\n",
       "    .dataframe thead th {\n",
       "        text-align: right;\n",
       "    }\n",
       "</style>\n",
       "<table border=\"1\" class=\"dataframe\">\n",
       "  <thead>\n",
       "    <tr style=\"text-align: right;\">\n",
       "      <th></th>\n",
       "      <th>time</th>\n",
       "      <th>rating</th>\n",
       "      <th>free_text</th>\n",
       "      <th>do_better</th>\n",
       "      <th>surgery</th>\n",
       "    </tr>\n",
       "  </thead>\n",
       "  <tbody>\n",
       "    <tr>\n",
       "      <th>4083</th>\n",
       "      <td>2024-03-15 10:10:37</td>\n",
       "      <td>Extremely likely</td>\n",
       "      <td></td>\n",
       "      <td></td>\n",
       "      <td>The Abingdon Health Centre</td>\n",
       "    </tr>\n",
       "    <tr>\n",
       "      <th>4084</th>\n",
       "      <td>2024-03-15 10:31:06</td>\n",
       "      <td>Extremely likely</td>\n",
       "      <td></td>\n",
       "      <td></td>\n",
       "      <td>Stanhope Mews West</td>\n",
       "    </tr>\n",
       "    <tr>\n",
       "      <th>4085</th>\n",
       "      <td>2024-03-15 10:33:33</td>\n",
       "      <td>Extremely likely</td>\n",
       "      <td></td>\n",
       "      <td></td>\n",
       "      <td>The Abingdon Health Centre</td>\n",
       "    </tr>\n",
       "    <tr>\n",
       "      <th>4086</th>\n",
       "      <td>2024-03-15 11:37:33</td>\n",
       "      <td>Unlikely</td>\n",
       "      <td></td>\n",
       "      <td></td>\n",
       "      <td>Earls Court Surgery</td>\n",
       "    </tr>\n",
       "    <tr>\n",
       "      <th>4087</th>\n",
       "      <td>2024-03-15 12:23:16</td>\n",
       "      <td>Extremely likely</td>\n",
       "      <td></td>\n",
       "      <td></td>\n",
       "      <td>The Abingdon Health Centre</td>\n",
       "    </tr>\n",
       "  </tbody>\n",
       "</table>\n",
       "</div>"
      ],
      "text/plain": [
       "                    time            rating free_text do_better  \\\n",
       "4083 2024-03-15 10:10:37  Extremely likely                       \n",
       "4084 2024-03-15 10:31:06  Extremely likely                       \n",
       "4085 2024-03-15 10:33:33  Extremely likely                       \n",
       "4086 2024-03-15 11:37:33          Unlikely                       \n",
       "4087 2024-03-15 12:23:16  Extremely likely                       \n",
       "\n",
       "                         surgery  \n",
       "4083  The Abingdon Health Centre  \n",
       "4084          Stanhope Mews West  \n",
       "4085  The Abingdon Health Centre  \n",
       "4086         Earls Court Surgery  \n",
       "4087  The Abingdon Health Centre  "
      ]
     },
     "execution_count": 19,
     "metadata": {},
     "output_type": "execute_result"
    }
   ],
   "source": [
    "data.tail()"
   ]
  },
  {
   "cell_type": "code",
   "execution_count": 4,
   "id": "d2fa1a26-7736-448c-ba20-a01ee69b75e3",
   "metadata": {},
   "outputs": [
    {
     "data": {
      "text/plain": [
       "(4087, 5)"
      ]
     },
     "execution_count": 4,
     "metadata": {},
     "output_type": "execute_result"
    }
   ],
   "source": [
    "data.shape"
   ]
  },
  {
   "cell_type": "code",
   "execution_count": 12,
   "id": "02673dc0-1dfc-40f1-8447-a05fcc941919",
   "metadata": {},
   "outputs": [],
   "source": [
    "def check_column_length(dataframe):\n",
    "    short_phrases = []\n",
    "\n",
    "    # Iterate over each entry in the 'do_better' column\n",
    "    for entry in dataframe['free_text']:\n",
    "        # Count the number of words in the entry\n",
    "        word_count = len(str(entry).split())\n",
    "\n",
    "        # Check if the word count is less than 5\n",
    "        if word_count < 10:\n",
    "            short_phrases.append(entry)\n",
    "\n",
    "    # Print the list of entries with fewer than 5 words\n",
    "    print(\"Entries with fewer than 5 words:\", short_phrases)\n",
    "\n",
    "# Example usage\n",
    "# Assuming 'df' is your DataFrame and it has a column named 'do_better'\n",
    "# df = pd.DataFrame({'do_better': ['Improve communication', 'Be more timely', 'Feedback', 'Enhance portal usability', 'Listen more']})\n",
    "# check_do_better_column(df)"
   ]
  },
  {
   "cell_type": "code",
   "execution_count": 13,
   "id": "332a0a4d-0319-4e26-bcb3-39351a4d4241",
   "metadata": {},
   "outputs": [
    {
     "name": "stdout",
     "output_type": "stream",
     "text": [
      "Entries with fewer than 5 words: ['so good so confidential', 'The doctor was very understanding and very knowledgeable.', 'Dr E was extremely nice ', '', 'Faster appointment & treatment ..', 'Love the practice', 'Efficient, friendly  staff ', 'Good service ', 'Because the staff are very helpful ', 'Nurse A is really helpful and look after us. ', 'Friendly,  professional and easily accessible ', 'Dr great', 'The receptionist was really very very helpful', 'Happy with my doctor  .', '', 'I was there treated properly. ', 'Satisfied the service ', 'All the colleagues are nice and professional ', '', 'staff at surger', 'The GP was very calm, friendly and helpful', 'Coz never  put me down ', 'Immediate appointment, great doctor and very caring staff', 'Friendly and good ', '', '', '', 'Love the practice', 'Help what I need,thank you so much.', 'Not caring practice I am afraid ', '', 'Everything is good clinic doctors and all staff good', 'Everything is good clinic doctors and all staff good', 'Because all Staffs are Helpful Friendly as well..', '', '', '', '', '', '', '', '', '', \"Doctor's response\", 'The nurse was extremely friendly and attentive and professional ', 'Cheerful staff. Quick solution', 'Really friendly', 'Really friendly', 'They are very kind &smile ', 'They provide many services on their premises ', 'Very kind helpful', 'Everything went great! ', 'Everyone is helpful ', '', 'They are always very helpful and friendly ', '', '', '', 'With my experiences\\n', '', 'Receptionists and doctors helpful and give good services', 'Because she is understanding ', 'Short time with the doctors ', 'I find the Frs in surgery willing Torsten ', 'Very helpful and considerate ', 'Great surgery', 'The staff and doctors are very attentive and friendly', 'I have receive great service ', 'When ever contacted I got good response ', 'Very competent and friendly ', '', 'Everything was perfect and upper expectations ', 'I am happy with that', 'The staff is very friendly with their customers ', '', 'Good service and good attention.', 'Good Doctors specially Adeeb', 'Excellent service each time.', 'Very helpful reception staff and great doctors ', '', 'A:/n', '', 'It went ok', 'Always good service', 'Friendly and efficient', 'Good service and waiting time', 'Have been to this surgery for long time', '', '', 'quite good service ', '', '', 'Poeple there they are very helpful ', 'Treated properly. ', 'Friendly team', '', 'Friendly and helpful doctors and receptionists ', 'Very helpful and informative', 'Receptionist are rude and unhelpful', 'Everybody at rhe surgery is friendly, dedicated & supportive ', 'Friendly and professional service ', '', \"Because I'm very happy to the service \", 'Good services', '', '', 'They  are  entertaining  in proper', 'Excellent test speed and gp advice ', 'Great caring service ', 'Very friendly and Extremely likely service ', 'Friendly and very caring doctors and nurse', 'Way proactive communication ', 'Useful test for heart', 'Staff are good and friendly ', 'Family like treatment from the staff.', 'Doctors,Nurses and Staff are very professional and friendly. ', 'I was very satisfied. ', 'Keeps my health under control', 'Very caring ', '', 'Good service ', '', 'I rate  positively my visit with the GP.', 'Receptionists very friendly and helpful.', 'Medical expertise', '', 'All the stuff are very friendly.', '', 'They are Extremely likely accomodating friendly and helpful', 'Very professional and pleasant ', '', '', 'Professional, helpful,', '', '', 'my GP E is extremely professional and helpful', '', 'I feel comfortable and happy with the service. ', 'Everything is good ', 'Everything is good ', 'Friendly efficient and highly competent', ' Extremely likely service by all staff.', 'Becous thr attention is good', 'All services available at one place', 'Good service ', 'Efficient and cordial service ', 'Efficient and polite.', 'Everyone is always available, extremely helpful and nice.', 'Receptionists very polite and efficient.', 'Friendly staff \\nGood doctors ', 'Because everyone is always ready to help', 'Good', 'I appreciate the concern and excellent care', '', 'Beacause they are professional and so kind', 'You attend to your patients with care and passion ', 'Lovely friendly professional people', \"I've always recived the best treatment.\", 'Everyone is always helpful, friendly and welcoming.', '', '', 'the staff and doctors are very attentive and kind', 'The staff and doctors are very attentive and kind', 'everyone there are very friendly and helpful', 'Staff are nice', '', 'it’s just ok to crap to pure  shit ', 'Good GPS. Helpful receptionists. ', '', '', '', 'The nurse has been extremely kind and professional ', 'Got what I need of medical treatments ', '', 'Extremely likely dervish ', '', '', '', 'Friendly reciptionsts,very nice and professional nurses.the experience is good ', \"I've been with you a long time!\", '', 'Good and cooperative doctor', 'Very quick flu shot process ', 'Dr. A is very expert and friendly ', 'Perfect ', 'Everything is excellent ', 'The staff and doctors are AMAZING ', 'I always receive a Extremely likely service ', 'Very prompt service ', 'great surgery', 'Well organised and efficient ', 'They are very professional . ', 'Helpful staff and doctors. Understanding and patient. Reassuring. Polite. ', 'All the staff and doctors are kind and helpful.', 'Because I am happy with you service ', 'I feel okay about it ', 'Provide good services and doctors are available at request', '', '', \"I feel I'm listened on my thoughts\", 'Very friendly ', 'Doctors & all the staff are very friendly ', 'They are always very helpful ', 'Surgery and staff Extremely likely ', 'Surgery ready to give flu vaccine 👍', '', '', 'Doctor very knowledgeable ', 'All the staff are friendly ', '', 'I gavent visited this surgery since May 2023', '', 'The practitioner was friendly  and supportive ', 'Such nice staff & doctors', 'Efficient and polite staff', 'Easy to manage appointments ', 'Good for me', 'Excellent service by all the staff.', '', 'Experience', 'Extremely likely doctor and nice staff ', 'Good service ', 'Everything was perfect ', '', '', 'Professional, friendly', 'New people working days very professional', '.', '', 'The Surgery gets things done.', 'Staff are extremely encouraging and helpful. ', 'From my experience ', 'Always prompt service ', 'Very. Good. Thank. You.  ', 'Helpful service, friendly doctors.', 'Efficient, polite and reassuring.', 'Great care and efficient service', '', 'They are very nice ', 'Brilliant doctor & very helpful reception staff ', '', 'Service is quick.', 'Front desk staff must be totally changed ', '', '', 'Coz service  very  good  ', 'Coz service  Extremely likely  ', 'Booking time was very fast ', 'No que to book and same day booking service ', 'Wonderful well informed and well run surgery', 'Good stuff ', '', 'Faster', 'All services is Extremely likely ', 'It is ok', 'All service’s is Extremely likely ', 'It is ok', '', '', 'It is easy to get an appointment and assistance ', 'Nurse A is professional and helpful ', 'They are friendly and very helpful ', 'The staff was very professional. ', '', 'Kind and caring ', 'I always feel home there and looked after ', 'Thei improved the service at the reception ', 'You always respond well ', 'Because all staff are friendly and helpful and respectful.', 'The appointment was on time', 'Very helpful and efficient staff excellent ', 'They are helpful ', 'Nice and polite welcoming.', 'Good ', 'Attentive', '', '', 'everything is fine', 'They’re doing good job ', 'I like the professionals there ', 'They are so caring and helpful.', 'Extremely likely', '', 'Staff are nice and good to listen ', 'Staff are very helpful. ', 'The front desk staff need totally changed ', 'Pleasent friendly staff', 'The staff at reception lacking communication skills ', 'Friendly reception. Good doctors', 'They are always very helpful ', 'A good surgery', 'Excellent treatment by doctors and staff ', \"It's really helpful \", 'Great friendly service from the nurse', '', 'No thanks ', 'Because is the best surgery ', 'Extremely likely care and understanding ', '', 'Always helpful and caring', '', 'Very officiant professional and friendly staff ', 'Easy access ', '', '', '', 'They do care about people health ', 'Friendly reception staff and good GPs', '', 'Excellent doctor and great attention', '', '', '', 'Excellent Doctor, Nurse and receptionists', '', '', 'Service is Extremely likely ', 'Very satisfied with my experience. ', '', 'They are very friendly and helpful', 'Professional and kind', '', 'Dr helped', 'I think they genuinely care,', 'Because Nurse was helpful and reassured me', '', 'They’re look after patients ', 'Good service', 'Always helpful staff', 'Friendly staff and doctor', '', 'Caring ', 'Organized ', 'Prompt and positive responses ', 'The staff nurse & doctors were patient & understanding ', 'Friendly and efficient surgery Dr E a great GP', 'Friendly staff and seen very quickly. ', 'All the staff are so nice and kind.', 'They are Extremely likely', 'Kind and friendly staff ', 'Response is always helpful and knowledgeable', '', 'Dr is kind and nice. ', 'I been treated fairly  ', '', 'Dr A is a skillful and friendly GP', 'Doctors are Extremely likely and knowledgable', 'Friendly reception personnel and good doctors ', 'Very helpful and accommodating, caring and supportive service', 'Staff are friendly and not too crowded ', 'They are all concerned in very friendly ', 'They are all concerned & very friendly ', 'Staff courteous, helpful and knowledgable ', 'Prompt and caring staff.', 'Excellent doctor nurses reception', 'Right answer & quick answer and good service…', 'The Staff are always very helpful and friendly,', 'Everyone is soo helpful ', 'Dr. E is the best', '', 'Extremely likely service', 'not happy', 'She was so kind. ', 'Extremely likely and quick service', 'The nurse Alex was amazing as usual..thank you.', 'Very Happy with my General Practitioner, thank you. ', 'My experience at the GP Practice is always OK.', '', 'All went to plan', '', 'good', 'Pleasant and helpful doctor ', '', 'Excellent treatment', '', 'Efficient & friendly -  great surgery', '', '', '', 'Great  service  so helpful ', 'Professional and caring ', '', \" Good it's  okey\", '', 'Very proficient and helpful', 'I like that it is good', 'The appointment was quick and efficient ', '', 'All Extremely likely!', '', '', '', '', 'Not sure how I feel about my GP surgery.', 'My doctor very concerned about my my health', 'Friendly staff', 'Well attended to patient needs', '25 years I didn’t have any problem….', '', 'Friendly atmosphere and helpful ', 'Extremely likely ', 'GP has Extremely likely services and Nurses too', '', '', '', '', '', 'Good service ', 'Good service ', 'Because they are kinds and professionals', 'Kindness and professionality', 'Like the surgery a lot.', '', 'Very friendly surgery, the Doctors are great and helpful.', '', '', 'Love my surgery will not change.', '', 'courtesy and professionalism', 'Because the doctor and his staff really very helpful ', '', '', '', 'Love my GP surgery', 'Professional and polite all the staff', '', 'Excellent service ', 'Perfect staff', 'Excellent caring and timing ', 'Extremely likely ', '', 'The service is always prompt. ', \"Good service,  you  don't wait so long \", 'Very friendly and professional ', '', '', 'Professional courteous and helpful staff ', 'NHS are very welcoming and have a friendly service', 'Competence and kindness of staff', 'Always very helpful and, courteous', 'Because they are looking after me every single things ', 'There is no knowledge delivered or care ', 'the service is pants ', 'All team is always polite and helpful ', '', 'Good ', 'Good surgery ', 'Because the GP is Extremely likely with patients ', 'Miss Dra Param ', \"I've was well treated. \", 'Friendly service', 'Knowledgable doctors', '', 'Love my Practice', '', '', 'Very helpful ', '', '', '', 'Always happy. ', 'The staff polite feel welcome and comfortable whit doctor ', '', 'Very nice and helpful', 'They are  very kind', '', 'The assistants are very helpful and professional', 'Good feeling', 'All staff is caring and efficient ', 'She took me seriously and warm staff.', 'Rude staff', 'Not a nice surgery.', 'Lovely Surgery with helpful staff, GPs and nurse.', 'Dr Emiliani is extremely professional and pleasant.', 'Satisfied with my GP Surgery', 'No comment', '', '', '', 'Na', 'Helpful staff and professional & helpful  GBs. ', '', 'Very kind ', 'Very kind ', 'Availability of GP', 'Lula is the most kind, efficient and understanding.', '', 'Relatively quick and easy', 'Very friendly and professional ', 'I love all the staff and Dott Emiliani ', 'This surgery is always helpful, efficient and understanding', 'I find our Surgery welcoming and friendly', 'Caring, understanding and available', 'Extremely likely doctor and helpful surgery ', '', 'Good service ', 'Fantastic doctors and helpful staff ', 'The nurse is very kind and competent', '', 'Efficiency ', '', '', 'The staff are courteous and helpful ', '', '', 'Friendly surgery and welcoming staff, I have no complaints.', '', '', '', 'Quick, good support', 'Frindly staff and medical professionals', '', '', 'Excellent care ', '', 'The doctors and their staff are kind and helpful.', 'The treatment I got was fantastic ', 'Very happy with my surgery', '', 'Simply they good', 'Friendly and helpful', 'Good Service and well taken care ', 'They are really professional and friendly ', 'The staff are very friendly and helpful.', 'Friendly, very professional. ', 'Professional, efficient ', 'First class doctors and staff', 'Because its a Extremely likely practise to a patient ', 'Efficient,  expert and friendly appointment', 'So efficient and friendly', 'Very engaged, empathetic, efficient and knowledgeable.', 'Friendly efficient service', 'The people are just great ', 'Generally a Extremely likely practice ', 'All staff and doctors are Extremely likely ', 'Organised front desk', 'everyone is always very kind helpful and accommodating ', 'Very friendly place. ', 'Everyone very friendly and efficient ', 'Doctors are really good', 'Seen on time. Always pleasant. Efficient.', '', 'Very short waiting time and excellent care.', 'Efficient excellent service', 'I feel comfortable speaking to doctors ', 'Excellent reception.', 'Excellence.Efficient.Kind.', 'Staff and doctors are very nice ', 'They have good staff', 'Extremely likely service at reception and doctors ', 'Friendly reception & atmosphere in waiting area', 'Very confident in the professional care and attention ', 'Very nice people and a fist class service', '', 'It is an excellent  surgery', 'Extremely efficient ', 'Helpful administration. Reasonable waiting times. Good treatment. ', ' Staff are so friendly helpfull so nice ', '', '', 'Efficient  friendly.', 'The doctors are really kind and helpful.', 'The nurse was very polite ', 'Wonderful  reception  assistants. Ĺ', '', 'Staff are always unpleasant and rude', 'Good facilities, helpful staff ', 'Always good service, polite, supportive and reassuring ', 'Pleasant and helpful ', 'Good and attentive service.', 'Good doctor, nice premises, helpful staff', 'well attended', 'Just brilliant', '', 'Always available over the phone and helpful. Good advice.', 'Just polite and dynamic!', 'Reliable and efficient service', 'Difficulty seeing GPs and always different', \"The G P's specially Dr Hussein are outstanding\", 'Many people I know are already patients ', 'Very Professional support and help...', '', 'Because the Extremely likely surgery ', 'Very prepared and always available professionals ', 'Always helpful, informative and helpful ', 'The doctors are so good', 'It is  good surgery', 'Professional.  Prompt response.  On-time appointments.', '', ' Always so professional and helpful', 'Efficiently seen to, really good service. ', 'Friendly, efficient, send reminders ', 'Good service ', 'Professional,  friendly & helpful - in fact fantastic ', 'The waiting time is very short!', '', 'Professionalism', 'Pleasant doctors and friendly staff', 'Prompt, competent and efficient service', 'Great advice, direction and service!', 'Professional, effective and friendly service ', 'very happy with my GP provider ', 'Helpful friendly and quiet', 'Efficient and reliable surgery ', 'Save and happy ', 'always available and fast replies', 'I love them all', '', 'Wheelchair accessibility  and prompt service  ', 'Helpful and assistance on health issues ', 'Everything went smoothly & could not have been better ', 'They are helpful, friendlyand efficient', 'Very prompt and careful attention. ', 'Dr Emiliani she is the best', 'Always very helpful', 'Very efficient so far ', 'I feel the Drs are keen to help. ', 'Some of the staffs  good ', 'Mostly efficient and quick response. ', '', 'Efficient service', '', '', 'Courteous and professional approach to patients ', 'Because your care is very efficient ands friendly.', 'Friendly & help where they can', 'Efficiency ', '', '', 'The receptionist was helpful as indeed was the doctor ', 'An efficient, friendly surgery.', 'Efficient excellent service ', 'Not always able to get answers on phone', 'People Kind, friendly and professional', '', 'The receptionist are helpful ', 'Helpful, friendly and caring medical surgery!', 'Same far service and helpful ', 'It was an urgent response ', 'Helpful receptionists, good nurses & Drs', 'Always get great help', 'no waiting good rapport', 'Good service ', 'Very quick and kind ', '', '', 'Professional', 'thorough phone consultation', 'Quick and professional ', '', '', 'The electrocardiogram was done very well.', 'Friendly and efficient and great advice', 'Friendly ', 'I was assisted well', 'Appointment on time , Doc very quick for actions ', 'I found a positive experience ', '', 'clear and friendly', 'It is a very caring practice', '', '', 'Very friendly environment ', 'Professional doctors &  staff', '', '', '', '', '', '', '', '', '', '', '', '', '', '', '', '', '', '', '', '', '', '', '', '', '', 'I am very happy about you . Thanks', 'I am very happy about you . Thanks ', '', '', '', 'They are Extremely likely and helpful ', 'They are Extremely likely and helpful', '', '', '', '', '', '', 'Riza Lindner', 'Riza Lindner ', '', 'Not bad', 'Not bad', '', '', 'The nurse was amazing ', 'The nurse was amazing', '', '', 'Not used them for a while', 'Not used them for a while', '', '', '', '', '', '', 'The doctor she is very helpful and professional. ', 'The doctor she is very helpful and professional.', '', '', '', '', '', '', '', '', '', '', 'All good', 'All good ', '', '', '', '', '', '', '', '', '', '', '', '', '', '', '', '', '', '', '', '', '', '', 'Friendly reception staff and nurse. Like my doctor', 'Friendly reception staff and nurse. Like my doctor', '', '', '', '', '', '', 'Very friendly reception staff and super good medical advices', 'Very friendly reception staff and super good medical advices', 'No, everything is okay ', 'No, everything is okay', '', '', '', '', '', '', 'I think dr emiliani and the nurses are great!', 'I think dr emiliani and the nurses are great!', '', '', '', '', '', '', '', '', '', '', '', '', '', '', 'Extremely likely', 'Extremely likely ', '', '', '', '', '', '', 'All good and positive.', 'All good and positive.', '', 'Xx', '', '', 'RECEPTION FRIENDLY &HELPFULL AND PROFESSIONAL', 'RECEPTION  FRIENDLY &HELPFULL  AND PROFESSIONAL ', '', '', '', '', '', '', '', '', 'N/A', 'N/A', '', '', '', '', '', '', '', '', '', 'I am always very satisfied with the service', 'I am always very satisfied with the service', 'Thanks for everything ', 'Thanks for everything', '', '', 'The surgery and reception I have found extremely helpful', 'The surgery and reception I have found extremely helpful ', '', '', '', '', '', 'Staff is always kind and helpful. Thank you.', 'Staff is always kind and helpful. Thank you.', '', '', '', '', 'Dr Hogan was very helpful', 'Dr Hogan was very helpful', '', '', '', '', '', '', '', '', 'Te receptionist are friendly and good customer service.', 'Te receptionist are friendly and good customer service.', '', '', '', '', '', '', '', '', '', 'All ways Extremely likely', 'All ways Extremely likely', '', '', '', 'Very helpful', 'Very helpful ', '', '', '', '', 'Riza Lindner', 'Riza Lindner ', '', '', '', 'Amazing surgery. ', 'Amazing surgery.', '', '', 'Thank you', 'Thank you ', '', '', '', '', '', '', '', '', '', 'No comment ', '', '', '', '', '', '', '', '', '', '', '', '', '', 'Very satisfied', 'Very satisfied ', 'My doctors surgery is wonderful, the best!!', 'My doctors surgery is wonderful, the best!!', 'The doctors, the staff are very professional', 'The doctors, the staff are very professional', '', '', '', '', '', '', '', '', '', '', '', '', '', 'Efficient, friendly and polite ', 'Great!', 'Great!', 'Everyone is very helpful and friendly ', 'Receptive, efficient polite. ', 'Prompt, efficient, knowledgeable, and caring medical advice and treatment.', '', '', 'Because was good service ', '', 'I never use the website', 'I never use the website ', '', 'More understanding about the menopause, Doctor was against HRT', 'More understanding about the menopause, Doctor was against HRT ', 'That’s my opinions ', 'Always very helpful', '', '', '', 'No waiting, and everybody helpful and charming.', '', '', '', 'Friendly and very helpful ', '', '', 'Improved a lot', 'Improved a lot', '', '', '', '', '', '', 'Responsible doctors', 'Very helpful ', 'Because its a good surgery.', 'The doctors and staff are really lovely ', 'Excellent service!', 'It’s a very efficient practice.', 'Service is very straight forward and efficient', '', 'Quite helpful ', 'Great doctors and good reception ', 'Very friendly and caring ', 'Knowledge friendly', 'Helpful and efficient ', '', '', 'Appointment was late and nurse was ill prepared ', 'Easy to get appointments ', 'Eiificent, expert and friendly', 'The nurse was super professional and kind', 'Always friendly & efficient staff & care. ', 'Staff very kind and helpful. ', '', '', 'Excellent service. Dr Brodie is great ', '', '', 'Always friendly and helpful ', 'Prompt seevice and caring ', 'Excellent service ', 'Good ', '', 'Efficient service and nice doctor', 'Doctors and staff are very pleasant and helpful.', 'Doctors and staff are very pleasant and helpful.', '', 'Professional', 'All the staff arekind, professional and efficient. ', '', '', 'Always prompt and helpful', '', '', 'No complaints ', 'No complaints', '', '', '', 'Never used website so gave a neutral reply ', 'Never used website so gave a neutral reply', '', '', '', '', '', 'Prompt  pollute and friendly', 'I have great docter', 'A well run medical practice.', 'A well run medical practice.', '', 'No observations', '', 'No observations', '', '', '', '', 'Always perfect service', 'Always perfect service', '', 'Everything is good', 'Everything is good', 'Happy, no problems \\nIt', 'Happy, no problems \\n It', 'Difficult to improve on it.', 'Difficult to improve on it.', '', 'Always easy to get appointments', 'Always easy to get appointments ', '', 'An enjoyable experience ', 'An enjoyable experience', '', '', '', 'Extremely likely service and friendly staff ', 'Extremely likely service and friendly staff', '', '', '', 'Excellent GP and service. ', '', 'A helpful practice.', 'Satisfied    Ok👍', 'Satisfied OkðŸ‘\\x8d', '', '', 'Excellent practice with very professional doctors and staff', 'All Extremely likely and helpful ', 'All Extremely likely and helpful', '', 'Xx', 'They are very helpful', 'They are very helpful', 'They are very helpful', 'They are very helpful', '', 'They provide excellent service ', '', '', '', 'Xx', 'Very helpful team ', '', '', '', '', '', '', '', '', '', '', '', '', '', '', '', '', '', '', '', '', '', 'Everything is perfect. ', 'Everything is perfect.', '', '', '', '', '', '', '', '', '', '', 'Very helpful staff', 'They are very efficient and pleasant although overworked. ', '6 hour wait for transport', 'No problems', 'No problems', '', '', 'Amazing doctors - very nice friendly reception', 'They are all nice and very helpful.', 'They are all nice and very helpful.', '', '', '', '', '', 'Excellent services, very polite staff .', 'Excellent services, very polite staff .', '', 'Vedry satisfied.', 'Vedry satisfied.', '', '', '', 'It’s a friendly, efficient practice ', 'Efficiency, care and attention ', '', '', 'Continue the good job', 'Continue the good job ', 'Friendly and attentive', '', '', '', 'Extremely likely drs and staff. ', 'N/A', 'N/A', '', '', '', 'Extremely likely doctors ', 'Excellent service always', 'Excellent service always', '', '', '', 'Very friendly and welcoming and good ', 'I have always been treated very well', 'Jorge was amazing for vaccines ', 'The nurse was 30min late', '', 'A friendly team with very later appointments 😊', 'Very supportive and understanding ', 'The practice staff are always responsive', '', '', 'The practice inspires confidence.', 'Prompt and welcoming service', 'GPs available for in person consultations. Excellent follow up', 'Superb service. Very knowledgeable doctor with excellent patient interaction', '\\nLovely  nurses.', '', 'Staff are polite and welcoming ', 'The best medical', '', 'The best medical', 'Kind and professional service ', '', 'Everyone is helpful, kind, polite and informative', '', '', 'Things are not what they used to be.', '', '', 'Excellent service ', 'It was OK', 'Friendly and personal approach', 'The service was quick, efficient and it worked!', \"Generally, it's a good service.\", '', '', 'Quick urgent appointment was given to me .', '', '', '', 'Very nice staff, nurses, reception', '', '', '', '', '', '', '', 'No comment', '', 'No comment', '', '', '', '', 'Mostly excellent attention, odd person difficult. ', 'Mostly excellent attention, odd person difficult.', '', '', '', '', '', '', '', '', 'It takes sometime to wait for available appointments ', 'It takes sometime to wait for available appointments', '', '', '', '', '', 'Excellent service very nice staff', '', '', '', '', '', '', '', '', '', '', '', '', '', '', 'Very happy ', 'Very happy', '', '', '', '', '', '', '', '', '', '', '', '', 'Not very responsive answering emails', '', 'Not very responsive answering emails', '', '', '', 'Impossible to see a GP', '', 'Impossible to see a GP', '', '', '', '', '', '', 'Good service ', '', 'Very satisfied ', 'Very satisfied', '', '', '', '', '', '', '', 'na', 'na', '', '', '', 'I have not attended the surgery recently.', '', 'I have not attended the surgery recently.', 'Efficient friendly service', '', 'Excellent on all counts', 'Excellent on all counts ', '', '', 'my experience has been quite good', '', 'I like the calmness of the surgery.', 'Great service all round', '', '', '', '', '', '', 'Good', 'Good ', '', '', '', 'Very helpful and supportive discussion - thank you', 'Very helpful and supportive discussion - thank you', '', '', '', '', '', '', '', '', '', \"I've never use the website\", \"I've never use  the website \", 'Patches improves the situation.', 'Patches improves the situation. ', '', '', '', '', '', '', 'Such an impressive efficient team', 'Such an impressive efficient team', '', '', '', '', '', 'Great service this time ', '', '', '', '', '', 'Good in clinic facilities and service ', '', 'Very Helpful staff', 'Very Helpful staff ', '', '', '', '', '', 'VERY HAPPY WITH SERVICE ', 'VERY HAPPY WITH SERVICE', '', '', 'Very friendly ', '', 'I’m happy with the services', '', 'Well done. Thank you!', 'Well done.  Thank you!', '', 'Professional. ', '', 'Everything is ok', 'Everything is ok', '', '', '', 'Excellent practice with helpful and nice front desk staff', '', '', '', '', '', '', '', '', '', '', '', '', '', '', 'The huge improvement since the practice moved   ', 'The huge improvement since the practice moved', 'The staff are very helpful and kind.', 'The staff are very helpful  and kind.', '', '', '', '', '', '', '', '', '', '', '', '', '', '', '', 'It would be helpful to arrange appointments on line.', 'It would be helpful to arrange appointments on line.  ', '', '', '', 'The staff are efficient, friendly, and helpful.', 'The staff are efficient, friendly, and helpful.', '', '', '', '', '', '', 'had good service so far  Bus Stop nearby', '', '', '', 'Very happy overall with everything and lovely new site.', 'Very happy overall with everything and lovely new site.', '', '', '', '', '', '', 'Good caring treatment and information', '', 'Excellent service', 'Excellent service ', '', '', '', '', '', 'None, thank you.', 'None, thank you.', '', '', '', '', '', '', '', '', '', '', '', '', '', '', '', '', '', '', '', '', '', '', '', '', '', '', 'Website has been difficult but think getting better', 'Website has been difficult but think getting better ', '', 'Why does it take so long to see someone?', 'Why does it take so long to see someone? ', '', '', 'All good.', '', 'All good. ', '', '', 'Overall good. No issues.', 'Overall good. No issues.', '', '', 'it is difficult see the doctor in person.', 'it is difficult see the doctor in person. ', 'Extremely likely staff', 'Extremely likely staff', '', '', '', '', '', '', '', '', '', '', '', '', '', 'Actually, my recent visit was on time.', 'Actually, my recent visit was on time.', '', '', '', '', '', '', '', 'Difficult to get an appointment', 'Difficult to get an appointment ', '', '', 'thank you HPVM!!!', 'thank you HPVM!!!', '', '', '', '', '', '', '', '', '', '', '', '', '', '', '', '', '', '', '', '', '', '', '', '', '', '', '', '', 'Very helpful practice', 'Very  helpful practice', '', '', 'Very satisfactory', 'Very satisfactory', '', '', '', '', '', '', 'Excellent repeating prescription ', 'Excellent repeating prescription', '', '', 'Very professional practice nurses', '', '', '', 'Very professional practice nurses', '', 'Everyone polite and friendly it is much appreciated.', 'Everyone polite and friendly it is much appreciated. ', '', '', '', '', 'I’ve only ever got to see a nurse.', 'Iâ€™ve only ever got to see a nurse.', '', '', '', '', 'Wonderful Service. Kind. Friendly. Helpful. Excellent care & advice.', 'Wonderful Service. Kind. Friendly. Helpful. Excellent care & advice.', '', '', '', '', '', 'The doctors and nurses are great.', '', 'The doctors and nurses are great.', 'Quick, kept informed once the booking app gets updated', '', '', '', '', '', '', '', '', '', '', 'Fantastic surgery thank you', 'Fantastic surgery thank you ', '', '', '', '', '', '', '', '', '', '', '', 'Extremely likely, well run practice. ', '', 'They are truly wonderful!', '', '', 'Very helpful staff and I’am happy with my GP ', '', '', '', '', '', '', 'Prompt and efficient', '', '', '', '', '', 'I do not use the web site ', '', '', '', '', '', '', 'Aways efficient and helpful!', '', '', '', 'I was waiting for a follow up blood test', '', '', 'Everyone very kind and helpful ', '', 'Very efficient and pleasant to deal with', 'Congratulations on doing so well in difficult times. ', '', '', 'Not sure how to access test or scan results', 'Everyone  very  kind and helpful', 'So far so good', '', '', '', '', '', '', '', '', 'Very happy ', '', '', '', '', 'Remarkable empathy and attention to detail. Always proactive ', '', '', '', '', '', '', '', '', '', '', '', 'Thanks ', 'I am very happy  with everyone  in  my Gp ', '', '', 'Everything goes well during my appointments.', '', '', '', '', '', 'Always had a Extremely likely service in all aspects ', '', '', '', '', '', '', '', '', '', 'Happy with everything. Very helpful staff and doctors', 'Hi, have than that yesterday ', '', '', '', '', '', '', '', '', '', '', '', '', '', '', '', '', '', '', '', 'Pleased with the service ', '', '', '', '', '', '', '', '', '', '', '', '', 'Likely 👍 ', '', '', '', '', '', '', '', '', '', '', '', '', 'Good service', \"I haven't ever had a problem. Thank you.\", '', '', '', '', '', '', '', '', '', '', 'All staff & doctors extremely efficient & friendly. ', '', '', '', 'Amazing as always ', 'Extremely likely ', '', '', '', 'Very pleasant and competent ', '', '', '', '', '', '', '', '', '', '', '', '', 'I am overall satisfied with the service', '', '', '', '', '', '', 'Outstanding practice. Everybody So professional and dedicated. ', '', 'You should include the option to book appointments online.', 'V good', '', '', '', 'Very helpful and very concern ', '', '', '', '', '', 'Very friendly \\nAlways helpful and attentive', '', '', '', '', '', '', '', '', '', 'Staff are lovely, was helpful, explained next steps ', '', 'Have had speedy referrals', '', '', '', '', '', '', 'Receptionist are very professional. Helpful and polite. ', '', '', '', '', 'Always very pleasant staff and doctors ', '', '', '', '', '', '', '', '', '', '', '', '', 'Staff very friendly ', '', 'Everything has been excellent so far.', 'I was very pleased and satisfied.', '', '', 'Very satisfied, no problems whatsoever ', '', '', '', 'You are perfect ', '', '', '', '', '', '', '', '', '', '', '', 'Excellent ', '', '', '', '', '', '', '', '', '', 'Dr Scudder manages a marvellous practice', '', 'Quote satisfied', '', '', '', 'Satisfied with services at the reception ', '', '', '', '', '', '', '', '', '', '', 'Efficient , friendly staff at all levels. ', '', '', '', '', '', 'all is fine', 'Quite good as they lookafter you', '', 'Good 👍 ', '', '', '', '', 'Poor GP with dismissive doctors ', '', '', '', 'We have a wonderful surgery   We count ourselves lucky ', '', '', '', '', '', '', '', 'Welcoming. Professional. Best practice ', 'Is good and I am satisfied writhe their service ', '', '', '', '', 'Follow up is poor', '', '', 'Dr king and team are the best. Thank you! ', '', '', '', '', 'Very aproachable and kind ', '', '', 'To old to use website ', 'Very professional and caring service ', '', '', '', '', 'I am very pleased with your/my practice.', '', '', '', '', 'Almost impossible to get an appointment ', 'I haven’t tried to use the website yet. ', '', '', '', '', '', '', '', '', '', '', '', '', '', '', '', '', '', 'Always friendly and very helpful staff ', '', '', '', '', '', '', 'Best surgery! Excellent service! ', '', 'No problem in the waiting time', '', '', 'Nothing I can say ,,it’s Extremely likely ', 'Wonderful reception staff, and very helpful doctors ', '', '', '', '', \"I wasn't happy with the apointment\", '', 'Not been for a while. ', '', 'Excellent service,  very helpful 👍 ', '', '', 'They make feel heard and that they care', '', 'Very professional ', 'Such a first class surgery in every way', '', '', '', '', '', '', '', '', '', '', '', '', 'Very attentive and efficient ', 'Last appointment was good.', 'Extremely likely service!', '', '', '', 'Lovely doctors/nurses/admin people', '', 'Very favourable', 'Satisfactory', '', '', '', 'An excellent service . Thorough and prompt . ', '', 'BECAUSE YOU,S HAVE DONE PRETTY WELL FOR ME', '', '', '', '', '', '', '', '', '', '', '', '', '', 'they try', '', '', '', '', 'Very professional and friendly ', '', '', 'Excellent friendly service', '', '', 'No appointments needed recently ', '', '', '', 'Ok is so wonderful  the surgery..', '', '', '', 'I like my GP Surgery', '', '', 'Excellent care provided in a warm and caring environment', \"It's a great NHS with great service and humble!!\", 'Helpful competent staff', 'Perfect service', 'Caring and sympathetic doctors ', 'Good service to overall from start to finish ', 'poor service', 'Prompt service', 'quickly, efficiently, efficiently', 'Very professional service', 'Great service friendly staff emergency appointment given right away ', 'The staff are welcoming ', 'Recently met Dr Duff - great', 'All the staff are helpful and friendly ', 'On the whole good service ', '', 'people are friendly and well communicate', 'They are good and friendly people', 'good service', 'Excellent service and excellent professionals ', 'Outstanding service and outstanding professionals ', 'Very helpful  ', '', 'Good service ', \"Don't know also\", 'The staff is supportive and helpful ', '', '', '', '', 'Lovely staff and nurse and premises ', 'Efficient and helpful ', '', '', 'Quick appointments, friendly staff', '', 'Very convenient and staff are polite ', 'Dr Logan was hugely kind, helpful and understanding', 'The Dr listened to all my concerns ', '', '', '', '', '', '', '', '', 'All good.', '', '', '', '', 'Satisfied with services at the reception ', '', '', '', '', '', '', '', '', '', '', 'Efficient , friendly staff at all levels. ', '', '', '', '', '', 'all is fine', 'Quite good as they lookafter you', '', 'Good 👍 ', '', '', '', '', 'Poor GP with dismissive doctors ', '', '', '', 'We have a wonderful surgery   We count ourselves lucky ', '', '', '', '', '', '', '', 'Welcoming. Professional. Best practice ', 'Is good and I am satisfied writhe their service ', '', '', '', '', 'Follow up is poor', '', '', 'Dr king and team are the best. Thank you! ', '', '', '', '', 'Very aproachable and kind ', '', '', 'To old to use website ', 'Very professional and caring service ', '', '', '', '', 'I am very pleased with your/my practice.', '', '', '', '', 'Almost impossible to get an appointment ', 'I haven’t tried to use the website yet. ', '', '', '', '', '', '', '', '', '', '', '', '', '', '', '', '', '', 'Always friendly and very helpful staff ', '', '', '', '', '', '', 'Best surgery! Excellent service! ', '', 'No problem in the waiting time', '', '', 'Nothing I can say ,,it’s Extremely likely ', 'Wonderful reception staff, and very helpful doctors ', '', '', '', '', '', 'Not been for a while. ', '', 'Excellent service,  very helpful 👍 ', '', '', 'They make feel heard and that they care', '', 'Very professional ', 'Such a first class surgery in every way', '', '', '', '', '', '', '', '', '', '', '', '', 'Last appointment was good.', 'Extremely likely service!', '', '', '', '', 'Very favourable', 'Satisfactory', '', '', '', 'An excellent service . Thorough and prompt . ', '', '', '', '', '', '', '', '', '', '', '', '', '', '', 'they try', '', '', '', '', 'Very professional and friendly ', '', '', 'Excellent friendly service', '', '', 'No appointments needed recently ', '', '', '', 'Ok is so wonderful  the surgery..', '', '', '', '', '', '', 'The staff is very helpful and respectful.', '', 'It’s. Not easy ', 'Great surgery. ', '', '', '', '', '', 'All Extremely likely', '', '', '', '', '', '', '', '', '', 'Fantastic service!', '', 'Im happy with the service they give me', '', 'Menopause Trained and dedicated doctors are needed. ', '', '', '', '', '', '', '', '', '', '', '', '', '', '', '', '', '', '', '', '', '', '', 'Good ', '', '', '', '', '', '', '', '', '', 'A wonderful surgery ', '', '', 'Dr Justin Hammond...a living legend !', '', '', '', 'very caring and looked after by all staff ', 'Good', '', '', '', '', '', '', '', '', 'Extremely likely always\\n', '', '', '', 'Friendly  and helpfufg', '', 'Very helpful ', '', '', '', '', '', '', '', '', '', '', '', '', '', '', '', 'Good : well explained and good reception', '', '', '', '', '', 'Was expecting some information bit it never came', 'Waiting time is too long ', '', '', '', '', 'Good and satisfied', 'All good ', '', '', '', '', '', '', '', '', '', '', '', '', 'Very wonderful\\nPractice', '', '', '', '', 'I am actually quite happy..come out cured\\n', '', '', '', 'n/a', '', '', '', '', '', 'Likely', '', '', '', '', '', '', '', '', '', 'Very satisfied', '', '', '', '', '', '', '', '', '', '', 'Excellent service and excellent professionals ', '', '', '', '', '', 'Friendly and helpful staff.', '', '', '', '', '', '', '', '', '', '', '', 'Very professional, thank you ! ', '', '', '', '', 'Reception staff are always rude', '', '', '', ' Extremely likely', '', '', '', '', '', '', '', '', '', '', 'All good ', '', '', '', 'Always very helpful', '', '', '', '', '', '', '', '', 'I just need to be assigned a GP', '', '', 'Perfect leadership, perfect doctors, perfect team, perfect service.', '', '', '', 'I’m very happy with Stanhope Mews West, always accommodating!', '', '', '', '', '', '', '', '', '', '', '', '', 'All the staff are kind and helpful ', '', '', '', '', 'Excellent ', '', '', '', '', '', '', '', '', '', 'Very well organised Surgery with charming and efficient Receptionists.', '', '', '', '', '', '', '', '', '', '', '', '', 'I love this surgery and the doctors are great.', '', '', 'I haven’t used the website. ', '', '', '', '', '', '', 'Not used the website so can’t comment. ', '', '', '', '', 'Thanks.', '', '', '', '', '', '', '', '', 'n/a', '', '', '', '', 'Ok', '', '', '', '', 'Extremely helpful and polite receptionists and nurses', 'All round brilliant Team…from reception, nurses to GPs.', '', 'Kind & helpful staff, Thankyou ', '', '', '', '', '', 'Am fortunate to such a good practice locally ', '', '', '', 'No comment ', '', '', '', '', '', '', '', '', '', '', '', 'Very friendly staff,  respectful, knowledgeable ,helpful, patient ', '', '', 'My thoughts & experience is excellent.', '', '', 'Extremely likely', 'Thank you very much ', '', '', '', 'Very helpful and accomodating', '', '', '', '', '', '', '', '', '', '', '', '', '', '', '', '', '', '', '', '', 'I like only visit F2F', '', '', '', 'Best surgery in London. ', '', '', '', '', '', '', 'One receptionist is always rude and has an attitude-', '', '', '', '', '', '', '', '', '', 'Website question should have N/A as option', '', '', '', 'I am feeling that staffs are supportive and caring.', '', '', 'An excellent surgery and staff all round.', 'The team are consistently helpful', 'Extra care is given with helpful advise and information. ', 'Fairly ', '', '', '', 'The staff is very helpful and efficient.', '', 'Overall, excellent experience.', '', '', '', '', '', '', '', '', '', '', 'All Good.', '', 'Excellent team doctors and receptionists ', '', '', '', '', '', 'Very satisfied', '', '', '', '', '', '', '', '', '', '', '', '', '', '', '', 10, '', '', '', '', '', '', '', '', '', '', '', '', '', '', '', 'Very professional and service oriented team! Thank you ', '', '', '', 'All round excellent, Thank you.', '', '', '', '', '', '', '', '', '', '', '', '', '', '', '']\n"
     ]
    }
   ],
   "source": [
    "check_column_length(data)"
   ]
  },
  {
   "cell_type": "code",
   "execution_count": 14,
   "id": "c1a08811-f171-455e-a0db-f7e011367f9b",
   "metadata": {},
   "outputs": [],
   "source": [
    "def check_column_length(dataframe, column_name, word_count_length):\n",
    "    # Iterate over each entry in the specified column\n",
    "    for index, entry in enumerate(dataframe[column_name]):\n",
    "        # Count the number of words in the entry\n",
    "        word_count = len(str(entry).split())\n",
    "\n",
    "        # Check if the word count is less than the specified limit\n",
    "        if word_count < word_count_length:\n",
    "            # Replace with NaN if the condition is met\n",
    "            dataframe.at[index, column_name] = pd.nan\n",
    "\n",
    "    return dataframe"
   ]
  },
  {
   "cell_type": "code",
   "execution_count": 15,
   "id": "afdbf2eb-f911-4954-be11-103ea25d6533",
   "metadata": {},
   "outputs": [
    {
     "ename": "AttributeError",
     "evalue": "module 'pandas' has no attribute 'nan'",
     "output_type": "error",
     "traceback": [
      "\u001b[0;31m---------------------------------------------------------------------------\u001b[0m",
      "\u001b[0;31mAttributeError\u001b[0m                            Traceback (most recent call last)",
      "Cell \u001b[0;32mIn[15], line 1\u001b[0m\n\u001b[0;32m----> 1\u001b[0m \u001b[43mcheck_column_length\u001b[49m\u001b[43m(\u001b[49m\u001b[43mdata\u001b[49m\u001b[43m,\u001b[49m\u001b[43m \u001b[49m\u001b[38;5;124;43m'\u001b[39;49m\u001b[38;5;124;43mdo_better\u001b[39;49m\u001b[38;5;124;43m'\u001b[39;49m\u001b[43m,\u001b[49m\u001b[43m \u001b[49m\u001b[38;5;241;43m4\u001b[39;49m\u001b[43m)\u001b[49m\n",
      "Cell \u001b[0;32mIn[14], line 10\u001b[0m, in \u001b[0;36mcheck_column_length\u001b[0;34m(dataframe, column_name, word_count_length)\u001b[0m\n\u001b[1;32m      7\u001b[0m     \u001b[38;5;66;03m# Check if the word count is less than the specified limit\u001b[39;00m\n\u001b[1;32m      8\u001b[0m     \u001b[38;5;28;01mif\u001b[39;00m word_count \u001b[38;5;241m<\u001b[39m word_count_length:\n\u001b[1;32m      9\u001b[0m         \u001b[38;5;66;03m# Replace with NaN if the condition is met\u001b[39;00m\n\u001b[0;32m---> 10\u001b[0m         dataframe\u001b[38;5;241m.\u001b[39mat[index, column_name] \u001b[38;5;241m=\u001b[39m \u001b[43mpd\u001b[49m\u001b[38;5;241;43m.\u001b[39;49m\u001b[43mnan\u001b[49m\n\u001b[1;32m     12\u001b[0m \u001b[38;5;28;01mreturn\u001b[39;00m dataframe\n",
      "File \u001b[0;32m~/.pyenv/versions/3.10.6/envs/friends2/lib/python3.10/site-packages/pandas/__init__.py:264\u001b[0m, in \u001b[0;36m__getattr__\u001b[0;34m(name)\u001b[0m\n\u001b[1;32m    260\u001b[0m     \u001b[38;5;28;01mfrom\u001b[39;00m \u001b[38;5;21;01mpandas\u001b[39;00m\u001b[38;5;21;01m.\u001b[39;00m\u001b[38;5;21;01mcore\u001b[39;00m\u001b[38;5;21;01m.\u001b[39;00m\u001b[38;5;21;01marrays\u001b[39;00m\u001b[38;5;21;01m.\u001b[39;00m\u001b[38;5;21;01msparse\u001b[39;00m \u001b[38;5;28;01mimport\u001b[39;00m SparseArray \u001b[38;5;28;01mas\u001b[39;00m _SparseArray\n\u001b[1;32m    262\u001b[0m     \u001b[38;5;28;01mreturn\u001b[39;00m _SparseArray\n\u001b[0;32m--> 264\u001b[0m \u001b[38;5;28;01mraise\u001b[39;00m \u001b[38;5;167;01mAttributeError\u001b[39;00m(\u001b[38;5;124mf\u001b[39m\u001b[38;5;124m\"\u001b[39m\u001b[38;5;124mmodule \u001b[39m\u001b[38;5;124m'\u001b[39m\u001b[38;5;124mpandas\u001b[39m\u001b[38;5;124m'\u001b[39m\u001b[38;5;124m has no attribute \u001b[39m\u001b[38;5;124m'\u001b[39m\u001b[38;5;132;01m{\u001b[39;00mname\u001b[38;5;132;01m}\u001b[39;00m\u001b[38;5;124m'\u001b[39m\u001b[38;5;124m\"\u001b[39m)\n",
      "\u001b[0;31mAttributeError\u001b[0m: module 'pandas' has no attribute 'nan'"
     ]
    }
   ],
   "source": [
    "check_column_length(data, 'do_better', 4)"
   ]
  },
  {
   "cell_type": "code",
   "execution_count": 16,
   "id": "61ff833e-1d10-4655-a517-da7b25531044",
   "metadata": {},
   "outputs": [
    {
     "ename": "AttributeError",
     "evalue": "module 'pandas' has no attribute 'nan'",
     "output_type": "error",
     "traceback": [
      "\u001b[0;31m---------------------------------------------------------------------------\u001b[0m",
      "\u001b[0;31mAttributeError\u001b[0m                            Traceback (most recent call last)",
      "Cell \u001b[0;32mIn[16], line 1\u001b[0m\n\u001b[0;32m----> 1\u001b[0m \u001b[43mcheck_column_length\u001b[49m\u001b[43m(\u001b[49m\u001b[43mdata\u001b[49m\u001b[43m,\u001b[49m\u001b[43m \u001b[49m\u001b[38;5;124;43m'\u001b[39;49m\u001b[38;5;124;43mfree_text\u001b[39;49m\u001b[38;5;124;43m'\u001b[39;49m\u001b[43m,\u001b[49m\u001b[43m \u001b[49m\u001b[38;5;241;43m2\u001b[39;49m\u001b[43m)\u001b[49m\n",
      "Cell \u001b[0;32mIn[14], line 10\u001b[0m, in \u001b[0;36mcheck_column_length\u001b[0;34m(dataframe, column_name, word_count_length)\u001b[0m\n\u001b[1;32m      7\u001b[0m     \u001b[38;5;66;03m# Check if the word count is less than the specified limit\u001b[39;00m\n\u001b[1;32m      8\u001b[0m     \u001b[38;5;28;01mif\u001b[39;00m word_count \u001b[38;5;241m<\u001b[39m word_count_length:\n\u001b[1;32m      9\u001b[0m         \u001b[38;5;66;03m# Replace with NaN if the condition is met\u001b[39;00m\n\u001b[0;32m---> 10\u001b[0m         dataframe\u001b[38;5;241m.\u001b[39mat[index, column_name] \u001b[38;5;241m=\u001b[39m \u001b[43mpd\u001b[49m\u001b[38;5;241;43m.\u001b[39;49m\u001b[43mnan\u001b[49m\n\u001b[1;32m     12\u001b[0m \u001b[38;5;28;01mreturn\u001b[39;00m dataframe\n",
      "File \u001b[0;32m~/.pyenv/versions/3.10.6/envs/friends2/lib/python3.10/site-packages/pandas/__init__.py:264\u001b[0m, in \u001b[0;36m__getattr__\u001b[0;34m(name)\u001b[0m\n\u001b[1;32m    260\u001b[0m     \u001b[38;5;28;01mfrom\u001b[39;00m \u001b[38;5;21;01mpandas\u001b[39;00m\u001b[38;5;21;01m.\u001b[39;00m\u001b[38;5;21;01mcore\u001b[39;00m\u001b[38;5;21;01m.\u001b[39;00m\u001b[38;5;21;01marrays\u001b[39;00m\u001b[38;5;21;01m.\u001b[39;00m\u001b[38;5;21;01msparse\u001b[39;00m \u001b[38;5;28;01mimport\u001b[39;00m SparseArray \u001b[38;5;28;01mas\u001b[39;00m _SparseArray\n\u001b[1;32m    262\u001b[0m     \u001b[38;5;28;01mreturn\u001b[39;00m _SparseArray\n\u001b[0;32m--> 264\u001b[0m \u001b[38;5;28;01mraise\u001b[39;00m \u001b[38;5;167;01mAttributeError\u001b[39;00m(\u001b[38;5;124mf\u001b[39m\u001b[38;5;124m\"\u001b[39m\u001b[38;5;124mmodule \u001b[39m\u001b[38;5;124m'\u001b[39m\u001b[38;5;124mpandas\u001b[39m\u001b[38;5;124m'\u001b[39m\u001b[38;5;124m has no attribute \u001b[39m\u001b[38;5;124m'\u001b[39m\u001b[38;5;132;01m{\u001b[39;00mname\u001b[38;5;132;01m}\u001b[39;00m\u001b[38;5;124m'\u001b[39m\u001b[38;5;124m\"\u001b[39m)\n",
      "\u001b[0;31mAttributeError\u001b[0m: module 'pandas' has no attribute 'nan'"
     ]
    }
   ],
   "source": [
    "check_column_length(data, 'free_text', 2)"
   ]
  },
  {
   "cell_type": "code",
   "execution_count": null,
   "id": "64e9f059-094d-4833-9657-31449498c46a",
   "metadata": {},
   "outputs": [],
   "source": []
  }
 ],
 "metadata": {
  "kernelspec": {
   "display_name": "Python 3 (ipykernel)",
   "language": "python",
   "name": "python3"
  },
  "language_info": {
   "codemirror_mode": {
    "name": "ipython",
    "version": 3
   },
   "file_extension": ".py",
   "mimetype": "text/x-python",
   "name": "python",
   "nbconvert_exporter": "python",
   "pygments_lexer": "ipython3",
   "version": "3.10.6"
  }
 },
 "nbformat": 4,
 "nbformat_minor": 5
}
