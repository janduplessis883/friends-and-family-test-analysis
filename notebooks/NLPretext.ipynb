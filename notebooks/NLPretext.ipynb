{
 "cells": [
  {
   "cell_type": "markdown",
   "id": "3cde8fe2",
   "metadata": {},
   "source": [
    "# NLPretext"
   ]
  },
  {
   "cell_type": "code",
   "execution_count": 4,
   "id": "4b1bb329",
   "metadata": {},
   "outputs": [
    {
     "name": "stdout",
     "output_type": "stream",
     "text": [
      "The autoreload extension is already loaded. To reload it, use:\n",
      "  %reload_ext autoreload\n"
     ]
    }
   ],
   "source": [
    "from nlpretext import Preprocessor\n",
    "import pandas as pd \n",
    "import seaborn as sns\n",
    "import matplotlib.pyplot as plt\n",
    "import warnings\n",
    "warnings.filterwarnings(\"ignore\", category=UserWarning)\n",
    "\n",
    "%load_ext autoreload\n",
    "%autoreload 2\n",
    "\n",
    "from friendsfamilytest.data import *\n",
    "from friendsfamilytest.params import *\n",
    "from friendsfamilytest.utils import *"
   ]
  },
  {
   "cell_type": "code",
   "execution_count": 7,
   "id": "b3e070b1",
   "metadata": {},
   "outputs": [
    {
     "name": "stderr",
     "output_type": "stream",
     "text": [
      "\u001b[32m2024-03-26 07:38:12.405\u001b[0m | \u001b[1mINFO    \u001b[0m | \u001b[36mfriendsfamilytest.utils\u001b[0m:\u001b[36mwrapper\u001b[0m:\u001b[36m90\u001b[0m - \u001b[1m🖥️    Started: 'load_google_sheet'\u001b[0m\n",
      "\u001b[32m2024-03-26 07:38:15.807\u001b[0m | \u001b[1mINFO    \u001b[0m | \u001b[36mfriendsfamilytest.utils\u001b[0m:\u001b[36mwrapper\u001b[0m:\u001b[36m96\u001b[0m - \u001b[1m✅ Completed: 'load_google_sheet' ⚡️3.400271 sec\u001b[0m\n"
     ]
    },
    {
     "data": {
      "text/html": [
       "<div>\n",
       "<style scoped>\n",
       "    .dataframe tbody tr th:only-of-type {\n",
       "        vertical-align: middle;\n",
       "    }\n",
       "\n",
       "    .dataframe tbody tr th {\n",
       "        vertical-align: top;\n",
       "    }\n",
       "\n",
       "    .dataframe thead th {\n",
       "        text-align: right;\n",
       "    }\n",
       "</style>\n",
       "<table border=\"1\" class=\"dataframe\">\n",
       "  <thead>\n",
       "    <tr style=\"text-align: right;\">\n",
       "      <th></th>\n",
       "      <th>time</th>\n",
       "      <th>rating</th>\n",
       "      <th>free_text</th>\n",
       "      <th>do_better</th>\n",
       "      <th>surgery</th>\n",
       "    </tr>\n",
       "  </thead>\n",
       "  <tbody>\n",
       "    <tr>\n",
       "      <th>0</th>\n",
       "      <td>2023-07-13 15:28:22</td>\n",
       "      <td>Extremely likely</td>\n",
       "      <td>Very friendly caring staff, treated me with re...</td>\n",
       "      <td>Keep it up</td>\n",
       "      <td>Earls Court Surgery</td>\n",
       "    </tr>\n",
       "    <tr>\n",
       "      <th>1</th>\n",
       "      <td>2023-07-13 15:29:16</td>\n",
       "      <td>Extremely likely</td>\n",
       "      <td>so good so confidential</td>\n",
       "      <td></td>\n",
       "      <td>Earls Court Surgery</td>\n",
       "    </tr>\n",
       "  </tbody>\n",
       "</table>\n",
       "</div>"
      ],
      "text/plain": [
       "                 time            rating  \\\n",
       "0 2023-07-13 15:28:22  Extremely likely   \n",
       "1 2023-07-13 15:29:16  Extremely likely   \n",
       "\n",
       "                                           free_text   do_better  \\\n",
       "0  Very friendly caring staff, treated me with re...  Keep it up   \n",
       "1                            so good so confidential               \n",
       "\n",
       "               surgery  \n",
       "0  Earls Court Surgery  \n",
       "1  Earls Court Surgery  "
      ]
     },
     "execution_count": 7,
     "metadata": {},
     "output_type": "execute_result"
    }
   ],
   "source": [
    "data = load_google_sheet()\n",
    "data.head(2)"
   ]
  },
  {
   "cell_type": "code",
   "execution_count": 15,
   "id": "02ba1911",
   "metadata": {},
   "outputs": [
    {
     "name": "stdout",
     "output_type": "stream",
     "text": [
      "Very friendly caring staff, treated me with respect and listened to my problem\n",
      "so good so confidential\n",
      "The doctor was very understanding and very knowledgeable.\n",
      "Dr E was extremely nice \n",
      "I was spoken to politely on the phone and a telephone appointment arranged with my doctor which due to a mistake on a locked phone I wasn’t able to answer but I was called back twice to complete my assessment of my health worry. \n",
      "\n",
      "Very professional and very kind. I feel comfortable when I attend my appointment there. \n",
      "Faster appointment & treatment ..\n",
      "Love the practice\n",
      "The nurse Miss A was absolutely amazing, understanding, kind, fun, thorough, careful! She is the best!\n",
      "I have been with surgery for considerable  years and was well looked after by Dr Param & hoping the work ethic continues, apart that good service, good location etc\n",
      "Efficient, friendly  staff \n",
      "Good service \n",
      "Because the staff are very helpful \n",
      "Nurse A is really helpful and look after us. \n",
      "Friendly,  professional and easily accessible \n",
      "Dr great\n",
      "The receptionist was really very very helpful\n",
      "Happy with my doctor  .\n",
      "\n",
      "I was there treated properly. \n",
      "Satisfied the service \n",
      "All the colleagues are nice and professional \n",
      "\n",
      "staff at surger\n",
      "The GP was very calm, friendly and helpful\n",
      "I’m with Earl's Court Surgery about 20 years. I’m very happy. They do excellent service \n",
      "Care and good service….. What more does a patient wants \n",
      "I always manage to get an appointment with the Doctor or nurse within a reasonable timeframe. I feel the Doctor and nurses are competent and attentive \n",
      "Coz never  put me down \n",
      "Immediate appointment, great doctor and very caring staff\n",
      "Friendly and good \n",
      "I did not have an appointment with the surgery! I had one with Earls court fitness centre? \n",
      "\n",
      "\n",
      "\n",
      "Love the practice\n",
      "Help what I need,thank you so much.\n",
      "Not caring practice I am afraid \n",
      "\n"
     ]
    }
   ],
   "source": [
    "for text in data['free_text'][:40]:\n",
    "    print(text)"
   ]
  },
  {
   "cell_type": "code",
   "execution_count": null,
   "id": "b86e60ef",
   "metadata": {},
   "outputs": [],
   "source": []
  },
  {
   "cell_type": "code",
   "execution_count": null,
   "id": "47179b16",
   "metadata": {},
   "outputs": [],
   "source": []
  },
  {
   "cell_type": "code",
   "execution_count": 20,
   "id": "946898f1",
   "metadata": {},
   "outputs": [
    {
     "name": "stdout",
     "output_type": "stream",
     "text": [
      "i did not have an appointment with the surgery i had one with earls court fitness centre\n"
     ]
    }
   ],
   "source": [
    "from nlpretext import Preprocessor\n",
    "from nlpretext.basic.preprocess import (normalize_whitespace, remove_punct, remove_eol_characters,\n",
    "remove_stopwords, lower_text)\n",
    "from nlpretext.social.preprocess import remove_mentions, remove_hashtag, remove_emoji\n",
    "\n",
    "text = \"I did not have an appointment with the surgery! I had one with Earls court fitness centre?..  . \\n\"\n",
    "preprocessor = Preprocessor()\n",
    "preprocessor.pipe(lower_text)\n",
    "preprocessor.pipe(remove_mentions)\n",
    "preprocessor.pipe(remove_hashtag)\n",
    "#preprocessor.pipe(remove_emoji)\n",
    "preprocessor.pipe(remove_eol_characters)\n",
    "#preprocessor.pipe(remove_stopwords, args={'lang': 'en'})\n",
    "preprocessor.pipe(remove_punct)\n",
    "preprocessor.pipe(normalize_whitespace)\n",
    "text = preprocessor.run(text)\n",
    "print(text)\n",
    "# \"dinner life recommend\""
   ]
  },
  {
   "cell_type": "code",
   "execution_count": null,
   "id": "5873f23d",
   "metadata": {},
   "outputs": [],
   "source": []
  }
 ],
 "metadata": {
  "kernelspec": {
   "display_name": "Python 3 (ipykernel)",
   "language": "python",
   "name": "python3"
  },
  "language_info": {
   "codemirror_mode": {
    "name": "ipython",
    "version": 3
   },
   "file_extension": ".py",
   "mimetype": "text/x-python",
   "name": "python",
   "nbconvert_exporter": "python",
   "pygments_lexer": "ipython3",
   "version": "3.10.6"
  },
  "toc": {
   "base_numbering": 1,
   "nav_menu": {},
   "number_sections": true,
   "sideBar": true,
   "skip_h1_title": false,
   "title_cell": "Table of Contents",
   "title_sidebar": "Contents",
   "toc_cell": false,
   "toc_position": {},
   "toc_section_display": true,
   "toc_window_display": false
  }
 },
 "nbformat": 4,
 "nbformat_minor": 5
}
